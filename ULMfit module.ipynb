{
 "cells": [
  {
   "cell_type": "code",
   "execution_count": 1,
   "metadata": {},
   "outputs": [],
   "source": [
    "from fastai.text import *\n",
    "from fastai.callbacks import CSVLogger, SaveModelCallback\n",
    "from pythainlp.ulmfit import *\n",
    "from sklearn.metrics import confusion_matrix, f1_score\n",
    "from fastai.utils.mem import GPUMemTrace"
   ]
  },
  {
   "cell_type": "code",
   "execution_count": 2,
   "metadata": {},
   "outputs": [],
   "source": [
    "import seaborn as sns\n",
    "import os\n",
    "import pandas as pd\n",
    "import numpy as np\n",
    "import json\n",
    "import matplotlib.pyplot as plt"
   ]
  },
  {
   "cell_type": "code",
   "execution_count": 2,
   "metadata": {},
   "outputs": [
    {
     "ename": "NameError",
     "evalue": "name 'tr' is not defined",
     "output_type": "error",
     "traceback": [
      "\u001b[0;31m---------------------------------------------------------------------------\u001b[0m",
      "\u001b[0;31mNameError\u001b[0m                                 Traceback (most recent call last)",
      "\u001b[0;32m<ipython-input-2-6770ab9c0c89>\u001b[0m in \u001b[0;36m<module>\u001b[0;34m\u001b[0m\n\u001b[1;32m      1\u001b[0m \u001b[0mmodel_path\u001b[0m \u001b[0;34m=\u001b[0m \u001b[0;34m\".\"\u001b[0m\u001b[0;34m\u001b[0m\u001b[0;34m\u001b[0m\u001b[0m\n\u001b[1;32m      2\u001b[0m \u001b[0;34m\u001b[0m\u001b[0m\n\u001b[0;32m----> 3\u001b[0;31m \u001b[0mtrain_df\u001b[0m \u001b[0;34m=\u001b[0m \u001b[0mtr\u001b[0m\u001b[0;34m\u001b[0m\u001b[0;34m\u001b[0m\u001b[0m\n\u001b[0m\u001b[1;32m      4\u001b[0m \u001b[0mvalid_df\u001b[0m \u001b[0;34m=\u001b[0m \u001b[0mte\u001b[0m\u001b[0;34m\u001b[0m\u001b[0;34m\u001b[0m\u001b[0m\n\u001b[1;32m      5\u001b[0m \u001b[0mall_df\u001b[0m \u001b[0;34m=\u001b[0m \u001b[0mpd\u001b[0m\u001b[0;34m.\u001b[0m\u001b[0mconcat\u001b[0m\u001b[0;34m(\u001b[0m\u001b[0;34m(\u001b[0m\u001b[0mtr\u001b[0m\u001b[0;34m,\u001b[0m\u001b[0mte\u001b[0m\u001b[0;34m)\u001b[0m\u001b[0;34m)\u001b[0m\u001b[0;34m\u001b[0m\u001b[0;34m\u001b[0m\u001b[0m\n",
      "\u001b[0;31mNameError\u001b[0m: name 'tr' is not defined"
     ]
    }
   ],
   "source": [
    "model_path = \".\"\n",
    "\n",
    "train_df = tr \n",
    "valid_df = te\n",
    "all_df = pd.concat((tr,te))\n",
    "\n",
    "tt = Tokenizer(tok_func=ThaiTokenizer, lang=\"th\", pre_rules=pre_rules_th, post_rules=post_rules_th)\n",
    "processor = [TokenizeProcessor(tokenizer=tt, chunksize=10000, mark_fields=False),\n",
    "            NumericalizeProcessor(vocab=None, max_vocab=60000, min_freq=2)]\n",
    "\n",
    "data_lm = (TextList.from_df(all_df, model_path, cols=\"texts\", processor=processor)\n",
    "    .split_by_rand_pct(valid_pct = 0.2, seed = 1412)\n",
    "    .label_for_lm()\n",
    "    .databunch(bs=48))\n",
    "data_lm.sanity_check()\n",
    "data_lm.save('test_lm.pkl')\n",
    "print(len(data_lm.train_ds))\n",
    "print(len(data_lm.valid_ds))\n",
    "\n",
    "config = dict(emb_sz=400, n_hid=1550, n_layers=4, pad_token=1, qrnn=False, tie_weights=True, out_bias=True,\n",
    "             output_p=0.25, hidden_p=0.1, input_p=0.2, embed_p=0.02, weight_p=0.15)\n",
    "\n",
    "trn_args = dict(drop_mult=1., clip=0.12, alpha=2, beta=1)\n",
    "\n",
    "learn = language_model_learner(data_lm, AWD_LSTM, config=config, pretrained=False, **trn_args)\n",
    "\n",
    "#load pretrained models\n",
    "learn.load_pretrained(**_THWIKI_LSTM)\n",
    "\n",
    "#train unfrozen\n",
    "print(\"training unfrozen\")\n",
    "learn.unfreeze()\n",
    "learn.fit_one_cycle(6, 1e-3, moms=(0.8, 0.7))\n",
    "\n",
    "learn.save_encoder('CS_enc')"
   ]
  },
  {
   "cell_type": "code",
   "execution_count": null,
   "metadata": {},
   "outputs": [],
   "source": [
    "data_lm = load_data(model_path, \"test_lm.pkl\")\n",
    "data_lm.sanity_check()\n",
    "\n",
    "#classification data\n",
    "tt = Tokenizer(tok_func=ThaiTokenizer, lang=\"th\", pre_rules=pre_rules_th, post_rules=post_rules_th)\n",
    "processor = [TokenizeProcessor(tokenizer=tt, chunksize=10000, mark_fields=False),\n",
    "            NumericalizeProcessor(vocab=data_lm.vocab, max_vocab=60000, min_freq=20)]\n",
    "\n",
    "data_cls = (ItemLists(model_path,train=TextList.from_df(tr, model_path, cols=[\"texts\"], processor=processor),\n",
    "                     valid=TextList.from_df(te, model_path, cols=[\"texts\"], processor=processor))\n",
    "    .label_from_df(\"labels\")\n",
    "    .databunch(bs=50)\n",
    "    )\n",
    "data_cls.sanity_check()\n",
    "print(len(data_cls.vocab.itos))\n",
    "\n",
    "#model\n",
    "config = dict(emb_sz=400, n_hid=1550, n_layers=4, pad_token=1, qrnn=False,\n",
    "             output_p=0.4, hidden_p=0.2, input_p=0.6, embed_p=0.1, weight_p=0.5)\n",
    "trn_args = dict(bptt=70, drop_mult=0.7, alpha=2, beta=1, max_len=500)\n",
    "\n",
    "learn = text_classifier_learner(data_cls, AWD_LSTM, config=config, pretrained=False, **trn_args)\n",
    "#load pretrained finetuned model\n",
    "learn.load_encoder(\"CS_enc\")\n",
    "\n",
    "#train unfrozen\n",
    "learn.freeze_to(-1)\n",
    "learn.fit_one_cycle(1, 2e-2, moms=(0.8, 0.7))\n",
    "learn.freeze_to(-2)\n",
    "learn.fit_one_cycle(1, slice(1e-2 / (2.6 ** 4), 1e-2), moms=(0.8, 0.7))\n",
    "learn.freeze_to(-3)\n",
    "learn.fit_one_cycle(1, slice(5e-3 / (2.6 ** 4), 5e-3), moms=(0.8, 0.7))\n",
    "learn.unfreeze()\n",
    "learn.fit_one_cycle(10, slice(1e-3 / (2.6 ** 4), 1e-3), moms=(0.8, 0.7),\n",
    "                   callbacks=[SaveModelCallback(learn, every='improvement', monitor='accuracy', name='bestmodel')])\n",
    "\n",
    "learn.load(\"bestmodel\")\n",
    "\n",
    "#get predictions\n",
    "probs, y_true, loss = learn.get_preds(ds_type = DatasetType.Valid, ordered=True, with_loss=True)\n",
    "classes = learn.data.train_ds.classes\n",
    "y_true = np.array([classes[i] for i in y_true.numpy()])\n",
    "preds = np.array([classes[i] for i in probs.argmax(1).numpy()])\n",
    "prob = probs.numpy()\n",
    "loss = loss.numpy()\n",
    "\n",
    "to_df = np.concatenate([y_true[:,None],preds[:,None],loss[:,None],prob],1)\n",
    "probs_df = pd.DataFrame(to_df)\n",
    "probs_df.columns = [\"category\",\"preds\",\"loss\"] + classes\n",
    "probs_df[\"hit\"] = (probs_df.category == probs_df.preds)\n",
    "probs_df[\"texts\"] = valid_df.texts\n",
    "(y_true==preds).mean()\n",
    "\n",
    "conf_mat = confusion_matrix(probs_df.category,probs_df.preds)\n",
    "sns.heatmap(conf_mat, annot=True, fmt=\"d\",\n",
    "            xticklabels=classes, yticklabels=classes)\n",
    "plt.ylabel(\"Actual\")\n",
    "plt.xlabel(\"Predicted\")\n",
    "plt.show()"
   ]
  },
  {
   "cell_type": "code",
   "execution_count": 3,
   "metadata": {},
   "outputs": [],
   "source": [
    "from fastai.callbacks.tracker import TrackerCallback, EarlyStoppingCallback"
   ]
  },
  {
   "cell_type": "code",
   "execution_count": 4,
   "metadata": {},
   "outputs": [],
   "source": [
    "class SaveEncoderCallback(TrackerCallback):\n",
    "    \"A `TrackerCallback` that saves the model when monitored quantity is best.\"\n",
    "    def __init__(self, learn:Learner, monitor:str='valid_loss', mode:str='auto', every:str='improvement', name:str='bestmodel'):\n",
    "        super().__init__(learn, monitor=monitor, mode=mode)\n",
    "        self.every,self.name = every,name\n",
    "        if self.every not in ['improvement', 'epoch']:\n",
    "            warn(f'SaveModel every {self.every} is invalid, falling back to \"improvement\".')\n",
    "            self.every = 'improvement'\n",
    "\n",
    "    def jump_to_epoch(self, epoch:int)->None:\n",
    "        try:\n",
    "            self.learn.load(f'{self.name}_{epoch-1}', purge=False)\n",
    "            print(f\"Loaded {self.name}_{epoch-1}\")\n",
    "        except: print(f'Model {self.name}_{epoch-1} not found.')\n",
    "\n",
    "    def on_epoch_end(self, epoch:int, **kwargs:Any)->None:\n",
    "        \"Compare the value monitored to its best score and maybe save the model.\"\n",
    "        if self.every==\"epoch\": self.learn.save(f'{self.name}_{epoch}')\n",
    "        else: #every=\"improvement\"\n",
    "            current = self.get_monitor_value()\n",
    "            if isinstance(current, Tensor): current = current.cpu()\n",
    "            if current is not None and self.operator(current, self.best):\n",
    "                print(f'Better model found at epoch {epoch} with {self.monitor} value: {current}.')\n",
    "                self.best = current\n",
    "                self.learn.save_encoder(f'{self.name}')"
   ]
  },
  {
   "cell_type": "code",
   "execution_count": 25,
   "metadata": {},
   "outputs": [],
   "source": [
    "class ULMfit_for_predict():\n",
    "    def __init__(self,\n",
    "                 model_path):\n",
    "        data_lm = load_data(model_path, \"language_model_data.pkl\")\n",
    "        data_lm.sanity_check()\n",
    "        cur_path = os.getcwd()\n",
    "        os.chdir(model_path)\n",
    "        tr = pd.read_csv('train.csv')\n",
    "        te = pd.read_csv('test.csv')\n",
    "        os.chdir(cur_path)\n",
    "        #classification data\n",
    "        tt = Tokenizer(tok_func=ThaiTokenizer, lang=\"th\", pre_rules=pre_rules_th, post_rules=post_rules_th)\n",
    "        processor = [TokenizeProcessor(tokenizer=tt, chunksize=10000, mark_fields=False),\n",
    "                    NumericalizeProcessor(vocab=data_lm.vocab, max_vocab=60000, min_freq=20)]\n",
    "\n",
    "        data_cls = (ItemLists(model_path,train=TextList.from_df(tr, model_path, cols=[\"texts\"], processor=processor),\n",
    "                             valid=TextList.from_df(te, model_path, cols=[\"texts\"], processor=processor))\n",
    "            .label_from_df(\"labels\")\n",
    "            .databunch(bs=50)\n",
    "            )\n",
    "        data_cls.sanity_check()\n",
    "#         print(len(data_cls.vocab.itos))\n",
    "\n",
    "        config = dict(emb_sz=400, n_hid=1550, n_layers=4, pad_token=1, qrnn=False,\n",
    "                     output_p=0.4, hidden_p=0.2, input_p=0.6, embed_p=0.1, weight_p=0.5)\n",
    "        trn_args = dict(bptt=70, drop_mult=0.7, alpha=2, beta=1, max_len=500)\n",
    "\n",
    "        self.learn = text_classifier_learner(data_cls, AWD_LSTM, config=config, pretrained=False, **trn_args)\n",
    "        self.learn.load(\"bestmodel\")\n",
    "        self.classes = self.learn.data.train_ds.classes\n",
    "    def predict(self,\n",
    "                raw_text):\n",
    "        dictionary = {}\n",
    "        x = self.learn.predict(raw_text)[2].numpy()\n",
    "        for ind, tmp_class in enumerate(self.classes):\n",
    "            dictionary[tmp_class] = x[ind]\n",
    "        return dictionary\n",
    "    \n",
    "class ULMfit_model():\n",
    "    # to train using ULMfit\n",
    "    # 1. Fine-tuning the language model is needed\n",
    "    # 2. Train the classifier\n",
    "    def __init__(self,\n",
    "                 data_for_lm, \n",
    "                 model_path: '(str) locate to the folder dont specify in any extension'):\n",
    "        self.model_path = model_path\n",
    "        self.tt = Tokenizer(tok_func=ThaiTokenizer, lang=\"th\", pre_rules=pre_rules_th, post_rules=post_rules_th)\n",
    "        self.processor = [TokenizeProcessor(tokenizer=self.tt, chunksize=10000, mark_fields=False),\n",
    "                    NumericalizeProcessor(vocab=None, max_vocab=60000, min_freq=2)]\n",
    "        \n",
    "        self.data_lm = (TextList.from_df(data_for_lm, self.model_path, cols=\"texts\", processor=self.processor)\n",
    "            .split_by_rand_pct(valid_pct = 0.2, seed = 123)\n",
    "            .label_for_lm()\n",
    "            .databunch(bs=48))\n",
    "        self.data_lm.save('language_model_data.pkl')\n",
    "        self.data_lm.sanity_check()\n",
    "        print(f'number of training samples: {len(self.data_lm.train_ds)}')\n",
    "        print(f'number of test samples: {len(self.data_lm.valid_ds)}')\n",
    "        self.learn = None\n",
    "        \n",
    "    def fit_lm(self):\n",
    "        config = dict(emb_sz=400, n_hid=1550, n_layers=4, pad_token=1, qrnn=False, tie_weights=True, out_bias=True,\n",
    "             output_p=0.25, hidden_p=0.1, input_p=0.2, embed_p=0.02, weight_p=0.15)\n",
    "\n",
    "        trn_args = dict(drop_mult=1., clip=0.12, alpha=2, beta=1)\n",
    "\n",
    "        self.learn = language_model_learner(self.data_lm, AWD_LSTM, config=config, pretrained=False, **trn_args)\n",
    "\n",
    "        #load pretrained models\n",
    "        self.learn.load_pretrained(**_THWIKI_LSTM)\n",
    "\n",
    "        #train unfrozen\n",
    "        print(\"training unfrozen\")\n",
    "#         with GPUMemTrace():\n",
    "        self.learn.unfreeze()\n",
    "\n",
    "        self.learn.fit_one_cycle(3, 1e-3, moms=(0.8, 0.7),\n",
    "                                 callbacks=[SaveEncoderCallback(self.learn, every='improvement', monitor='accuracy', name='LM'),\n",
    "                                            EarlyStoppingCallback(self.learn, min_delta=0.0, patience=5)])\n",
    "    def fit_classifier(self,\n",
    "                       tr,\n",
    "                       te):\n",
    "        self.processor = [TokenizeProcessor(tokenizer=self.tt, chunksize=10000, mark_fields=False),\n",
    "            NumericalizeProcessor(vocab=self.data_lm.vocab, max_vocab=60000, min_freq=20)]\n",
    "\n",
    "        self.data_cls = (ItemLists(self.model_path,train=TextList.from_df(tr, self.model_path, cols=[\"texts\"], processor=self.processor),\n",
    "                             valid=TextList.from_df(te, self.model_path, cols=[\"texts\"], processor=self.processor))\n",
    "            .label_from_df(\"labels\")\n",
    "            .databunch(bs=50)\n",
    "            )\n",
    "        tr.to_csv(os.path.join(self.model_path, 'train.csv'), index=False)\n",
    "        te.to_csv(os.path.join(self.model_path, 'test.csv'), index=False)\n",
    "#         self.data_cls.save('data_cls.pkl')\n",
    "        self.data_cls.sanity_check()\n",
    "        print(f'total vocab size: {len(self.data_cls.vocab.itos)}')\n",
    "\n",
    "        #model\n",
    "        config = dict(emb_sz=400, n_hid=1550, n_layers=4, pad_token=1, qrnn=False,\n",
    "                     output_p=0.4, hidden_p=0.2, input_p=0.6, embed_p=0.1, weight_p=0.5)\n",
    "        trn_args = dict(bptt=70, drop_mult=0.7, alpha=2, beta=1, max_len=500)\n",
    "\n",
    "        self.learn = text_classifier_learner(self.data_cls, AWD_LSTM, config=config, pretrained=False, **trn_args)\n",
    "        #load pretrained finetuned model\n",
    "        self.learn.load_encoder(\"./LM\")\n",
    "\n",
    "        #train unfrozen\n",
    "#         with GPUMemTrace():\n",
    "        self.learn.freeze_to(-1)\n",
    "        self.learn.fit_one_cycle(1, 2e-2, moms=(0.8, 0.7))\n",
    "        self.learn.freeze_to(-2)\n",
    "        self.learn.fit_one_cycle(1, slice(1e-2 / (2.6 ** 4), 1e-2), moms=(0.8, 0.7))\n",
    "        self.learn.freeze_to(-3)\n",
    "        self.learn.fit_one_cycle(1, slice(5e-3 / (2.6 ** 4), 5e-3), moms=(0.8, 0.7))\n",
    "        self.learn.unfreeze()\n",
    "        self.learn.fit_one_cycle(3, slice(1e-3 / (2.6 ** 4), 1e-3), moms=(0.8, 0.7),\n",
    "                           callbacks=[SaveModelCallback(self.learn, every='improvement', monitor='accuracy', name='bestmodel'),\n",
    "                                      EarlyStoppingCallback(self.learn, min_delta=0.0, patience=5)])\n",
    "\n",
    "        self.learn.load(\"bestmodel\")\n",
    "\n",
    "        #get predictions\n",
    "        probs, y_true, loss = self.learn.get_preds(ds_type = DatasetType.Valid, ordered=True, with_loss=True)\n",
    "        classes = self.learn.data.train_ds.classes\n",
    "        y_true = np.array([classes[i] for i in y_true.numpy()])\n",
    "        preds = np.array([classes[i] for i in probs.argmax(1).numpy()])\n",
    "        prob = probs.numpy()\n",
    "        loss = loss.numpy()\n",
    "\n",
    "        to_df = np.concatenate([y_true[:,None],preds[:,None],loss[:,None],prob],1)\n",
    "        probs_df = pd.DataFrame(to_df)\n",
    "        probs_df.columns = [\"category\",\"preds\",\"loss\"] + classes\n",
    "        probs_df[\"hit\"] = (probs_df.category == probs_df.preds)\n",
    "        probs_df[\"texts\"] = te.texts\n",
    "        (y_true==preds).mean()\n",
    "\n",
    "        conf_mat = confusion_matrix(probs_df.category,probs_df.preds)\n",
    "        sns.heatmap(conf_mat, annot=True, fmt=\"d\",\n",
    "                    xticklabels=classes, yticklabels=classes)\n",
    "        plt.ylabel(\"Actual\")\n",
    "        plt.xlabel(\"Predicted\")\n",
    "        plt.show()\n",
    "        \n",
    "        f1s = f1_score(probs_df.category, probs_df.preds, average=None)\n",
    "        print(f'f1-scores for each class: {f1s}')\n",
    "        print(f'Weighted avg f1-score: {f1_score(probs_df.category, probs_df.preds, average=\"weighted\")}, Unweighted avf f1-score: {np.mean(f1s)}')\n",
    "        "
   ]
  },
  {
   "cell_type": "code",
   "execution_count": null,
   "metadata": {},
   "outputs": [],
   "source": []
  },
  {
   "cell_type": "code",
   "execution_count": 4,
   "metadata": {},
   "outputs": [
    {
     "data": {
      "text/plain": [
       "'/home/kamin'"
      ]
     },
     "execution_count": 4,
     "metadata": {},
     "output_type": "execute_result"
    }
   ],
   "source": [
    "os.chdir('..')\n",
    "os.getcwd()"
   ]
  },
  {
   "cell_type": "code",
   "execution_count": 5,
   "metadata": {},
   "outputs": [],
   "source": [
    "tr = pd.read_csv('train_RS_123.csv')\n",
    "# tr.head()\n",
    "te = pd.read_csv('test_RS_123.csv')\n",
    "# te.head()\n",
    "tr = tr.dropna().reset_index(drop=True)\n",
    "te = te.dropna().reset_index(drop=True)"
   ]
  },
  {
   "cell_type": "code",
   "execution_count": 6,
   "metadata": {},
   "outputs": [],
   "source": [
    "with open('BAY_pantip.json', 'r', encoding='utf8') as f:\n",
    "    data = json.load(f)"
   ]
  },
  {
   "cell_type": "code",
   "execution_count": 7,
   "metadata": {},
   "outputs": [],
   "source": [
    "tmp = []\n",
    "for i in data:\n",
    "    i = data[i].strip()\n",
    "    if i != '':\n",
    "        i = i.split('\\n')\n",
    "        for j in i:\n",
    "            j = j.strip()\n",
    "            if j != '':\n",
    "                tmp.append(j)"
   ]
  },
  {
   "cell_type": "code",
   "execution_count": 8,
   "metadata": {},
   "outputs": [
    {
     "data": {
      "text/plain": [
       "121111"
      ]
     },
     "execution_count": 8,
     "metadata": {},
     "output_type": "execute_result"
    }
   ],
   "source": [
    "len(tmp)"
   ]
  },
  {
   "cell_type": "code",
   "execution_count": 9,
   "metadata": {},
   "outputs": [
    {
     "name": "stdout",
     "output_type": "stream",
     "text": [
      "จ่ายเงินเฟิสช้อยขาด\n",
      "จ่ายเฟิร์สช้อยขาดไป 60 บาท เป็นอะไรมั้ยค่ะ\n",
      "โดนดอกเบี้ยสิจ๊ะ นับตั้งแต่วันที่รูดนะไม่ใช่วันที่จ่ายแล้วขาด60บาท\n",
      "รีบจ่ายให้ครบก่อนเกินกำหนด ไม่งั้นจะโดนคิดดอกเบี้ย\n",
      "โดนดอกเบี้ยสิจ๊ะ นับตั้งแต่วันที่รูดนะไม่ใช่วันที่จ่ายแล้วขาด60บาท\n",
      "รีบไปจ่ายเลยจ้าไม่งั้นโดนดอกเพื่ม\n",
      "ไม่เป็นไร เพราะ สมมุติจ่ายขาดไป 60 บาท จากยอดรูดทั้งหมดในรอบบิลนั้น 10,000 บาท จะโดนคิดดอก18% ทุกรายการจากยอด 10,000 ไม่ใช่ 60 บาท\n",
      "ไม่งงนะ\n",
      "สวัสดีครับ คุณสมาชิกหมายเลข 4217582\n",
      "อย่างไรแล้วทางเจ้าหน้าที่ขอทราบชื่อ - นามสกุล เบอร์ติดต่อ พร้อมแนบ link กระทู้นี้ให้เจ้าหน้าทางหลังไมค์ด้วยครับ เจ้าหน้าที่จะได้ตรวจสอบข้อมูล และ แจ้งรายละเอียดให้ทราบโดยตรง\n",
      "ขอบคุณครับ\n",
      "กดแอพธนาคารในโทรศัพท์แล้วกดจ่ายเพิ่มเข้าไปอีก 60 บาทค่ะไม่งั้นบิลหน้มีดอกเบี้ยโผล่มาให้ตกใจอีกนะคะ\n"
     ]
    }
   ],
   "source": [
    "for ind, i in enumerate(tmp):\n",
    "    print(i)\n",
    "    if ind > 10:\n",
    "        break"
   ]
  },
  {
   "cell_type": "code",
   "execution_count": 10,
   "metadata": {},
   "outputs": [],
   "source": [
    "tmp = list(set(tmp))"
   ]
  },
  {
   "cell_type": "code",
   "execution_count": 11,
   "metadata": {},
   "outputs": [],
   "source": [
    "tmp = [i.strip() for i in tmp if len(i.strip()) >= 15]"
   ]
  },
  {
   "cell_type": "code",
   "execution_count": 12,
   "metadata": {},
   "outputs": [
    {
     "data": {
      "text/plain": [
       "100522"
      ]
     },
     "execution_count": 12,
     "metadata": {},
     "output_type": "execute_result"
    }
   ],
   "source": [
    "len(tmp)"
   ]
  },
  {
   "cell_type": "code",
   "execution_count": 13,
   "metadata": {},
   "outputs": [
    {
     "data": {
      "image/png": "[encoded data removed]",
      "text/plain": [
       "<Figure size 432x288 with 1 Axes>"
      ]
     },
     "metadata": {
      "needs_background": "light"
     },
     "output_type": "display_data"
    }
   ],
   "source": [
    "x = [len(i) for i in tmp]\n",
    "plt.hist(x,50)\n",
    "plt.show()"
   ]
  },
  {
   "cell_type": "code",
   "execution_count": 14,
   "metadata": {},
   "outputs": [
    {
     "data": {
      "text/plain": [
       "93.92135055012832"
      ]
     },
     "execution_count": 14,
     "metadata": {},
     "output_type": "execute_result"
    }
   ],
   "source": [
    "np.mean(x)"
   ]
  },
  {
   "cell_type": "code",
   "execution_count": 15,
   "metadata": {},
   "outputs": [],
   "source": [
    "y = sorted(x, reverse=True)\n",
    "y = y[int(len(y)*0.01):]"
   ]
  },
  {
   "cell_type": "code",
   "execution_count": 16,
   "metadata": {},
   "outputs": [
    {
     "data": {
      "image/png": "[encoded data removed]",
      "text/plain": [
       "<Figure size 432x288 with 1 Axes>"
      ]
     },
     "metadata": {
      "needs_background": "light"
     },
     "output_type": "display_data"
    }
   ],
   "source": [
    "plt.hist(y,50)\n",
    "plt.show()"
   ]
  },
  {
   "cell_type": "code",
   "execution_count": 17,
   "metadata": {},
   "outputs": [],
   "source": [
    "data_for_lm = pd.DataFrame({'texts': tmp})"
   ]
  },
  {
   "cell_type": "code",
   "execution_count": 18,
   "metadata": {},
   "outputs": [],
   "source": [
    "os.chdir('Thai_NLP')"
   ]
  },
  {
   "cell_type": "code",
   "execution_count": 19,
   "metadata": {},
   "outputs": [],
   "source": [
    "from ulmfit import ULMfit_for_predict, ULMfit_model"
   ]
  },
  {
   "cell_type": "code",
   "execution_count": 20,
   "metadata": {},
   "outputs": [],
   "source": [
    "from tqdm import trange"
   ]
  },
  {
   "cell_type": "code",
   "execution_count": 21,
   "metadata": {},
   "outputs": [],
   "source": [
    "os.getcwd()\n",
    "os.chdir('..')"
   ]
  },
  {
   "cell_type": "code",
   "execution_count": 25,
   "metadata": {},
   "outputs": [
    {
     "data": {
      "text/html": [],
      "text/plain": [
       "<IPython.core.display.HTML object>"
      ]
     },
     "metadata": {},
     "output_type": "display_data"
    },
    {
     "data": {
      "text/html": [],
      "text/plain": [
       "<IPython.core.display.HTML object>"
      ]
     },
     "metadata": {},
     "output_type": "display_data"
    },
    {
     "name": "stdout",
     "output_type": "stream",
     "text": [
      "number of training samples: 80\n",
      "number of test samples: 20\n"
     ]
    }
   ],
   "source": [
    "model_path = './Untitled Folder 1'\n",
    "model = ULMfit_model(tr.iloc[:100], model_path)"
   ]
  },
  {
   "cell_type": "code",
   "execution_count": 26,
   "metadata": {
    "scrolled": true
   },
   "outputs": [
    {
     "name": "stdout",
     "output_type": "stream",
     "text": [
      "training unfrozen\n"
     ]
    },
    {
     "data": {
      "text/html": [
       "<table border=\"1\" class=\"dataframe\">\n",
       "  <thead>\n",
       "    <tr style=\"text-align: left;\">\n",
       "      <th>epoch</th>\n",
       "      <th>train_loss</th>\n",
       "      <th>valid_loss</th>\n",
       "      <th>accuracy</th>\n",
       "      <th>time</th>\n",
       "    </tr>\n",
       "  </thead>\n",
       "  <tbody>\n",
       "    <tr>\n",
       "      <td>0</td>\n",
       "      <td>4.617828</td>\n",
       "      <td>3.285137</td>\n",
       "      <td>0.293452</td>\n",
       "      <td>00:08</td>\n",
       "    </tr>\n",
       "    <tr>\n",
       "      <td>1</td>\n",
       "      <td>4.565338</td>\n",
       "      <td>2.688225</td>\n",
       "      <td>0.447619</td>\n",
       "      <td>00:08</td>\n",
       "    </tr>\n",
       "    <tr>\n",
       "      <td>2</td>\n",
       "      <td>4.302119</td>\n",
       "      <td>2.575235</td>\n",
       "      <td>0.470238</td>\n",
       "      <td>00:08</td>\n",
       "    </tr>\n",
       "  </tbody>\n",
       "</table>"
      ],
      "text/plain": [
       "<IPython.core.display.HTML object>"
      ]
     },
     "metadata": {},
     "output_type": "display_data"
    },
    {
     "name": "stderr",
     "output_type": "stream",
     "text": [
      "/home/kamin/.virtualenv/dev36/lib/python3.6/site-packages/torch/tensor.py:746: UserWarning: The .grad attribute of a Tensor that is not a leaf Tensor is being accessed. Its .grad attribute won't be populated during autograd.backward(). If you indeed want the gradient for a non-leaf Tensor, use .retain_grad() on the non-leaf Tensor. If you access the non-leaf Tensor by mistake, make sure you access the leaf Tensor instead. See github.com/pytorch/pytorch/pull/30531 for more informations.\n",
      "  warnings.warn(\"The .grad attribute of a Tensor that is not a leaf Tensor is being accessed. Its .grad \"\n"
     ]
    },
    {
     "name": "stdout",
     "output_type": "stream",
     "text": [
      "Better model found at epoch 0 with accuracy value: 0.2934523820877075.\n"
     ]
    },
    {
     "name": "stderr",
     "output_type": "stream",
     "text": [
      "/home/kamin/.virtualenv/dev36/lib/python3.6/site-packages/torch/tensor.py:746: UserWarning: The .grad attribute of a Tensor that is not a leaf Tensor is being accessed. Its .grad attribute won't be populated during autograd.backward(). If you indeed want the gradient for a non-leaf Tensor, use .retain_grad() on the non-leaf Tensor. If you access the non-leaf Tensor by mistake, make sure you access the leaf Tensor instead. See github.com/pytorch/pytorch/pull/30531 for more informations.\n",
      "  warnings.warn(\"The .grad attribute of a Tensor that is not a leaf Tensor is being accessed. Its .grad \"\n"
     ]
    },
    {
     "name": "stdout",
     "output_type": "stream",
     "text": [
      "Better model found at epoch 1 with accuracy value: 0.4476190507411957.\n"
     ]
    },
    {
     "name": "stderr",
     "output_type": "stream",
     "text": [
      "/home/kamin/.virtualenv/dev36/lib/python3.6/site-packages/torch/tensor.py:746: UserWarning: The .grad attribute of a Tensor that is not a leaf Tensor is being accessed. Its .grad attribute won't be populated during autograd.backward(). If you indeed want the gradient for a non-leaf Tensor, use .retain_grad() on the non-leaf Tensor. If you access the non-leaf Tensor by mistake, make sure you access the leaf Tensor instead. See github.com/pytorch/pytorch/pull/30531 for more informations.\n",
      "  warnings.warn(\"The .grad attribute of a Tensor that is not a leaf Tensor is being accessed. Its .grad \"\n"
     ]
    },
    {
     "name": "stdout",
     "output_type": "stream",
     "text": [
      "Better model found at epoch 2 with accuracy value: 0.4702380895614624.\n"
     ]
    }
   ],
   "source": [
    "model.fit_lm()"
   ]
  },
  {
   "cell_type": "code",
   "execution_count": 27,
   "metadata": {},
   "outputs": [
    {
     "data": {
      "text/html": [],
      "text/plain": [
       "<IPython.core.display.HTML object>"
      ]
     },
     "metadata": {},
     "output_type": "display_data"
    },
    {
     "name": "stderr",
     "output_type": "stream",
     "text": [
      "/home/kamin/.virtualenv/dev36/lib/python3.6/site-packages/fastai/core.py:302: VisibleDeprecationWarning: Creating an ndarray from ragged nested sequences (which is a list-or-tuple of lists-or-tuples-or ndarrays with different lengths or shapes) is deprecated. If you meant to do this, you must specify 'dtype=object' when creating the ndarray\n",
      "  return np.array(a, dtype=dtype, **kwargs)\n"
     ]
    },
    {
     "data": {
      "text/html": [],
      "text/plain": [
       "<IPython.core.display.HTML object>"
      ]
     },
     "metadata": {},
     "output_type": "display_data"
    },
    {
     "name": "stdout",
     "output_type": "stream",
     "text": [
      "total vocab size: 112\n"
     ]
    },
    {
     "data": {
      "text/html": [
       "<table border=\"1\" class=\"dataframe\">\n",
       "  <thead>\n",
       "    <tr style=\"text-align: left;\">\n",
       "      <th>epoch</th>\n",
       "      <th>train_loss</th>\n",
       "      <th>valid_loss</th>\n",
       "      <th>accuracy</th>\n",
       "      <th>time</th>\n",
       "    </tr>\n",
       "  </thead>\n",
       "  <tbody>\n",
       "    <tr>\n",
       "      <td>0</td>\n",
       "      <td>1.246212</td>\n",
       "      <td>1.063404</td>\n",
       "      <td>0.460000</td>\n",
       "      <td>00:03</td>\n",
       "    </tr>\n",
       "  </tbody>\n",
       "</table>"
      ],
      "text/plain": [
       "<IPython.core.display.HTML object>"
      ]
     },
     "metadata": {},
     "output_type": "display_data"
    },
    {
     "data": {
      "text/html": [
       "<table border=\"1\" class=\"dataframe\">\n",
       "  <thead>\n",
       "    <tr style=\"text-align: left;\">\n",
       "      <th>epoch</th>\n",
       "      <th>train_loss</th>\n",
       "      <th>valid_loss</th>\n",
       "      <th>accuracy</th>\n",
       "      <th>time</th>\n",
       "    </tr>\n",
       "  </thead>\n",
       "  <tbody>\n",
       "    <tr>\n",
       "      <td>0</td>\n",
       "      <td>1.225631</td>\n",
       "      <td>1.034198</td>\n",
       "      <td>0.490000</td>\n",
       "      <td>00:03</td>\n",
       "    </tr>\n",
       "  </tbody>\n",
       "</table>"
      ],
      "text/plain": [
       "<IPython.core.display.HTML object>"
      ]
     },
     "metadata": {},
     "output_type": "display_data"
    },
    {
     "data": {
      "text/html": [
       "<table border=\"1\" class=\"dataframe\">\n",
       "  <thead>\n",
       "    <tr style=\"text-align: left;\">\n",
       "      <th>epoch</th>\n",
       "      <th>train_loss</th>\n",
       "      <th>valid_loss</th>\n",
       "      <th>accuracy</th>\n",
       "      <th>time</th>\n",
       "    </tr>\n",
       "  </thead>\n",
       "  <tbody>\n",
       "    <tr>\n",
       "      <td>0</td>\n",
       "      <td>0.978192</td>\n",
       "      <td>1.046586</td>\n",
       "      <td>0.480000</td>\n",
       "      <td>00:05</td>\n",
       "    </tr>\n",
       "  </tbody>\n",
       "</table>"
      ],
      "text/plain": [
       "<IPython.core.display.HTML object>"
      ]
     },
     "metadata": {},
     "output_type": "display_data"
    },
    {
     "data": {
      "text/html": [
       "<table border=\"1\" class=\"dataframe\">\n",
       "  <thead>\n",
       "    <tr style=\"text-align: left;\">\n",
       "      <th>epoch</th>\n",
       "      <th>train_loss</th>\n",
       "      <th>valid_loss</th>\n",
       "      <th>accuracy</th>\n",
       "      <th>time</th>\n",
       "    </tr>\n",
       "  </thead>\n",
       "  <tbody>\n",
       "    <tr>\n",
       "      <td>0</td>\n",
       "      <td>0.952645</td>\n",
       "      <td>1.039602</td>\n",
       "      <td>0.490000</td>\n",
       "      <td>00:09</td>\n",
       "    </tr>\n",
       "    <tr>\n",
       "      <td>1</td>\n",
       "      <td>0.925124</td>\n",
       "      <td>1.031824</td>\n",
       "      <td>0.470000</td>\n",
       "      <td>00:09</td>\n",
       "    </tr>\n",
       "    <tr>\n",
       "      <td>2</td>\n",
       "      <td>0.880903</td>\n",
       "      <td>1.029545</td>\n",
       "      <td>0.440000</td>\n",
       "      <td>00:09</td>\n",
       "    </tr>\n",
       "  </tbody>\n",
       "</table>"
      ],
      "text/plain": [
       "<IPython.core.display.HTML object>"
      ]
     },
     "metadata": {},
     "output_type": "display_data"
    },
    {
     "name": "stdout",
     "output_type": "stream",
     "text": [
      "Better model found at epoch 0 with accuracy value: 0.49000000953674316.\n"
     ]
    },
    {
     "data": {
      "text/html": [],
      "text/plain": [
       "<IPython.core.display.HTML object>"
      ]
     },
     "metadata": {},
     "output_type": "display_data"
    },
    {
     "data": {
      "image/png": "[encoded data removed]",
      "text/plain": [
       "<Figure size 432x288 with 2 Axes>"
      ]
     },
     "metadata": {
      "needs_background": "light"
     },
     "output_type": "display_data"
    },
    {
     "name": "stdout",
     "output_type": "stream",
     "text": [
      "f1-scores for each class: [0.254545 0.605042 0.461538]\n",
      "Weighted avg f1-score: 0.45510254451430926, Unweighted avf f1-score: 0.44037531096354626\n"
     ]
    }
   ],
   "source": [
    "model.fit_classifier(tr.iloc[:100],te.iloc[:100])"
   ]
  },
  {
   "cell_type": "code",
   "execution_count": 28,
   "metadata": {},
   "outputs": [],
   "source": [
    "del model"
   ]
  },
  {
   "cell_type": "code",
   "execution_count": 29,
   "metadata": {},
   "outputs": [
    {
     "data": {
      "text/html": [],
      "text/plain": [
       "<IPython.core.display.HTML object>"
      ]
     },
     "metadata": {},
     "output_type": "display_data"
    },
    {
     "name": "stderr",
     "output_type": "stream",
     "text": [
      "/home/kamin/.virtualenv/dev36/lib/python3.6/site-packages/fastai/core.py:302: VisibleDeprecationWarning: Creating an ndarray from ragged nested sequences (which is a list-or-tuple of lists-or-tuples-or ndarrays with different lengths or shapes) is deprecated. If you meant to do this, you must specify 'dtype=object' when creating the ndarray\n",
      "  return np.array(a, dtype=dtype, **kwargs)\n"
     ]
    },
    {
     "data": {
      "text/html": [],
      "text/plain": [
       "<IPython.core.display.HTML object>"
      ]
     },
     "metadata": {},
     "output_type": "display_data"
    }
   ],
   "source": [
    "x = ULMfit_for_predict(model_path)"
   ]
  },
  {
   "cell_type": "code",
   "execution_count": 37,
   "metadata": {},
   "outputs": [
    {
     "name": "stderr",
     "output_type": "stream",
     "text": [
      "100%|██████████| 10000/10000 [31:47<00:00,  5.24it/s] "
     ]
    },
    {
     "name": "stdout",
     "output_type": "stream",
     "text": [
      "CPU times: user 1h 52min 29s, sys: 51.2 s, total: 1h 53min 20s\n",
      "Wall time: 31min 47s\n"
     ]
    },
    {
     "name": "stderr",
     "output_type": "stream",
     "text": [
      "\n"
     ]
    }
   ],
   "source": [
    "%%time\n",
    "for i in trange(10000):\n",
    "    x.predict(tmp[i])"
   ]
  },
  {
   "cell_type": "code",
   "execution_count": 31,
   "metadata": {},
   "outputs": [],
   "source": [
    "os.chdir('Thai_NLP')\n",
    "from text_classification import Text_classification_for_prediction"
   ]
  },
  {
   "cell_type": "code",
   "execution_count": 32,
   "metadata": {},
   "outputs": [
    {
     "name": "stdout",
     "output_type": "stream",
     "text": [
      "loading logistic regression model\n"
     ]
    }
   ],
   "source": [
    "tc = Text_classification_for_prediction(\n",
    "    path_to_tfxidf = 'models_for_real_deployment/tf-idf_encoder.joblib',\n",
    "    model_path= 'models_for_real_deployment/text_classification',\n",
    "    engine = \"linear_classifier\")"
   ]
  },
  {
   "cell_type": "code",
   "execution_count": 38,
   "metadata": {},
   "outputs": [
    {
     "name": "stderr",
     "output_type": "stream",
     "text": [
      "100%|██████████| 10000/10000 [00:10<00:00, 913.47it/s]"
     ]
    },
    {
     "name": "stdout",
     "output_type": "stream",
     "text": [
      "CPU times: user 11.2 s, sys: 70.6 ms, total: 11.3 s\n",
      "Wall time: 10.9 s\n"
     ]
    },
    {
     "name": "stderr",
     "output_type": "stream",
     "text": [
      "\n"
     ]
    }
   ],
   "source": [
    "%%time\n",
    "for i in trange(10000):\n",
    "    tc.predict(tmp[i])"
   ]
  },
  {
   "cell_type": "code",
   "execution_count": 33,
   "metadata": {},
   "outputs": [],
   "source": [
    "import os\n",
    "import re\n",
    "import json\n",
    "import string\n",
    "import numpy as np\n",
    "import tensorflow as tf\n",
    "import matplotlib.pyplot as plt\n",
    "from tensorflow import keras\n",
    "from tensorflow.keras import layers\n",
    "import pandas as pd\n",
    "import torch\n",
    "import torch.nn as nn\n",
    "import torch.nn.functional as F\n",
    "import torch.optim as optim\n",
    "\n",
    "from transformers import BertTokenizer, TFBertModel, BertConfig, BertModel, TFBertForPreTraining, BertForPreTraining\n",
    "import sentencepiece as spm\n",
    "\n",
    "VOCAB_DIR = '../th_wiki_bpe/th.wiki.bpe.op25000.vocab'\n",
    "MODEL_DIR = '../th_wiki_bpe/th.wiki.bpe.op25000.model'\n",
    "\n",
    "class InputFeatures():\n",
    "    def __init__(self,\n",
    "               input_ids,\n",
    "               input_mask,\n",
    "               segment_ids,\n",
    "               label_id):\n",
    "        self.input_ids = input_ids\n",
    "        self.attention_mask = input_mask\n",
    "        self.token_type_ids = segment_ids\n",
    "        self.label_id = label_id\n",
    "\n",
    "class ThaiTokenizer():\n",
    "    def __init__(self,\n",
    "               model_dir,\n",
    "               vocab_dir):\n",
    "        #<unk> ==> ind = 4\n",
    "        self.dictionary = {}\n",
    "        with open(vocab_dir, 'r', encoding='utf8') as f:\n",
    "            for ind,i in enumerate(f):\n",
    "                self.dictionary[i.split()[0]] = ind\n",
    "        self.sp = spm.SentencePieceProcessor(model_file=model_dir)\n",
    "    def tokenize(self,\n",
    "                text):\n",
    "        return self.sp.encode(text, out_type=str)\n",
    "    def convert_tokens_to_ids(self,\n",
    "                            tokens):\n",
    "        tmp = []\n",
    "        for i in tokens:\n",
    "            try:\n",
    "                tmp.append(self.dictionary[i])\n",
    "            except:\n",
    "                tmp.append(4)\n",
    "        return tmp\n",
    "    \n",
    "\n",
    "class Text_classification_examples():\n",
    "    def __init__(self, tokenizer, max_len, ulabels):\n",
    "        self.tokenizer = tokenizer\n",
    "        self.max_len = max_len\n",
    "        self.ulabels = ulabels\n",
    "\n",
    "    def preprocess(self,\n",
    "                  texts,\n",
    "                  labels=None):\n",
    "#         print(labels)\n",
    "        if labels is not None:\n",
    "            assert len(texts) == len(labels), 'len(texts) != len(labels)'\n",
    "        dataset_dict = {\n",
    "            \"input_ids\": [],\n",
    "            \"token_type_ids\": [],\n",
    "            \"attention_mask\": [],\n",
    "            \"label_onehot\": [],\n",
    "        }\n",
    "        for i in range(len(texts)):\n",
    "            if labels is not None:\n",
    "                feature_obj = self.convert_single_example(i, texts[i], labels[i])\n",
    "            else:\n",
    "                feature_obj = self.convert_single_example(i, texts[i])\n",
    "            for feature in dataset_dict:\n",
    "                if feature == 'label_onehot':\n",
    "                    if labels is not None:\n",
    "                        dataset_dict['label_onehot'].append(getattr(feature_obj, 'label_id'))\n",
    "                    else:\n",
    "                        dataset_dict['label_onehot'].append(None)\n",
    "                else:\n",
    "                    dataset_dict[feature].append(getattr(feature_obj, feature))\n",
    "        return [dataset_dict[\"input_ids\"], dataset_dict[\"token_type_ids\"], dataset_dict[\"attention_mask\"]], [dataset_dict[\"label_onehot\"]]\n",
    "\n",
    "    def convert_single_example(self, \n",
    "                             ex_index, \n",
    "                             text_a, \n",
    "                             label=None):\n",
    "        \"\"\"Converts a single `InputExample` into a single `InputFeatures`.\"\"\"\n",
    "\n",
    "        tokens_a = self.tokenizer.tokenize(text_a)\n",
    "        # Account for [CLS] and [SEP] with \"- 2\"\n",
    "        if len(tokens_a) > self.max_len - 2:\n",
    "            tokens_a = tokens_a[:(self.max_len - 2)]\n",
    "\n",
    "        # The convention in BERT is:\n",
    "        # (a) For sequence pairs:\n",
    "        #  tokens:   [CLS] is this jack ##son ##ville ? [SEP] no it is not . [SEP]\n",
    "        #  type_ids: 0     0  0    0    0     0       0 0     1  1  1  1   1 1\n",
    "        # (b) For single sequences:\n",
    "        #  tokens:   [CLS] the dog is hairy . [SEP]\n",
    "        #  type_ids: 0     0   0   0  0     0 0\n",
    "        #\n",
    "        # Where \"type_ids\" are used to indicate whether this is the first\n",
    "        # sequence or the second sequence. The embedding vectors for `type=0` and\n",
    "        # `type=1` were learned during pre-training and are added to the wordpiece\n",
    "        # embedding vector (and position vector). This is not *strictly* necessary\n",
    "        # since the [SEP] token unambiguously separates the sequences, but it makes\n",
    "        # it easier for the model to learn the concept of sequences.\n",
    "        #\n",
    "        # For classification tasks, the first vector (corresponding to [CLS]) is\n",
    "        # used as as the \"sentence vector\". Note that this only makes sense because\n",
    "        # the entire model is fine-tuned.\n",
    "        tokens = []\n",
    "        segment_ids = []\n",
    "        tokens.append(\"[CLS]\")\n",
    "        segment_ids.append(0)\n",
    "        for token in tokens_a:\n",
    "            tokens.append(token)\n",
    "            segment_ids.append(0)\n",
    "        tokens.append(\"[SEP]\")\n",
    "        segment_ids.append(0)\n",
    "\n",
    "\n",
    "        input_ids = self.tokenizer.convert_tokens_to_ids(tokens)\n",
    "\n",
    "        # The mask has 1 for real tokens and 0 for padding tokens. Only real\n",
    "        # tokens are attended to.\n",
    "        input_mask = [1] * len(input_ids)\n",
    "\n",
    "        # Zero-pad up to the sequence length.\n",
    "        while len(input_ids) < self.max_len:\n",
    "            input_ids.append(0)\n",
    "            input_mask.append(0)\n",
    "            segment_ids.append(0)\n",
    "        # print(len(input_ids))\n",
    "        # print(len(input_mask))\n",
    "        # print(len(segment_ids))\n",
    "        assert len(input_ids) == self.max_len\n",
    "        assert len(input_mask) == self.max_len\n",
    "        assert len(segment_ids) == self.max_len\n",
    "        if label is not None:\n",
    "            label_id = self.ulabels[label]\n",
    "        else:\n",
    "            label_id = -1\n",
    "#         if ex_index < 5:\n",
    "#             print(\"*** Example ***\")\n",
    "#             print(\"tokens: %s\" % \" \".join(tokens))\n",
    "#             print(\"input_ids: %s\" % \" \".join([str(x) for x in input_ids]))\n",
    "#             print(\"input_mask: %s\" % \" \".join([str(x) for x in input_mask]))\n",
    "#             print(\"segment_ids: %s\" % \" \".join([str(x) for x in segment_ids]))\n",
    "#             print(\"label: %s (id = %d)\" % (label, label_id))\n",
    "\n",
    "        feature = InputFeatures(\n",
    "            input_ids=input_ids,\n",
    "            input_mask=input_mask,\n",
    "            segment_ids=segment_ids,\n",
    "            label_id=label_id)\n",
    "        return feature\n",
    "    \n",
    "tokenizer = ThaiTokenizer(MODEL_DIR, VOCAB_DIR)\n",
    "max_len = 128\n",
    "ulabels = {'negative': 0, 'neutral': 1, 'positive': 2}\n",
    "\n",
    "data_preb = Text_classification_examples(tokenizer, max_len, ulabels)"
   ]
  },
  {
   "cell_type": "code",
   "execution_count": 73,
   "metadata": {},
   "outputs": [],
   "source": [
    "# X,Y =data_preb.preprocess(tmp[:10000])#, tr['labels'])"
   ]
  },
  {
   "cell_type": "code",
   "execution_count": 34,
   "metadata": {},
   "outputs": [],
   "source": [
    "config = BertConfig.from_json_file('../bert_base_th/bert_config.json')\n",
    "# encoder = BertForPreTraining.from_pretrained('./bert_base_th/model.ckpt',from_tf=True, config=config)\n",
    "# encoder = BertForPreTraining.from_pretrained('./BERTLM_fold1.pt', config=config)\n",
    "encoder = torch.load('../BERTLM_fold1.pt')\n",
    "class bert_for_classification(nn.Module):\n",
    "    def __init__(\n",
    "        self,\n",
    "        BertForPreTraining_model: '(transformers obj)',\n",
    "        unique_labels: '(dict[str:int]) the keys are unique labels, the values are integers mapping to class index (from 0 to num_unique_labels - 1)',\n",
    "        max_len: '(int) max length of the input sequences'):\n",
    "        super().__init__()\n",
    "        self.BertForPreTraining_model = BertForPreTraining_model\n",
    "        self.unique_labels = unique_labels\n",
    "        self.max_len = max_len\n",
    "        self.linear1 = torch.nn.Linear(768, 2)\n",
    "#         self.linear1 = torch.nn.Linear(768, 256)\n",
    "        self.flatten = torch.nn.Flatten()\n",
    "        \n",
    "        self.out = torch.nn.Linear(256, len(self.unique_labels))\n",
    "        \n",
    "    def forward(self, inputs):\n",
    "        input_ids = inputs[0]\n",
    "        token_type_ids = inputs[1]\n",
    "        attention_mask = inputs[2]\n",
    "        x = self.BertForPreTraining_model.bert(input_ids, token_type_ids, attention_mask)[0]\n",
    "        x = F.gelu((self.linear1(x)))\n",
    "        x = self.flatten(x)\n",
    "        return self.out(x)\n",
    "#.220\n",
    "BERT = bert_for_classification(BertForPreTraining_model= encoder, \n",
    "                               unique_labels= {'negative': 0, 'neutral': 1, 'positive': 2}, \n",
    "                               max_len=128)"
   ]
  },
  {
   "cell_type": "code",
   "execution_count": 35,
   "metadata": {},
   "outputs": [],
   "source": [
    "from tqdm import trange\n",
    "BS = 32\n",
    "remainder_te = False\n",
    "num_te = len(tmp)//BS\n",
    "if len(tmp)%BS != 0:\n",
    "    remainder_te = True\n",
    "NUM_EPOCH = 1"
   ]
  },
  {
   "cell_type": "code",
   "execution_count": 36,
   "metadata": {},
   "outputs": [],
   "source": [
    "if torch.cuda.is_available():\n",
    "    device = torch.device('cuda')\n",
    "else:\n",
    "    device = torch.device('cpu')"
   ]
  },
  {
   "cell_type": "code",
   "execution_count": 39,
   "metadata": {},
   "outputs": [
    {
     "name": "stderr",
     "output_type": "stream",
     "text": [
      "\r",
      "  0%|          | 0/3141 [00:00<?, ?it/s]"
     ]
    },
    {
     "name": "stdout",
     "output_type": "stream",
     "text": [
      "now is epoch: 0\n"
     ]
    },
    {
     "name": "stderr",
     "output_type": "stream",
     "text": [
      "100%|██████████| 3141/3141 [2:19:25<00:00,  2.66s/it]  \n"
     ]
    },
    {
     "name": "stdout",
     "output_type": "stream",
     "text": [
      "CPU times: user 9h 9min 45s, sys: 28.6 s, total: 9h 10min 14s\n",
      "Wall time: 2h 19min 26s\n"
     ]
    }
   ],
   "source": [
    "%%time\n",
    "\n",
    "for i in range(NUM_EPOCH):\n",
    "    print(f'now is epoch: {i}')\n",
    "    with torch.no_grad():\n",
    "        for j in trange(num_te):\n",
    "            data, _ = data_preb.preprocess(tmp[BS*j: BS*(j+1)])\n",
    "            data1 = torch.tensor(data[0],dtype=torch.int64).to(device)\n",
    "            data2 = torch.tensor(data[1],dtype=torch.int64).to(device)\n",
    "            data3 = torch.tensor(data[2],dtype=torch.int64).to(device)\n",
    "#             target = y_te[BS*j: BS*(j+1)].to(device)\n",
    "\n",
    "            out = BERT([data1, data2, data3])\n",
    "#             loss = criterion(out, target)\n",
    "#             tmp_loss += loss.item()\n",
    "    #         loss.backward()\n",
    "    #         optimizer.step()\n",
    "\n",
    "        if remainder_te:\n",
    "            data, _ = data_preb.preprocess(tmp[BS*(j+1):])\n",
    "            data1 = torch.tensor(data[0],dtype=torch.int64).to(device)\n",
    "            data2 = torch.tensor(data[1],dtype=torch.int64).to(device)\n",
    "            data3 = torch.tensor(data[2],dtype=torch.int64).to(device)\n",
    "#             target = y[BS*(j+1):].to(device)\n",
    "\n",
    "            out = BERT([data1, data2, data3])\n",
    "    #         target = torch.max(target, 1)\n",
    "    #         out = torch.max(out, 1)\n",
    "#             loss = criterion(out, target)\n",
    "#             tmp_loss += loss.item()\n",
    "    #         loss.backward()\n",
    "    #         optimizer.step()\n"
   ]
  },
  {
   "cell_type": "code",
   "execution_count": null,
   "metadata": {},
   "outputs": [],
   "source": []
  }
 ],
 "metadata": {
  "kernelspec": {
   "display_name": "Python 3",
   "language": "python",
   "name": "python3"
  },
  "language_info": {
   "codemirror_mode": {
    "name": "ipython",
    "version": 3
   },
   "file_extension": ".py",
   "mimetype": "text/x-python",
   "name": "python",
   "nbconvert_exporter": "python",
   "pygments_lexer": "ipython3",
   "version": "3.6.9"
  }
 },
 "nbformat": 4,
 "nbformat_minor": 4
}
