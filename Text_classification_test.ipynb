{
 "cells": [
  {
   "cell_type": "code",
   "execution_count": 1,
   "metadata": {},
   "outputs": [],
   "source": [
    "import os\n",
    "import pandas as pd\n",
    "import numpy as np"
   ]
  },
  {
   "cell_type": "code",
   "execution_count": 1,
   "metadata": {},
   "outputs": [],
   "source": [
    "from preprocessing import Word_Embedder\n",
    "from preprocessing import Text_processing\n",
    "from text_classification import Text_classification, Text_classification_for_prediction\n",
    "from text_classification import prepare_data_for_text_classification"
   ]
  },
  {
   "cell_type": "code",
   "execution_count": 3,
   "metadata": {},
   "outputs": [
    {
     "data": {
      "text/html": [
       "<div>\n",
       "<style scoped>\n",
       "    .dataframe tbody tr th:only-of-type {\n",
       "        vertical-align: middle;\n",
       "    }\n",
       "\n",
       "    .dataframe tbody tr th {\n",
       "        vertical-align: top;\n",
       "    }\n",
       "\n",
       "    .dataframe thead th {\n",
       "        text-align: right;\n",
       "    }\n",
       "</style>\n",
       "<table border=\"1\" class=\"dataframe\">\n",
       "  <thead>\n",
       "    <tr style=\"text-align: right;\">\n",
       "      <th></th>\n",
       "      <th>texts</th>\n",
       "      <th>texts_deepcut</th>\n",
       "      <th>action</th>\n",
       "      <th>object</th>\n",
       "      <th>destination</th>\n",
       "    </tr>\n",
       "  </thead>\n",
       "  <tbody>\n",
       "    <tr>\n",
       "      <th>0</th>\n",
       "      <td>สอบถาม package internet ว่ามีแบบไหนบ้างครับ</td>\n",
       "      <td>สอบถาม package internet ว่า มี แบบ ไหน บ้าง ครับ</td>\n",
       "      <td>enquire</td>\n",
       "      <td>promotion</td>\n",
       "      <td>promotions</td>\n",
       "    </tr>\n",
       "    <tr>\n",
       "      <th>1</th>\n",
       "      <td>พอดีพี่ซื้อเบอร์ซิม Inter ไปแล้ว แต่ยังไม่ได้ล...</td>\n",
       "      <td>พอดี พี่ ซื้อ เบอร์ซิม Inter ไป แล้ว แต่ ยัง ไ...</td>\n",
       "      <td>enquire</td>\n",
       "      <td>detail</td>\n",
       "      <td>billing and payment</td>\n",
       "    </tr>\n",
       "    <tr>\n",
       "      <th>2</th>\n",
       "      <td>ค่ะ พี่ค่ะ คืออยู่ๆ เน็ตเล่นไม่ได้อ่ะค่ะ</td>\n",
       "      <td>ค่ะ พี่ ค่ะ คือ อยู่ ๆ เน็ต เล่น ไม่ ได้ อ่ะ ค่ะ</td>\n",
       "      <td>enquire</td>\n",
       "      <td>internet</td>\n",
       "      <td>internet</td>\n",
       "    </tr>\n",
       "    <tr>\n",
       "      <th>3</th>\n",
       "      <td>การเปลี่ยน ระบบจาก ทรู เป็น ทรูเอช มีค่าบริการ...</td>\n",
       "      <td>การ เปลี่ยน ระบบ จาก ทรู เป็น ทรูเอช มี ค่า บร...</td>\n",
       "      <td>enquire</td>\n",
       "      <td>rate</td>\n",
       "      <td>promotions</td>\n",
       "    </tr>\n",
       "    <tr>\n",
       "      <th>4</th>\n",
       "      <td>เช็คให้หน่อยได้ไหมครับ ว่าเบอร์ของผม เปลี่ยนเป...</td>\n",
       "      <td>เช็ค ให้ หน่อย ได้ ไหม ครับ ว่า เบอร์ ของ ผม เ...</td>\n",
       "      <td>enquire</td>\n",
       "      <td>package</td>\n",
       "      <td>promotions</td>\n",
       "    </tr>\n",
       "  </tbody>\n",
       "</table>\n",
       "</div>"
      ],
      "text/plain": [
       "                                               texts  \\\n",
       "0        สอบถาม package internet ว่ามีแบบไหนบ้างครับ   \n",
       "1  พอดีพี่ซื้อเบอร์ซิม Inter ไปแล้ว แต่ยังไม่ได้ล...   \n",
       "2           ค่ะ พี่ค่ะ คืออยู่ๆ เน็ตเล่นไม่ได้อ่ะค่ะ   \n",
       "3  การเปลี่ยน ระบบจาก ทรู เป็น ทรูเอช มีค่าบริการ...   \n",
       "4  เช็คให้หน่อยได้ไหมครับ ว่าเบอร์ของผม เปลี่ยนเป...   \n",
       "\n",
       "                                       texts_deepcut   action     object  \\\n",
       "0   สอบถาม package internet ว่า มี แบบ ไหน บ้าง ครับ  enquire  promotion   \n",
       "1  พอดี พี่ ซื้อ เบอร์ซิม Inter ไป แล้ว แต่ ยัง ไ...  enquire     detail   \n",
       "2   ค่ะ พี่ ค่ะ คือ อยู่ ๆ เน็ต เล่น ไม่ ได้ อ่ะ ค่ะ  enquire   internet   \n",
       "3  การ เปลี่ยน ระบบ จาก ทรู เป็น ทรูเอช มี ค่า บร...  enquire       rate   \n",
       "4  เช็ค ให้ หน่อย ได้ ไหม ครับ ว่า เบอร์ ของ ผม เ...  enquire    package   \n",
       "\n",
       "           destination  \n",
       "0           promotions  \n",
       "1  billing and payment  \n",
       "2             internet  \n",
       "3           promotions  \n",
       "4           promotions  "
      ]
     },
     "execution_count": 3,
     "metadata": {},
     "output_type": "execute_result"
    }
   ],
   "source": [
    "df = pd.read_csv('mari-train-balanced.csv')\n",
    "df2 = pd.read_csv('mari-test-balanced.csv')\n",
    "df.head()"
   ]
  },
  {
   "cell_type": "code",
   "execution_count": 4,
   "metadata": {},
   "outputs": [],
   "source": [
    "df = df.rename(columns={'destination': 'labels'})[['texts', 'labels']]\n",
    "df2 = df2.rename(columns={'destination': 'labels'})[['texts', 'labels']]"
   ]
  },
  {
   "cell_type": "code",
   "execution_count": 5,
   "metadata": {},
   "outputs": [
    {
     "data": {
      "text/html": [
       "<div>\n",
       "<style scoped>\n",
       "    .dataframe tbody tr th:only-of-type {\n",
       "        vertical-align: middle;\n",
       "    }\n",
       "\n",
       "    .dataframe tbody tr th {\n",
       "        vertical-align: top;\n",
       "    }\n",
       "\n",
       "    .dataframe thead th {\n",
       "        text-align: right;\n",
       "    }\n",
       "</style>\n",
       "<table border=\"1\" class=\"dataframe\">\n",
       "  <thead>\n",
       "    <tr style=\"text-align: right;\">\n",
       "      <th></th>\n",
       "      <th>texts</th>\n",
       "      <th>labels</th>\n",
       "    </tr>\n",
       "  </thead>\n",
       "  <tbody>\n",
       "    <tr>\n",
       "      <th>0</th>\n",
       "      <td>สอบถาม package internet ว่ามีแบบไหนบ้างครับ</td>\n",
       "      <td>promotions</td>\n",
       "    </tr>\n",
       "    <tr>\n",
       "      <th>1</th>\n",
       "      <td>พอดีพี่ซื้อเบอร์ซิม Inter ไปแล้ว แต่ยังไม่ได้ล...</td>\n",
       "      <td>billing and payment</td>\n",
       "    </tr>\n",
       "    <tr>\n",
       "      <th>2</th>\n",
       "      <td>ค่ะ พี่ค่ะ คืออยู่ๆ เน็ตเล่นไม่ได้อ่ะค่ะ</td>\n",
       "      <td>internet</td>\n",
       "    </tr>\n",
       "    <tr>\n",
       "      <th>3</th>\n",
       "      <td>การเปลี่ยน ระบบจาก ทรู เป็น ทรูเอช มีค่าบริการ...</td>\n",
       "      <td>promotions</td>\n",
       "    </tr>\n",
       "    <tr>\n",
       "      <th>4</th>\n",
       "      <td>เช็คให้หน่อยได้ไหมครับ ว่าเบอร์ของผม เปลี่ยนเป...</td>\n",
       "      <td>promotions</td>\n",
       "    </tr>\n",
       "  </tbody>\n",
       "</table>\n",
       "</div>"
      ],
      "text/plain": [
       "                                               texts               labels\n",
       "0        สอบถาม package internet ว่ามีแบบไหนบ้างครับ           promotions\n",
       "1  พอดีพี่ซื้อเบอร์ซิม Inter ไปแล้ว แต่ยังไม่ได้ล...  billing and payment\n",
       "2           ค่ะ พี่ค่ะ คืออยู่ๆ เน็ตเล่นไม่ได้อ่ะค่ะ             internet\n",
       "3  การเปลี่ยน ระบบจาก ทรู เป็น ทรูเอช มีค่าบริการ...           promotions\n",
       "4  เช็คให้หน่อยได้ไหมครับ ว่าเบอร์ของผม เปลี่ยนเป...           promotions"
      ]
     },
     "execution_count": 5,
     "metadata": {},
     "output_type": "execute_result"
    }
   ],
   "source": [
    "df.head()"
   ]
  },
  {
   "cell_type": "code",
   "execution_count": 6,
   "metadata": {},
   "outputs": [
    {
     "name": "stderr",
     "output_type": "stream",
     "text": [
      "Warning : `load_model` does not return WordVectorModel or SupervisedModel any more, but a `FastText` object which is very similar.\n"
     ]
    },
    {
     "name": "stdout",
     "output_type": "stream",
     "text": [
      "billing and payment      3916\n",
      "promotions               2280\n",
      "other queries            1823\n",
      "internet                 1588\n",
      "international dialing     336\n",
      "true money                188\n",
      "lost and stolen           172\n",
      "Name: labels, dtype: int64\n"
     ]
    },
    {
     "name": "stderr",
     "output_type": "stream",
     "text": [
      "C:\\Users\\Admin\\Anaconda3\\envs\\text_bay\\lib\\site-packages\\sklearn\\utils\\validation.py:71: FutureWarning: Pass classes=[0 1 2 3 4 5 6], y=[1 0 3 ... 0 0 2] as keyword args. From version 0.25 passing these as positional arguments will result in an error\n",
      "  FutureWarning)\n"
     ]
    },
    {
     "name": "stdout",
     "output_type": "stream",
     "text": [
      "CW2: {0: 0.3758572887786371, 1: 0.6455513784461153, 2: 0.8073818666248727, 3: 0.9268621806405182, 4: 4.380527210884353, 5: 7.829027355623101, 6: 8.557308970099667}\n"
     ]
    }
   ],
   "source": [
    "tmp_data = prepare_data_for_text_classification(train_dataframe=df,\n",
    "                                                test_dataframe=df2,\n",
    "                                                max_len=64,\n",
    "                                                min_len=1)"
   ]
  },
  {
   "cell_type": "code",
   "execution_count": 7,
   "metadata": {},
   "outputs": [
    {
     "name": "stdout",
     "output_type": "stream",
     "text": [
      "Created the path: trained_models\\text_classification\n",
      "Model: \"model\"\n",
      "__________________________________________________________________________________________________\n",
      "Layer (type)                    Output Shape         Param #     Connected to                     \n",
      "==================================================================================================\n",
      "word_vectors (InputLayer)       [(None, 64, 300)]    0                                            \n",
      "__________________________________________________________________________________________________\n",
      "masks (InputLayer)              [(None, 64)]         0                                            \n",
      "__________________________________________________________________________________________________\n",
      "bidirectional (Bidirectional)   (None, 64, 256)      330240      word_vectors[0][0]               \n",
      "__________________________________________________________________________________________________\n",
      "bidirectional_1 (Bidirectional) (None, 64, 256)      296448      bidirectional[0][0]              \n",
      "__________________________________________________________________________________________________\n",
      "dropout (Dropout)               (None, 64, 256)      0           bidirectional_1[0][0]            \n",
      "__________________________________________________________________________________________________\n",
      "flatten (Flatten)               (None, 16384)        0           dropout[0][0]                    \n",
      "__________________________________________________________________________________________________\n",
      "dense (Dense)                   (None, 128)          2097280     flatten[0][0]                    \n",
      "__________________________________________________________________________________________________\n",
      "batch_normalization (BatchNorma (None, 128)          512         dense[0][0]                      \n",
      "__________________________________________________________________________________________________\n",
      "leaky_re_lu (LeakyReLU)         (None, 128)          0           batch_normalization[0][0]        \n",
      "__________________________________________________________________________________________________\n",
      "dense_1 (Dense)                 (None, 64)           8256        leaky_re_lu[0][0]                \n",
      "__________________________________________________________________________________________________\n",
      "batch_normalization_1 (BatchNor (None, 64)           256         dense_1[0][0]                    \n",
      "__________________________________________________________________________________________________\n",
      "leaky_re_lu_1 (LeakyReLU)       (None, 64)           0           batch_normalization_1[0][0]      \n",
      "__________________________________________________________________________________________________\n",
      "dense_2 (Dense)                 (None, 32)           2080        leaky_re_lu_1[0][0]              \n",
      "__________________________________________________________________________________________________\n",
      "batch_normalization_2 (BatchNor (None, 32)           128         dense_2[0][0]                    \n",
      "__________________________________________________________________________________________________\n",
      "leaky_re_lu_2 (LeakyReLU)       (None, 32)           0           batch_normalization_2[0][0]      \n",
      "__________________________________________________________________________________________________\n",
      "seq_out (Dense)                 (None, 7)            231         leaky_re_lu_2[0][0]              \n",
      "==================================================================================================\n",
      "Total params: 2,735,431\n",
      "Trainable params: 2,734,983\n",
      "Non-trainable params: 448\n",
      "__________________________________________________________________________________________________\n"
     ]
    }
   ],
   "source": [
    "tc =Text_classification(prepared_data_dict=tmp_data, \n",
    "                        do_deep_learning=True, \n",
    "                        do_linear_classifier=True, \n",
    "                        is_sequence_prediciton=False)"
   ]
  },
  {
   "cell_type": "code",
   "execution_count": 8,
   "metadata": {},
   "outputs": [
    {
     "name": "stdout",
     "output_type": "stream",
     "text": [
      "Linear classifier part\n",
      "running 5-fold cv\n",
      "Best C: 5, Best f1-scores: [0.88116243 0.90909091 0.77590361 0.88172043 0.80133185 0.85617597\n",
      " 0.95238095]\n",
      "Unweighted f1-score: 0.8653951658723057, Weighted f1-score: 0.8477599212454612\n"
     ]
    },
    {
     "data": {
      "image/png": "[encoded data removed]",
      "text/plain": [
       "<Figure size 432x288 with 2 Axes>"
      ]
     },
     "metadata": {
      "needs_background": "light"
     },
     "output_type": "display_data"
    }
   ],
   "source": [
    "tc.fit_linear_classifier()"
   ]
  },
  {
   "cell_type": "code",
   "execution_count": 9,
   "metadata": {
    "scrolled": true
   },
   "outputs": [
    {
     "name": "stdout",
     "output_type": "stream",
     "text": [
      "Epoch 1/500\n",
      "161/161 [==============================] - 20s 126ms/step - loss: 1.2643 - precision: 0.5560 - recall: 0.1584 - val_loss: 1.4437 - val_precision: 0.9029 - val_recall: 0.0357 - lr: 0.0010\n",
      "Epoch 2/500\n",
      "161/161 [==============================] - 16s 98ms/step - loss: 0.7997 - precision: 0.7344 - recall: 0.4351 - val_loss: 0.9602 - val_precision: 0.8379 - val_recall: 0.4856 - lr: 0.0010\n",
      "Epoch 3/500\n",
      "161/161 [==============================] - 17s 104ms/step - loss: 0.7061 - precision: 0.7448 - recall: 0.5093 - val_loss: 0.9728 - val_precision: 0.7668 - val_recall: 0.5397 - lr: 0.0010\n",
      "Epoch 4/500\n",
      "161/161 [==============================] - 16s 101ms/step - loss: 0.6480 - precision: 0.7636 - recall: 0.5624 - val_loss: 0.7524 - val_precision: 0.8165 - val_recall: 0.6264 - lr: 0.0010\n",
      "Epoch 5/500\n",
      "161/161 [==============================] - 17s 105ms/step - loss: 0.5887 - precision: 0.7771 - recall: 0.5968 - val_loss: 0.7831 - val_precision: 0.7995 - val_recall: 0.6272 - lr: 0.0010\n",
      "Epoch 6/500\n",
      "161/161 [==============================] - 15s 96ms/step - loss: 0.5589 - precision: 0.7844 - recall: 0.6247 - val_loss: 0.7546 - val_precision: 0.8077 - val_recall: 0.6555 - lr: 0.0010\n",
      "Epoch 7/500\n",
      "161/161 [==============================] - 17s 107ms/step - loss: 0.5309 - precision: 0.7927 - recall: 0.6379 - val_loss: 0.7217 - val_precision: 0.8023 - val_recall: 0.6820 - lr: 0.0010\n",
      "Epoch 8/500\n",
      "161/161 [==============================] - 16s 97ms/step - loss: 0.4925 - precision: 0.7981 - recall: 0.6594 - val_loss: 0.6817 - val_precision: 0.8192 - val_recall: 0.6989 - lr: 0.0010\n",
      "Epoch 9/500\n",
      "161/161 [==============================] - 17s 103ms/step - loss: 0.4614 - precision: 0.8116 - recall: 0.6793 - val_loss: 0.6669 - val_precision: 0.8258 - val_recall: 0.6912 - lr: 0.0010\n",
      "Epoch 10/500\n",
      "161/161 [==============================] - 17s 105ms/step - loss: 0.4521 - precision: 0.8073 - recall: 0.6875 - val_loss: 0.6204 - val_precision: 0.8355 - val_recall: 0.7250 - lr: 0.0010\n",
      "Epoch 11/500\n",
      "161/161 [==============================] - 17s 103ms/step - loss: 0.4226 - precision: 0.8194 - recall: 0.7090 - val_loss: 0.5935 - val_precision: 0.8349 - val_recall: 0.7411 - lr: 0.0010\n",
      "Epoch 12/500\n",
      "161/161 [==============================] - 15s 94ms/step - loss: 0.3834 - precision: 0.8283 - recall: 0.7306 - val_loss: 0.5977 - val_precision: 0.8358 - val_recall: 0.7438 - lr: 0.0010\n",
      "Epoch 13/500\n",
      "161/161 [==============================] - 16s 102ms/step - loss: 0.3700 - precision: 0.8351 - recall: 0.7411 - val_loss: 0.5972 - val_precision: 0.8395 - val_recall: 0.7465 - lr: 0.0010\n",
      "Epoch 14/500\n",
      "161/161 [==============================] - 16s 99ms/step - loss: 0.3497 - precision: 0.8436 - recall: 0.7585 - val_loss: 0.5812 - val_precision: 0.8348 - val_recall: 0.7560 - lr: 0.0010\n",
      "Epoch 15/500\n",
      "161/161 [==============================] - 15s 95ms/step - loss: 0.3364 - precision: 0.8502 - recall: 0.7700 - val_loss: 0.5874 - val_precision: 0.8355 - val_recall: 0.7637 - lr: 0.0010\n",
      "Epoch 16/500\n",
      "161/161 [==============================] - 16s 100ms/step - loss: 0.3236 - precision: 0.8538 - recall: 0.7799 - val_loss: 0.5775 - val_precision: 0.8326 - val_recall: 0.7745 - lr: 0.0010\n",
      "Epoch 17/500\n",
      "161/161 [==============================] - 16s 98ms/step - loss: 0.3054 - precision: 0.8596 - recall: 0.7927 - val_loss: 0.5662 - val_precision: 0.8358 - val_recall: 0.7829 - lr: 0.0010\n",
      "Epoch 18/500\n",
      "161/161 [==============================] - 17s 106ms/step - loss: 0.2972 - precision: 0.8593 - recall: 0.7941 - val_loss: 0.5849 - val_precision: 0.8386 - val_recall: 0.7775 - lr: 0.0010\n",
      "Epoch 19/500\n",
      "161/161 [==============================] - 15s 93ms/step - loss: 0.3009 - precision: 0.8628 - recall: 0.7974 - val_loss: 0.5738 - val_precision: 0.8387 - val_recall: 0.7860 - lr: 0.0010\n",
      "Epoch 20/500\n",
      "161/161 [==============================] - 15s 91ms/step - loss: 0.2881 - precision: 0.8652 - recall: 0.8080 - val_loss: 0.5715 - val_precision: 0.8370 - val_recall: 0.7979 - lr: 0.0010\n",
      "Epoch 21/500\n",
      "161/161 [==============================] - 16s 97ms/step - loss: 0.2823 - precision: 0.8648 - recall: 0.8066 - val_loss: 0.5598 - val_precision: 0.8386 - val_recall: 0.7913 - lr: 0.0010\n",
      "Epoch 22/500\n",
      "161/161 [==============================] - 16s 98ms/step - loss: 0.2604 - precision: 0.8782 - recall: 0.8235 - val_loss: 0.5719 - val_precision: 0.8362 - val_recall: 0.7852 - lr: 0.0010\n",
      "Epoch 23/500\n",
      "161/161 [==============================] - 17s 104ms/step - loss: 0.2445 - precision: 0.8831 - recall: 0.8360 - val_loss: 0.5803 - val_precision: 0.8368 - val_recall: 0.7967 - lr: 0.0010\n",
      "Epoch 24/500\n",
      "161/161 [==============================] - 16s 100ms/step - loss: 0.2526 - precision: 0.8799 - recall: 0.8353 - val_loss: 0.5932 - val_precision: 0.8279 - val_recall: 0.7840 - lr: 0.0010\n",
      "Epoch 25/500\n",
      "161/161 [==============================] - 16s 102ms/step - loss: 0.2659 - precision: 0.8768 - recall: 0.8300 - val_loss: 0.5680 - val_precision: 0.8386 - val_recall: 0.7994 - lr: 0.0010\n",
      "Epoch 26/500\n",
      "161/161 [==============================] - 15s 93ms/step - loss: 0.2279 - precision: 0.8873 - recall: 0.8446 - val_loss: 0.5921 - val_precision: 0.8319 - val_recall: 0.8028 - lr: 0.0010\n",
      "Epoch 27/500\n",
      "161/161 [==============================] - 15s 93ms/step - loss: 0.2205 - precision: 0.8916 - recall: 0.8563 - val_loss: 0.6427 - val_precision: 0.8220 - val_recall: 0.7898 - lr: 0.0010\n",
      "Epoch 28/500\n",
      "161/161 [==============================] - 15s 92ms/step - loss: 0.2180 - precision: 0.8911 - recall: 0.8536 - val_loss: 0.5864 - val_precision: 0.8358 - val_recall: 0.8044 - lr: 0.0010\n",
      "f1-scores\n",
      "[[814  31  56  62   4  13   2]\n",
      " [ 54 461  24  35   0   1   0]\n",
      " [ 48  21 338  50   0   1   1]\n",
      " [ 21  20  16 341   2   0   2]\n",
      " [  4   3   1   4  78   0   0]\n",
      " [  3   0   2   0   0  47   0]\n",
      " [  3   0   2   1   0   0  41]]\n",
      "[0.8439606  0.82988299 0.75278396 0.76201117 0.89655172 0.8245614\n",
      " 0.88172043]\n",
      "Unweighted f1-score: 0.8273531835643603, Weighted f1-score: 0.814275438599579\n"
     ]
    },
    {
     "data": {
      "image/png": "[encoded data removed]",
      "text/plain": [
       "<Figure size 432x288 with 1 Axes>"
      ]
     },
     "metadata": {
      "needs_background": "light"
     },
     "output_type": "display_data"
    }
   ],
   "source": [
    "tc.fit_deep_learning()"
   ]
  },
  {
   "cell_type": "markdown",
   "metadata": {},
   "source": [
    "# Prediction test"
   ]
  },
  {
   "cell_type": "code",
   "execution_count": 2,
   "metadata": {},
   "outputs": [
    {
     "name": "stdout",
     "output_type": "stream",
     "text": [
      "loading deeplearning model\n",
      "loading logistic regression model\n",
      "loading the embedder and tokenizer\n"
     ]
    },
    {
     "name": "stderr",
     "output_type": "stream",
     "text": [
      "Warning : `load_model` does not return WordVectorModel or SupervisedModel any more, but a `FastText` object which is very similar.\n"
     ]
    }
   ],
   "source": [
    "TC = Text_classification_for_prediction( path_to_tfxidf= 'models for real deployment\\\\tf-idf_encoder.joblib',\n",
    "                                        model_path = 'models for real deployment\\\\text_classification')"
   ]
  },
  {
   "cell_type": "code",
   "execution_count": 3,
   "metadata": {},
   "outputs": [
    {
     "data": {
      "text/plain": [
       "{'logistic_regression': {'billing and payment': 0.04239599199883396,\n",
       "  'international dialing': 0.002549459155609322,\n",
       "  'internet': 0.9208810924214039,\n",
       "  'lost and stolen': 0.0012800403966359952,\n",
       "  'other queries': 0.023315610086824624,\n",
       "  'promotions': 0.007684539984556279,\n",
       "  'true money': 0.0018932659561359188},\n",
       " 'deeplearning': {'billing and payment': 0.0072062276,\n",
       "  'promotions': 0.004005203,\n",
       "  'other queries': 0.0073127626,\n",
       "  'internet': 0.9813058,\n",
       "  'international dialing': 4.9151244e-05,\n",
       "  'true money': 0.0001077552,\n",
       "  'lost and stolen': 1.3084363e-05}}"
      ]
     },
     "execution_count": 3,
     "metadata": {},
     "output_type": "execute_result"
    }
   ],
   "source": [
    "TC.predict('ทำไมอินเตอร์เนตผมช้ามากๆเลยครับ')"
   ]
  },
  {
   "cell_type": "code",
   "execution_count": 4,
   "metadata": {},
   "outputs": [
    {
     "data": {
      "text/plain": [
       "{'logistic_regression': {'billing and payment': 0.04957993119467105,\n",
       "  'international dialing': 0.01410676326467718,\n",
       "  'internet': 0.06836631971022208,\n",
       "  'lost and stolen': 0.8019789371395918,\n",
       "  'other queries': 0.03284068079988682,\n",
       "  'promotions': 0.03211143365895513,\n",
       "  'true money': 0.0010159342319958995},\n",
       " 'deeplearning': {'billing and payment': 0.0047038696,\n",
       "  'promotions': 2.7009795e-05,\n",
       "  'other queries': 0.0022938338,\n",
       "  'internet': 3.1159885e-05,\n",
       "  'international dialing': 4.418929e-05,\n",
       "  'true money': 2.789515e-05,\n",
       "  'lost and stolen': 0.99287206}}"
      ]
     },
     "execution_count": 4,
     "metadata": {},
     "output_type": "execute_result"
    }
   ],
   "source": [
    "TC.predict('โทรศัพท์ผมหาย ผมต้องทำยังไงบ้างครับ')"
   ]
  },
  {
   "cell_type": "code",
   "execution_count": 5,
   "metadata": {},
   "outputs": [
    {
     "data": {
      "text/plain": [
       "{'logistic_regression': {'billing and payment': 0.009000535616081102,\n",
       "  'international dialing': 0.9136489626289862,\n",
       "  'internet': 0.004919699100065405,\n",
       "  'lost and stolen': 0.0023058219177843234,\n",
       "  'other queries': 0.053685728274877664,\n",
       "  'promotions': 0.014218651980250626,\n",
       "  'true money': 0.0022206004819546364},\n",
       " 'deeplearning': {'billing and payment': 0.0009788148,\n",
       "  'promotions': 0.00014358881,\n",
       "  'other queries': 0.0007423464,\n",
       "  'internet': 0.00013605997,\n",
       "  'international dialing': 0.99798656,\n",
       "  'true money': 7.0310753e-06,\n",
       "  'lost and stolen': 5.614271e-06}}"
      ]
     },
     "execution_count": 5,
     "metadata": {},
     "output_type": "execute_result"
    }
   ],
   "source": [
    "TC.predict('สอบถามบริการโทรต่างประเทศน่ะครับ')"
   ]
  },
  {
   "cell_type": "code",
   "execution_count": null,
   "metadata": {},
   "outputs": [],
   "source": []
  }
 ],
 "metadata": {
  "kernelspec": {
   "display_name": "text_bay",
   "language": "python",
   "name": "text_bay"
  },
  "language_info": {
   "codemirror_mode": {
    "name": "ipython",
    "version": 3
   },
   "file_extension": ".py",
   "mimetype": "text/x-python",
   "name": "python",
   "nbconvert_exporter": "python",
   "pygments_lexer": "ipython3",
   "version": "3.6.10"
  }
 },
 "nbformat": 4,
 "nbformat_minor": 2
}
