{
 "cells": [
  {
   "cell_type": "code",
   "execution_count": 1,
   "metadata": {},
   "outputs": [],
   "source": [
    "import os\n",
    "import pandas as pd\n",
    "import numpy as np"
   ]
  },
  {
   "cell_type": "code",
   "execution_count": 2,
   "metadata": {},
   "outputs": [],
   "source": [
    "from preprocessing import Word_Embedder\n",
    "from preprocessing import Text_processing\n",
    "from text_classification import Text_classification\n",
    "from text_classification import prepare_data_for_text_classification"
   ]
  },
  {
   "cell_type": "code",
   "execution_count": 3,
   "metadata": {},
   "outputs": [
    {
     "data": {
      "text/html": [
       "<div>\n",
       "<style scoped>\n",
       "    .dataframe tbody tr th:only-of-type {\n",
       "        vertical-align: middle;\n",
       "    }\n",
       "\n",
       "    .dataframe tbody tr th {\n",
       "        vertical-align: top;\n",
       "    }\n",
       "\n",
       "    .dataframe thead th {\n",
       "        text-align: right;\n",
       "    }\n",
       "</style>\n",
       "<table border=\"1\" class=\"dataframe\">\n",
       "  <thead>\n",
       "    <tr style=\"text-align: right;\">\n",
       "      <th></th>\n",
       "      <th>texts</th>\n",
       "      <th>texts_deepcut</th>\n",
       "      <th>action</th>\n",
       "      <th>object</th>\n",
       "      <th>destination</th>\n",
       "    </tr>\n",
       "  </thead>\n",
       "  <tbody>\n",
       "    <tr>\n",
       "      <th>0</th>\n",
       "      <td>สอบถาม package internet ว่ามีแบบไหนบ้างครับ</td>\n",
       "      <td>สอบถาม package internet ว่า มี แบบ ไหน บ้าง ครับ</td>\n",
       "      <td>enquire</td>\n",
       "      <td>promotion</td>\n",
       "      <td>promotions</td>\n",
       "    </tr>\n",
       "    <tr>\n",
       "      <th>1</th>\n",
       "      <td>พอดีพี่ซื้อเบอร์ซิม Inter ไปแล้ว แต่ยังไม่ได้ล...</td>\n",
       "      <td>พอดี พี่ ซื้อ เบอร์ซิม Inter ไป แล้ว แต่ ยัง ไ...</td>\n",
       "      <td>enquire</td>\n",
       "      <td>detail</td>\n",
       "      <td>billing and payment</td>\n",
       "    </tr>\n",
       "    <tr>\n",
       "      <th>2</th>\n",
       "      <td>ค่ะ พี่ค่ะ คืออยู่ๆ เน็ตเล่นไม่ได้อ่ะค่ะ</td>\n",
       "      <td>ค่ะ พี่ ค่ะ คือ อยู่ ๆ เน็ต เล่น ไม่ ได้ อ่ะ ค่ะ</td>\n",
       "      <td>enquire</td>\n",
       "      <td>internet</td>\n",
       "      <td>internet</td>\n",
       "    </tr>\n",
       "    <tr>\n",
       "      <th>3</th>\n",
       "      <td>การเปลี่ยน ระบบจาก ทรู เป็น ทรูเอช มีค่าบริการ...</td>\n",
       "      <td>การ เปลี่ยน ระบบ จาก ทรู เป็น ทรูเอช มี ค่า บร...</td>\n",
       "      <td>enquire</td>\n",
       "      <td>rate</td>\n",
       "      <td>promotions</td>\n",
       "    </tr>\n",
       "    <tr>\n",
       "      <th>4</th>\n",
       "      <td>เช็คให้หน่อยได้ไหมครับ ว่าเบอร์ของผม เปลี่ยนเป...</td>\n",
       "      <td>เช็ค ให้ หน่อย ได้ ไหม ครับ ว่า เบอร์ ของ ผม เ...</td>\n",
       "      <td>enquire</td>\n",
       "      <td>package</td>\n",
       "      <td>promotions</td>\n",
       "    </tr>\n",
       "  </tbody>\n",
       "</table>\n",
       "</div>"
      ],
      "text/plain": [
       "                                               texts  \\\n",
       "0        สอบถาม package internet ว่ามีแบบไหนบ้างครับ   \n",
       "1  พอดีพี่ซื้อเบอร์ซิม Inter ไปแล้ว แต่ยังไม่ได้ล...   \n",
       "2           ค่ะ พี่ค่ะ คืออยู่ๆ เน็ตเล่นไม่ได้อ่ะค่ะ   \n",
       "3  การเปลี่ยน ระบบจาก ทรู เป็น ทรูเอช มีค่าบริการ...   \n",
       "4  เช็คให้หน่อยได้ไหมครับ ว่าเบอร์ของผม เปลี่ยนเป...   \n",
       "\n",
       "                                       texts_deepcut   action     object  \\\n",
       "0   สอบถาม package internet ว่า มี แบบ ไหน บ้าง ครับ  enquire  promotion   \n",
       "1  พอดี พี่ ซื้อ เบอร์ซิม Inter ไป แล้ว แต่ ยัง ไ...  enquire     detail   \n",
       "2   ค่ะ พี่ ค่ะ คือ อยู่ ๆ เน็ต เล่น ไม่ ได้ อ่ะ ค่ะ  enquire   internet   \n",
       "3  การ เปลี่ยน ระบบ จาก ทรู เป็น ทรูเอช มี ค่า บร...  enquire       rate   \n",
       "4  เช็ค ให้ หน่อย ได้ ไหม ครับ ว่า เบอร์ ของ ผม เ...  enquire    package   \n",
       "\n",
       "           destination  \n",
       "0           promotions  \n",
       "1  billing and payment  \n",
       "2             internet  \n",
       "3           promotions  \n",
       "4           promotions  "
      ]
     },
     "execution_count": 3,
     "metadata": {},
     "output_type": "execute_result"
    }
   ],
   "source": [
    "df = pd.read_csv('mari-train-balanced.csv')\n",
    "df2 = pd.read_csv('mari-test-balanced.csv')\n",
    "df.head()"
   ]
  },
  {
   "cell_type": "code",
   "execution_count": 4,
   "metadata": {},
   "outputs": [],
   "source": [
    "df = df.rename(columns={'destination': 'labels'})[['texts', 'labels']]\n",
    "df2 = df2.rename(columns={'destination': 'labels'})[['texts', 'labels']]"
   ]
  },
  {
   "cell_type": "code",
   "execution_count": 5,
   "metadata": {},
   "outputs": [
    {
     "data": {
      "text/html": [
       "<div>\n",
       "<style scoped>\n",
       "    .dataframe tbody tr th:only-of-type {\n",
       "        vertical-align: middle;\n",
       "    }\n",
       "\n",
       "    .dataframe tbody tr th {\n",
       "        vertical-align: top;\n",
       "    }\n",
       "\n",
       "    .dataframe thead th {\n",
       "        text-align: right;\n",
       "    }\n",
       "</style>\n",
       "<table border=\"1\" class=\"dataframe\">\n",
       "  <thead>\n",
       "    <tr style=\"text-align: right;\">\n",
       "      <th></th>\n",
       "      <th>texts</th>\n",
       "      <th>labels</th>\n",
       "    </tr>\n",
       "  </thead>\n",
       "  <tbody>\n",
       "    <tr>\n",
       "      <th>0</th>\n",
       "      <td>สอบถาม package internet ว่ามีแบบไหนบ้างครับ</td>\n",
       "      <td>promotions</td>\n",
       "    </tr>\n",
       "    <tr>\n",
       "      <th>1</th>\n",
       "      <td>พอดีพี่ซื้อเบอร์ซิม Inter ไปแล้ว แต่ยังไม่ได้ล...</td>\n",
       "      <td>billing and payment</td>\n",
       "    </tr>\n",
       "    <tr>\n",
       "      <th>2</th>\n",
       "      <td>ค่ะ พี่ค่ะ คืออยู่ๆ เน็ตเล่นไม่ได้อ่ะค่ะ</td>\n",
       "      <td>internet</td>\n",
       "    </tr>\n",
       "    <tr>\n",
       "      <th>3</th>\n",
       "      <td>การเปลี่ยน ระบบจาก ทรู เป็น ทรูเอช มีค่าบริการ...</td>\n",
       "      <td>promotions</td>\n",
       "    </tr>\n",
       "    <tr>\n",
       "      <th>4</th>\n",
       "      <td>เช็คให้หน่อยได้ไหมครับ ว่าเบอร์ของผม เปลี่ยนเป...</td>\n",
       "      <td>promotions</td>\n",
       "    </tr>\n",
       "  </tbody>\n",
       "</table>\n",
       "</div>"
      ],
      "text/plain": [
       "                                               texts               labels\n",
       "0        สอบถาม package internet ว่ามีแบบไหนบ้างครับ           promotions\n",
       "1  พอดีพี่ซื้อเบอร์ซิม Inter ไปแล้ว แต่ยังไม่ได้ล...  billing and payment\n",
       "2           ค่ะ พี่ค่ะ คืออยู่ๆ เน็ตเล่นไม่ได้อ่ะค่ะ             internet\n",
       "3  การเปลี่ยน ระบบจาก ทรู เป็น ทรูเอช มีค่าบริการ...           promotions\n",
       "4  เช็คให้หน่อยได้ไหมครับ ว่าเบอร์ของผม เปลี่ยนเป...           promotions"
      ]
     },
     "execution_count": 5,
     "metadata": {},
     "output_type": "execute_result"
    }
   ],
   "source": [
    "df.head()"
   ]
  },
  {
   "cell_type": "code",
   "execution_count": 6,
   "metadata": {},
   "outputs": [
    {
     "name": "stderr",
     "output_type": "stream",
     "text": [
      "Warning : `load_model` does not return WordVectorModel or SupervisedModel any more, but a `FastText` object which is very similar.\n"
     ]
    },
    {
     "name": "stdout",
     "output_type": "stream",
     "text": [
      "billing and payment      3916\n",
      "promotions               2280\n",
      "other queries            1823\n",
      "internet                 1588\n",
      "international dialing     336\n",
      "true money                188\n",
      "lost and stolen           172\n",
      "Name: labels, dtype: int64\n"
     ]
    },
    {
     "name": "stderr",
     "output_type": "stream",
     "text": [
      "C:\\Users\\Admin\\Anaconda3\\envs\\text_bay\\lib\\site-packages\\sklearn\\utils\\validation.py:71: FutureWarning: Pass classes=[0 1 2 3 4 5 6], y=[1 0 3 ... 0 0 2] as keyword args. From version 0.25 passing these as positional arguments will result in an error\n",
      "  FutureWarning)\n"
     ]
    },
    {
     "name": "stdout",
     "output_type": "stream",
     "text": [
      "CW2: {0: 0.3758572887786371, 1: 0.6455513784461153, 2: 0.8073818666248727, 3: 0.9268621806405182, 4: 4.380527210884353, 5: 7.829027355623101, 6: 8.557308970099667}\n"
     ]
    }
   ],
   "source": [
    "tmp_data = prepare_data_for_text_classification(df,df2,64,1)"
   ]
  },
  {
   "cell_type": "code",
   "execution_count": 7,
   "metadata": {},
   "outputs": [
    {
     "name": "stdout",
     "output_type": "stream",
     "text": [
      "Model: \"model\"\n",
      "__________________________________________________________________________________________________\n",
      "Layer (type)                    Output Shape         Param #     Connected to                     \n",
      "==================================================================================================\n",
      "word_vectors (InputLayer)       [(None, 64, 300)]    0                                            \n",
      "__________________________________________________________________________________________________\n",
      "masks (InputLayer)              [(None, 64)]         0                                            \n",
      "__________________________________________________________________________________________________\n",
      "bidirectional (Bidirectional)   (None, 64, 256)      330240      word_vectors[0][0]               \n",
      "__________________________________________________________________________________________________\n",
      "bidirectional_1 (Bidirectional) (None, 64, 256)      296448      bidirectional[0][0]              \n",
      "__________________________________________________________________________________________________\n",
      "dropout (Dropout)               (None, 64, 256)      0           bidirectional_1[0][0]            \n",
      "__________________________________________________________________________________________________\n",
      "flatten (Flatten)               (None, 16384)        0           dropout[0][0]                    \n",
      "__________________________________________________________________________________________________\n",
      "dense (Dense)                   (None, 128)          2097280     flatten[0][0]                    \n",
      "__________________________________________________________________________________________________\n",
      "batch_normalization (BatchNorma (None, 128)          512         dense[0][0]                      \n",
      "__________________________________________________________________________________________________\n",
      "leaky_re_lu (LeakyReLU)         (None, 128)          0           batch_normalization[0][0]        \n",
      "__________________________________________________________________________________________________\n",
      "dense_1 (Dense)                 (None, 64)           8256        leaky_re_lu[0][0]                \n",
      "__________________________________________________________________________________________________\n",
      "batch_normalization_1 (BatchNor (None, 64)           256         dense_1[0][0]                    \n",
      "__________________________________________________________________________________________________\n",
      "leaky_re_lu_1 (LeakyReLU)       (None, 64)           0           batch_normalization_1[0][0]      \n",
      "__________________________________________________________________________________________________\n",
      "dense_2 (Dense)                 (None, 32)           2080        leaky_re_lu_1[0][0]              \n",
      "__________________________________________________________________________________________________\n",
      "batch_normalization_2 (BatchNor (None, 32)           128         dense_2[0][0]                    \n",
      "__________________________________________________________________________________________________\n",
      "leaky_re_lu_2 (LeakyReLU)       (None, 32)           0           batch_normalization_2[0][0]      \n",
      "__________________________________________________________________________________________________\n",
      "seq_out (Dense)                 (None, 7)            231         leaky_re_lu_2[0][0]              \n",
      "==================================================================================================\n",
      "Total params: 2,735,431\n",
      "Trainable params: 2,734,983\n",
      "Non-trainable params: 448\n",
      "__________________________________________________________________________________________________\n"
     ]
    }
   ],
   "source": [
    "tc =Text_classification(tmp_data, True, True, False)"
   ]
  },
  {
   "cell_type": "code",
   "execution_count": 8,
   "metadata": {},
   "outputs": [
    {
     "name": "stdout",
     "output_type": "stream",
     "text": [
      "Linear classifier part\n",
      "running 5-fold cv\n",
      "Best C: 5, Best f1-scores: [0.88116243 0.90909091 0.77590361 0.88172043 0.80133185 0.85617597\n",
      " 0.95238095]\n",
      "0.8473341004986574\n"
     ]
    },
    {
     "data": {
      "image/png": "[encoded data removed]",
      "text/plain": [
       "<Figure size 432x288 with 2 Axes>"
      ]
     },
     "metadata": {
      "needs_background": "light"
     },
     "output_type": "display_data"
    }
   ],
   "source": [
    "tc.fit_linear_classifier()"
   ]
  },
  {
   "cell_type": "code",
   "execution_count": 9,
   "metadata": {
    "scrolled": true
   },
   "outputs": [
    {
     "name": "stdout",
     "output_type": "stream",
     "text": [
      "Epoch 1/500\n",
      "    161/Unknown - 13s 79ms/step - loss: 2.2838 - precision: 0.6147 - recall: 0.1985WARNING:tensorflow:From C:\\Users\\Admin\\Anaconda3\\envs\\text_bay\\lib\\site-packages\\tensorflow\\python\\ops\\resource_variable_ops.py:1817: calling BaseResourceVariable.__init__ (from tensorflow.python.ops.resource_variable_ops) with constraint is deprecated and will be removed in a future version.\n",
      "Instructions for updating:\n",
      "If using Keras pass *_constraint arguments to layers.\n",
      "INFO:tensorflow:Assets written to: DL_model\\assets\n",
      "161/161 [==============================] - 58s 361ms/step - loss: 2.2838 - precision: 0.6147 - recall: 0.1985 - val_loss: 2.2388 - val_precision: 0.9286 - val_recall: 0.0199 - lr: 0.0010\n",
      "Epoch 2/500\n",
      "161/161 [==============================] - ETA: 0s - loss: 1.5419 - precision: 0.7455 - recall: 0.4418INFO:tensorflow:Assets written to: DL_model\\assets\n",
      "161/161 [==============================] - 55s 345ms/step - loss: 1.5419 - precision: 0.7455 - recall: 0.4418 - val_loss: 1.6201 - val_precision: 0.8994 - val_recall: 0.4288 - lr: 0.0010\n",
      "Epoch 3/500\n",
      "161/161 [==============================] - ETA: 0s - loss: 1.3358 - precision: 0.7585 - recall: 0.5238INFO:tensorflow:Assets written to: DL_model\\assets\n",
      "161/161 [==============================] - 58s 363ms/step - loss: 1.3358 - precision: 0.7585 - recall: 0.5238 - val_loss: 1.5079 - val_precision: 0.7706 - val_recall: 0.5631 - lr: 0.0010\n",
      "Epoch 4/500\n",
      "161/161 [==============================] - ETA: 0s - loss: 1.2596 - precision: 0.7604 - recall: 0.5373INFO:tensorflow:Assets written to: DL_model\\assets\n",
      "161/161 [==============================] - 65s 401ms/step - loss: 1.2596 - precision: 0.7604 - recall: 0.5373 - val_loss: 1.4480 - val_precision: 0.7584 - val_recall: 0.5573 - lr: 0.0010\n",
      "Epoch 5/500\n",
      "161/161 [==============================] - ETA: 0s - loss: 1.1694 - precision: 0.7639 - recall: 0.5594INFO:tensorflow:Assets written to: DL_model\\assets\n",
      "161/161 [==============================] - 61s 377ms/step - loss: 1.1694 - precision: 0.7639 - recall: 0.5594 - val_loss: 1.4289 - val_precision: 0.7524 - val_recall: 0.5911 - lr: 0.0010\n",
      "Epoch 6/500\n",
      "161/161 [==============================] - ETA: 0s - loss: 1.1502 - precision: 0.7486 - recall: 0.5594INFO:tensorflow:Assets written to: DL_model\\assets\n",
      "161/161 [==============================] - 67s 414ms/step - loss: 1.1502 - precision: 0.7486 - recall: 0.5594 - val_loss: 1.3127 - val_precision: 0.8097 - val_recall: 0.5662 - lr: 0.0010\n",
      "Epoch 7/500\n",
      "161/161 [==============================] - ETA: 0s - loss: 1.0923 - precision: 0.7591 - recall: 0.5626INFO:tensorflow:Assets written to: DL_model\\assets\n",
      "161/161 [==============================] - 67s 417ms/step - loss: 1.0923 - precision: 0.7591 - recall: 0.5626 - val_loss: 1.1815 - val_precision: 0.8276 - val_recall: 0.6318 - lr: 0.0010\n",
      "Epoch 8/500\n",
      "161/161 [==============================] - 30s 184ms/step - loss: 1.0104 - precision: 0.7699 - recall: 0.5889 - val_loss: 1.2017 - val_precision: 0.8254 - val_recall: 0.6203 - lr: 0.0010\n",
      "Epoch 9/500\n",
      "161/161 [==============================] - 33s 205ms/step - loss: 1.0147 - precision: 0.7641 - recall: 0.5862 - val_loss: 1.2016 - val_precision: 0.7920 - val_recall: 0.6076 - lr: 0.0010\n",
      "Epoch 10/500\n",
      "161/161 [==============================] - ETA: 0s - loss: 0.9598 - precision: 0.7719 - recall: 0.5964INFO:tensorflow:Assets written to: DL_model\\assets\n",
      "161/161 [==============================] - 80s 495ms/step - loss: 0.9598 - precision: 0.7719 - recall: 0.5964 - val_loss: 1.1562 - val_precision: 0.8008 - val_recall: 0.6153 - lr: 0.0010\n",
      "Epoch 11/500\n",
      "161/161 [==============================] - 30s 189ms/step - loss: 0.9652 - precision: 0.7703 - recall: 0.6001 - val_loss: 1.1573 - val_precision: 0.8001 - val_recall: 0.5926 - lr: 0.0010\n",
      "Epoch 12/500\n",
      "161/161 [==============================] - ETA: 0s - loss: 0.9310 - precision: 0.7745 - recall: 0.6129INFO:tensorflow:Assets written to: DL_model\\assets\n",
      "161/161 [==============================] - 77s 477ms/step - loss: 0.9310 - precision: 0.7745 - recall: 0.6129 - val_loss: 1.1465 - val_precision: 0.8237 - val_recall: 0.6344 - lr: 0.0010\n",
      "Epoch 13/500\n",
      "161/161 [==============================] - ETA: 0s - loss: 0.9030 - precision: 0.7823 - recall: 0.6230INFO:tensorflow:Assets written to: DL_model\\assets\n",
      "161/161 [==============================] - 75s 469ms/step - loss: 0.9030 - precision: 0.7823 - recall: 0.6230 - val_loss: 1.0668 - val_precision: 0.7850 - val_recall: 0.6736 - lr: 0.0010\n",
      "Epoch 14/500\n",
      "161/161 [==============================] - ETA: 0s - loss: 0.8571 - precision: 0.7845 - recall: 0.6361INFO:tensorflow:Assets written to: DL_model\\assets\n",
      "161/161 [==============================] - 72s 448ms/step - loss: 0.8571 - precision: 0.7845 - recall: 0.6361 - val_loss: 1.0112 - val_precision: 0.8250 - val_recall: 0.6743 - lr: 0.0010\n",
      "Epoch 15/500\n",
      "161/161 [==============================] - ETA: 0s - loss: 0.8426 - precision: 0.7922 - recall: 0.6458INFO:tensorflow:Assets written to: DL_model\\assets\n",
      "161/161 [==============================] - 74s 457ms/step - loss: 0.8426 - precision: 0.7922 - recall: 0.6458 - val_loss: 1.0088 - val_precision: 0.8209 - val_recall: 0.6947 - lr: 0.0010\n",
      "Epoch 16/500\n",
      "161/161 [==============================] - ETA: 0s - loss: 0.8156 - precision: 0.7974 - recall: 0.6529INFO:tensorflow:Assets written to: DL_model\\assets\n",
      "161/161 [==============================] - 75s 463ms/step - loss: 0.8156 - precision: 0.7974 - recall: 0.6529 - val_loss: 0.9886 - val_precision: 0.8202 - val_recall: 0.6682 - lr: 0.0010\n",
      "Epoch 17/500\n",
      "161/161 [==============================] - 32s 202ms/step - loss: 0.8176 - precision: 0.7961 - recall: 0.6550 - val_loss: 0.9927 - val_precision: 0.8348 - val_recall: 0.6997 - lr: 0.0010\n",
      "Epoch 18/500\n",
      "161/161 [==============================] - 35s 216ms/step - loss: 0.7853 - precision: 0.8018 - recall: 0.6650 - val_loss: 1.0467 - val_precision: 0.7937 - val_recall: 0.6375 - lr: 0.0010\n",
      "Epoch 19/500\n",
      "161/161 [==============================] - ETA: 0s - loss: 0.7693 - precision: 0.8066 - recall: 0.6786 ETA: 1s - loss: 0.7720 - precision: 0.8071 - INFO:tensorflow:Assets written to: DL_model\\assets\n",
      "161/161 [==============================] - 78s 483ms/step - loss: 0.7693 - precision: 0.8066 - recall: 0.6786 - val_loss: 0.9004 - val_precision: 0.8449 - val_recall: 0.7062 - lr: 0.0010\n",
      "Epoch 20/500\n",
      "161/161 [==============================] - 35s 216ms/step - loss: 0.7587 - precision: 0.8108 - recall: 0.6807 - val_loss: 0.9949 - val_precision: 0.8218 - val_recall: 0.7023 - lr: 0.0010\n",
      "Epoch 21/500\n",
      "161/161 [==============================] - ETA: 0s - loss: 0.7628 - precision: 0.8108 - recall: 0.68683- ETA: 15s - loss: 0.81 - ETA: 3s - loss: 0.7INFO:tensorflow:Assets written to: DL_model\\assets\n",
      "161/161 [==============================] - 76s 475ms/step - loss: 0.7628 - precision: 0.8108 - recall: 0.6868 - val_loss: 0.8740 - val_precision: 0.8239 - val_recall: 0.7465 - lr: 0.0010\n",
      "Epoch 22/500\n",
      "161/161 [==============================] - 34s 213ms/step - loss: 0.7220 - precision: 0.8148 - recall: 0.6993 - val_loss: 0.9380 - val_precision: 0.8225 - val_recall: 0.6966 - lr: 0.0010\n",
      "Epoch 23/500\n",
      "161/161 [==============================] - 36s 223ms/step - loss: 0.7262 - precision: 0.8115 - recall: 0.6955 - val_loss: 0.8743 - val_precision: 0.8565 - val_recall: 0.7123 - lr: 0.0010\n",
      "Epoch 24/500\n",
      "161/161 [==============================] - ETA: 0s - loss: 0.7476 - precision: 0.8108 - recall: 0.6828INFO:tensorflow:Assets written to: DL_model\\assets\n",
      "161/161 [==============================] - 76s 469ms/step - loss: 0.7476 - precision: 0.8108 - recall: 0.6828 - val_loss: 0.8694 - val_precision: 0.8493 - val_recall: 0.7457 - lr: 0.0010\n",
      "Epoch 25/500\n",
      "161/161 [==============================] - 36s 226ms/step - loss: 0.6854 - precision: 0.8184 - recall: 0.7106 - val_loss: 0.9208 - val_precision: 0.8308 - val_recall: 0.7043 - lr: 0.0010\n",
      "Epoch 26/500\n",
      "161/161 [==============================] - ETA: 0s - loss: 0.7072 - precision: 0.8098 - recall: 0.6977INFO:tensorflow:Assets written to: DL_model\\assets\n",
      "161/161 [==============================] - 76s 473ms/step - loss: 0.7072 - precision: 0.8098 - recall: 0.6977 - val_loss: 0.8690 - val_precision: 0.8499 - val_recall: 0.7342 - lr: 0.0010\n"
     ]
    },
    {
     "name": "stdout",
     "output_type": "stream",
     "text": [
      "Epoch 27/500\n",
      "161/161 [==============================] - 40s 251ms/step - loss: 0.6960 - precision: 0.8188 - recall: 0.7085 - val_loss: 1.3229 - val_precision: 0.7121 - val_recall: 0.6091 - lr: 0.0010\n",
      "Epoch 28/500\n",
      "161/161 [==============================] - 47s 294ms/step - loss: 0.6782 - precision: 0.8144 - recall: 0.7170 - val_loss: 0.9926 - val_precision: 0.8135 - val_recall: 0.6878 - lr: 0.0010\n",
      "Epoch 29/500\n",
      "161/161 [==============================] - 39s 244ms/step - loss: 0.6923 - precision: 0.8136 - recall: 0.7067 - val_loss: 0.9880 - val_precision: 0.7742 - val_recall: 0.7023 - lr: 0.0010\n",
      "Epoch 30/500\n",
      "161/161 [==============================] - 37s 231ms/step - loss: 0.6841 - precision: 0.8158 - recall: 0.7180 - val_loss: 0.8946 - val_precision: 0.8424 - val_recall: 0.7177 - lr: 0.0010\n",
      "Epoch 31/500\n",
      "161/161 [==============================] - ETA: 0s - loss: 0.6748 - precision: 0.8150 - recall: 0.7188 - ETA: 21s - loss: 0.69INFO:tensorflow:Assets written to: DL_model\\assets\n",
      "161/161 [==============================] - 78s 482ms/step - loss: 0.6748 - precision: 0.8150 - recall: 0.7188 - val_loss: 0.8185 - val_precision: 0.8492 - val_recall: 0.7518 - lr: 0.0010\n",
      "Epoch 32/500\n",
      "161/161 [==============================] - 37s 228ms/step - loss: 0.6570 - precision: 0.8212 - recall: 0.7275 - val_loss: 0.8283 - val_precision: 0.8278 - val_recall: 0.7652 - lr: 0.0010\n",
      "Epoch 33/500\n",
      "161/161 [==============================] - 36s 223ms/step - loss: 0.6250 - precision: 0.8319 - recall: 0.7353 - val_loss: 0.8303 - val_precision: 0.8460 - val_recall: 0.7457 - lr: 0.0010\n",
      "Epoch 34/500\n",
      "161/161 [==============================] - 34s 214ms/step - loss: 0.6626 - precision: 0.8239 - recall: 0.7279 - val_loss: 0.9338 - val_precision: 0.8263 - val_recall: 0.7484 - lr: 0.0010\n",
      "Epoch 35/500\n",
      "161/161 [==============================] - 36s 223ms/step - loss: 0.7073 - precision: 0.8219 - recall: 0.7289 - val_loss: 0.8406 - val_precision: 0.8366 - val_recall: 0.7622 - lr: 0.0010\n",
      "Epoch 36/500\n",
      "161/161 [==============================] - ETA: 0s - loss: 0.6543 - precision: 0.8296 - recall: 0.7359 ETA: 2s - loss: 0.6580 - precision: 0INFO:tensorflow:Assets written to: DL_model\\assets\n",
      "161/161 [==============================] - 79s 491ms/step - loss: 0.6543 - precision: 0.8296 - recall: 0.7359 - val_loss: 0.7806 - val_precision: 0.8461 - val_recall: 0.7737 - lr: 0.0010\n",
      "Epoch 37/500\n",
      "161/161 [==============================] - 46s 289ms/step - loss: 0.6546 - precision: 0.8200 - recall: 0.7283 - val_loss: 0.9189 - val_precision: 0.8444 - val_recall: 0.7326 - lr: 0.0010\n",
      "Epoch 38/500\n",
      "161/161 [==============================] - 48s 300ms/step - loss: 0.6336 - precision: 0.8451 - recall: 0.7570 - val_loss: 0.8168 - val_precision: 0.8510 - val_recall: 0.7733 - lr: 1.0000e-04\n",
      "Epoch 39/500\n",
      "161/161 [==============================] - 46s 285ms/step - loss: 0.5815 - precision: 0.8483 - recall: 0.7667 - val_loss: 0.7872 - val_precision: 0.8526 - val_recall: 0.7745 - lr: 1.0000e-04\n",
      "Epoch 40/500\n",
      "161/161 [==============================] - ETA: 0s - loss: 0.5506 - precision: 0.8529 - recall: 0.7742INFO:tensorflow:Assets written to: DL_model\\assets\n",
      "161/161 [==============================] - 103s 638ms/step - loss: 0.5506 - precision: 0.8529 - recall: 0.7742 - val_loss: 0.7578 - val_precision: 0.8539 - val_recall: 0.7825 - lr: 1.0000e-04\n",
      "Epoch 41/500\n",
      "161/161 [==============================] - ETA: 0s - loss: 0.5308 - precision: 0.8597 - recall: 0.7869INFO:tensorflow:Assets written to: DL_model\\assets\n",
      "161/161 [==============================] - 91s 567ms/step - loss: 0.5308 - precision: 0.8597 - recall: 0.7869 - val_loss: 0.7531 - val_precision: 0.8516 - val_recall: 0.7837 - lr: 1.0000e-04\n",
      "Epoch 42/500\n",
      "161/161 [==============================] - ETA: 0s - loss: 0.5173 - precision: 0.8544 - recall: 0.7833INFO:tensorflow:Assets written to: DL_model\\assets\n",
      "161/161 [==============================] - 97s 605ms/step - loss: 0.5173 - precision: 0.8544 - recall: 0.7833 - val_loss: 0.7385 - val_precision: 0.8537 - val_recall: 0.7856 - lr: 1.0000e-04\n",
      "Epoch 43/500\n",
      "161/161 [==============================] - ETA: 0s - loss: 0.5148 - precision: 0.8587 - recall: 0.7872INFO:tensorflow:Assets written to: DL_model\\assets\n",
      "161/161 [==============================] - 83s 518ms/step - loss: 0.5148 - precision: 0.8587 - recall: 0.7872 - val_loss: 0.7265 - val_precision: 0.8545 - val_recall: 0.7817 - lr: 1.0000e-04\n",
      "Epoch 44/500\n",
      "161/161 [==============================] - ETA: 0s - loss: 0.4977 - precision: 0.8519 - recall: 0.7883INFO:tensorflow:Assets written to: DL_model\\assets\n",
      "161/161 [==============================] - 83s 518ms/step - loss: 0.4977 - precision: 0.8519 - recall: 0.7883 - val_loss: 0.7223 - val_precision: 0.8525 - val_recall: 0.7871 - lr: 1.0000e-04\n",
      "Epoch 45/500\n",
      "161/161 [==============================] - 32s 199ms/step - loss: 0.5034 - precision: 0.8558 - recall: 0.7842 - val_loss: 0.7273 - val_precision: 0.8542 - val_recall: 0.7863 - lr: 1.0000e-04\n",
      "Epoch 46/500\n",
      "161/161 [==============================] - 33s 202ms/step - loss: 0.4861 - precision: 0.8549 - recall: 0.7893 - val_loss: 0.7223 - val_precision: 0.8496 - val_recall: 0.7863 - lr: 1.0000e-04\n",
      "Epoch 47/500\n",
      "161/161 [==============================] - 31s 192ms/step - loss: 0.4800 - precision: 0.8601 - recall: 0.7914 - val_loss: 0.7291 - val_precision: 0.8453 - val_recall: 0.7879 - lr: 1.0000e-04\n",
      "Epoch 48/500\n",
      "161/161 [==============================] - ETA: 0s - loss: 0.4687 - precision: 0.8615 - recall: 0.7984INFO:tensorflow:Assets written to: DL_model\\assets\n",
      "161/161 [==============================] - 86s 534ms/step - loss: 0.4687 - precision: 0.8615 - recall: 0.7984 - val_loss: 0.7121 - val_precision: 0.8465 - val_recall: 0.7913 - lr: 1.0000e-04\n",
      "Epoch 49/500\n",
      "161/161 [==============================] - ETA: 0s - loss: 0.4651 - precision: 0.8606 - recall: 0.7972INFO:tensorflow:Assets written to: DL_model\\assets\n",
      "161/161 [==============================] - 67s 416ms/step - loss: 0.4651 - precision: 0.8606 - recall: 0.7972 - val_loss: 0.6969 - val_precision: 0.8484 - val_recall: 0.7940 - lr: 1.0000e-04\n",
      "Epoch 50/500\n",
      "161/161 [==============================] - 29s 181ms/step - loss: 0.4683 - precision: 0.8614 - recall: 0.7966 - val_loss: 0.7035 - val_precision: 0.8445 - val_recall: 0.7917 - lr: 1.0000e-04\n",
      "Epoch 51/500\n",
      "161/161 [==============================] - 29s 179ms/step - loss: 0.4587 - precision: 0.8631 - recall: 0.7998 - val_loss: 0.7034 - val_precision: 0.8501 - val_recall: 0.7940 - lr: 1.0000e-04\n",
      "Epoch 52/500\n",
      "161/161 [==============================] - 29s 178ms/step - loss: 0.4572 - precision: 0.8619 - recall: 0.7998 - val_loss: 0.7082 - val_precision: 0.8441 - val_recall: 0.7848 - lr: 1.0000e-04\n",
      "Epoch 53/500\n",
      "161/161 [==============================] - 29s 181ms/step - loss: 0.4517 - precision: 0.8608 - recall: 0.7984 - val_loss: 0.6996 - val_precision: 0.8488 - val_recall: 0.7883 - lr: 1.0000e-04\n",
      "Epoch 54/500\n",
      "161/161 [==============================] - ETA: 0s - loss: 0.4453 - precision: 0.8597 - recall: 0.8015INFO:tensorflow:Assets written to: DL_model\\assets\n",
      "161/161 [==============================] - 70s 435ms/step - loss: 0.4453 - precision: 0.8597 - recall: 0.8015 - val_loss: 0.6908 - val_precision: 0.8491 - val_recall: 0.7940 - lr: 1.0000e-04\n",
      "Epoch 55/500\n",
      "161/161 [==============================] - ETA: 0s - loss: 0.4298 - precision: 0.8671 - recall: 0.8099INFO:tensorflow:Assets written to: DL_model\\assets\n",
      "161/161 [==============================] - 72s 445ms/step - loss: 0.4298 - precision: 0.8671 - recall: 0.8099 - val_loss: 0.6858 - val_precision: 0.8486 - val_recall: 0.7956 - lr: 1.0000e-04\n",
      "Epoch 56/500\n",
      "161/161 [==============================] - 33s 203ms/step - loss: 0.4374 - precision: 0.8650 - recall: 0.8049 - val_loss: 0.6880 - val_precision: 0.8452 - val_recall: 0.7940 - lr: 1.0000e-04\n",
      "Epoch 57/500\n",
      "161/161 [==============================] - 32s 199ms/step - loss: 0.4327 - precision: 0.8635 - recall: 0.8100 - val_loss: 0.6869 - val_precision: 0.8470 - val_recall: 0.7944 - lr: 1.0000e-04\n",
      "Epoch 58/500\n",
      "161/161 [==============================] - 32s 200ms/step - loss: 0.4281 - precision: 0.8658 - recall: 0.8122 - val_loss: 0.6861 - val_precision: 0.8413 - val_recall: 0.7990 - lr: 1.0000e-04\n"
     ]
    },
    {
     "name": "stdout",
     "output_type": "stream",
     "text": [
      "Epoch 59/500\n",
      "161/161 [==============================] - 33s 204ms/step - loss: 0.4302 - precision: 0.8636 - recall: 0.8109 - val_loss: 0.6994 - val_precision: 0.8451 - val_recall: 0.7932 - lr: 1.0000e-04\n",
      "Epoch 60/500\n",
      "161/161 [==============================] - 32s 201ms/step - loss: 0.4186 - precision: 0.8674 - recall: 0.8169 - val_loss: 0.6914 - val_precision: 0.8477 - val_recall: 0.7963 - lr: 1.0000e-04\n",
      "Epoch 61/500\n",
      "161/161 [==============================] - 31s 195ms/step - loss: 0.4257 - precision: 0.8651 - recall: 0.8115 - val_loss: 0.6874 - val_precision: 0.8442 - val_recall: 0.7921 - lr: 1.0000e-04\n",
      "Epoch 62/500\n",
      "161/161 [==============================] - 32s 201ms/step - loss: 0.4227 - precision: 0.8645 - recall: 0.8091 - val_loss: 0.6880 - val_precision: 0.8398 - val_recall: 0.7940 - lr: 1.0000e-04\n",
      "f1-scores\n",
      "[[799  44  63  59   5   9   3]\n",
      " [ 34 484  19  35   1   2   0]\n",
      " [ 38  30 348  42   0   1   0]\n",
      " [ 11  33  18 336   2   1   1]\n",
      " [  2   1   0   4  83   0   0]\n",
      " [  4   3   0   0   0  45   0]\n",
      " [  3   0   1   0   0   0  43]]\n",
      "[0.85317672 0.82735043 0.76651982 0.76537585 0.91712707 0.81818182\n",
      " 0.91489362]\n",
      "Macro f1-score: 0.8375179048880032\n"
     ]
    },
    {
     "data": {
      "image/png": "[encoded data removed]",
      "text/plain": [
       "<Figure size 432x288 with 1 Axes>"
      ]
     },
     "metadata": {
      "needs_background": "light"
     },
     "output_type": "display_data"
    }
   ],
   "source": [
    "tc.fit_deep_learning()"
   ]
  },
  {
   "cell_type": "code",
   "execution_count": null,
   "metadata": {},
   "outputs": [],
   "source": []
  }
 ],
 "metadata": {
  "kernelspec": {
   "display_name": "text_bay",
   "language": "python",
   "name": "text_bay"
  },
  "language_info": {
   "codemirror_mode": {
    "name": "ipython",
    "version": 3
   },
   "file_extension": ".py",
   "mimetype": "text/x-python",
   "name": "python",
   "nbconvert_exporter": "python",
   "pygments_lexer": "ipython3",
   "version": "3.6.10"
  }
 },
 "nbformat": 4,
 "nbformat_minor": 2
}
