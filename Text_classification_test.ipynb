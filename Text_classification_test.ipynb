{
 "cells": [
  {
   "cell_type": "code",
   "execution_count": 1,
   "metadata": {},
   "outputs": [],
   "source": [
    "import os\n",
    "import pandas as pd\n",
    "import numpy as np"
   ]
  },
  {
   "cell_type": "code",
   "execution_count": 2,
   "metadata": {},
   "outputs": [],
   "source": [
    "from preprocessing import Word_Embedder\n",
    "from preprocessing import Text_processing\n",
    "from text_classification import Text_classification, Text_classification_for_prediction\n",
    "from text_classification import prepare_data_for_text_classification"
   ]
  },
  {
   "cell_type": "code",
   "execution_count": 3,
   "metadata": {},
   "outputs": [
    {
     "data": {
      "text/html": [
       "<div>\n",
       "<style scoped>\n",
       "    .dataframe tbody tr th:only-of-type {\n",
       "        vertical-align: middle;\n",
       "    }\n",
       "\n",
       "    .dataframe tbody tr th {\n",
       "        vertical-align: top;\n",
       "    }\n",
       "\n",
       "    .dataframe thead th {\n",
       "        text-align: right;\n",
       "    }\n",
       "</style>\n",
       "<table border=\"1\" class=\"dataframe\">\n",
       "  <thead>\n",
       "    <tr style=\"text-align: right;\">\n",
       "      <th></th>\n",
       "      <th>texts</th>\n",
       "      <th>texts_deepcut</th>\n",
       "      <th>action</th>\n",
       "      <th>object</th>\n",
       "      <th>destination</th>\n",
       "    </tr>\n",
       "  </thead>\n",
       "  <tbody>\n",
       "    <tr>\n",
       "      <th>0</th>\n",
       "      <td>สอบถาม package internet ว่ามีแบบไหนบ้างครับ</td>\n",
       "      <td>สอบถาม package internet ว่า มี แบบ ไหน บ้าง ครับ</td>\n",
       "      <td>enquire</td>\n",
       "      <td>promotion</td>\n",
       "      <td>promotions</td>\n",
       "    </tr>\n",
       "    <tr>\n",
       "      <th>1</th>\n",
       "      <td>พอดีพี่ซื้อเบอร์ซิม Inter ไปแล้ว แต่ยังไม่ได้ล...</td>\n",
       "      <td>พอดี พี่ ซื้อ เบอร์ซิม Inter ไป แล้ว แต่ ยัง ไ...</td>\n",
       "      <td>enquire</td>\n",
       "      <td>detail</td>\n",
       "      <td>billing and payment</td>\n",
       "    </tr>\n",
       "    <tr>\n",
       "      <th>2</th>\n",
       "      <td>ค่ะ พี่ค่ะ คืออยู่ๆ เน็ตเล่นไม่ได้อ่ะค่ะ</td>\n",
       "      <td>ค่ะ พี่ ค่ะ คือ อยู่ ๆ เน็ต เล่น ไม่ ได้ อ่ะ ค่ะ</td>\n",
       "      <td>enquire</td>\n",
       "      <td>internet</td>\n",
       "      <td>internet</td>\n",
       "    </tr>\n",
       "    <tr>\n",
       "      <th>3</th>\n",
       "      <td>การเปลี่ยน ระบบจาก ทรู เป็น ทรูเอช มีค่าบริการ...</td>\n",
       "      <td>การ เปลี่ยน ระบบ จาก ทรู เป็น ทรูเอช มี ค่า บร...</td>\n",
       "      <td>enquire</td>\n",
       "      <td>rate</td>\n",
       "      <td>promotions</td>\n",
       "    </tr>\n",
       "    <tr>\n",
       "      <th>4</th>\n",
       "      <td>เช็คให้หน่อยได้ไหมครับ ว่าเบอร์ของผม เปลี่ยนเป...</td>\n",
       "      <td>เช็ค ให้ หน่อย ได้ ไหม ครับ ว่า เบอร์ ของ ผม เ...</td>\n",
       "      <td>enquire</td>\n",
       "      <td>package</td>\n",
       "      <td>promotions</td>\n",
       "    </tr>\n",
       "  </tbody>\n",
       "</table>\n",
       "</div>"
      ],
      "text/plain": [
       "                                               texts  \\\n",
       "0        สอบถาม package internet ว่ามีแบบไหนบ้างครับ   \n",
       "1  พอดีพี่ซื้อเบอร์ซิม Inter ไปแล้ว แต่ยังไม่ได้ล...   \n",
       "2           ค่ะ พี่ค่ะ คืออยู่ๆ เน็ตเล่นไม่ได้อ่ะค่ะ   \n",
       "3  การเปลี่ยน ระบบจาก ทรู เป็น ทรูเอช มีค่าบริการ...   \n",
       "4  เช็คให้หน่อยได้ไหมครับ ว่าเบอร์ของผม เปลี่ยนเป...   \n",
       "\n",
       "                                       texts_deepcut   action     object  \\\n",
       "0   สอบถาม package internet ว่า มี แบบ ไหน บ้าง ครับ  enquire  promotion   \n",
       "1  พอดี พี่ ซื้อ เบอร์ซิม Inter ไป แล้ว แต่ ยัง ไ...  enquire     detail   \n",
       "2   ค่ะ พี่ ค่ะ คือ อยู่ ๆ เน็ต เล่น ไม่ ได้ อ่ะ ค่ะ  enquire   internet   \n",
       "3  การ เปลี่ยน ระบบ จาก ทรู เป็น ทรูเอช มี ค่า บร...  enquire       rate   \n",
       "4  เช็ค ให้ หน่อย ได้ ไหม ครับ ว่า เบอร์ ของ ผม เ...  enquire    package   \n",
       "\n",
       "           destination  \n",
       "0           promotions  \n",
       "1  billing and payment  \n",
       "2             internet  \n",
       "3           promotions  \n",
       "4           promotions  "
      ]
     },
     "execution_count": 3,
     "metadata": {},
     "output_type": "execute_result"
    }
   ],
   "source": [
    "df = pd.read_csv('mari-train-balanced.csv')\n",
    "df2 = pd.read_csv('mari-test-balanced.csv')\n",
    "df.head()"
   ]
  },
  {
   "cell_type": "code",
   "execution_count": 4,
   "metadata": {},
   "outputs": [],
   "source": [
    "df = df.rename(columns={'destination': 'labels'})[['texts', 'labels']]\n",
    "df2 = df2.rename(columns={'destination': 'labels'})[['texts', 'labels']]"
   ]
  },
  {
   "cell_type": "code",
   "execution_count": 5,
   "metadata": {},
   "outputs": [
    {
     "data": {
      "text/html": [
       "<div>\n",
       "<style scoped>\n",
       "    .dataframe tbody tr th:only-of-type {\n",
       "        vertical-align: middle;\n",
       "    }\n",
       "\n",
       "    .dataframe tbody tr th {\n",
       "        vertical-align: top;\n",
       "    }\n",
       "\n",
       "    .dataframe thead th {\n",
       "        text-align: right;\n",
       "    }\n",
       "</style>\n",
       "<table border=\"1\" class=\"dataframe\">\n",
       "  <thead>\n",
       "    <tr style=\"text-align: right;\">\n",
       "      <th></th>\n",
       "      <th>texts</th>\n",
       "      <th>labels</th>\n",
       "    </tr>\n",
       "  </thead>\n",
       "  <tbody>\n",
       "    <tr>\n",
       "      <th>0</th>\n",
       "      <td>สอบถาม package internet ว่ามีแบบไหนบ้างครับ</td>\n",
       "      <td>promotions</td>\n",
       "    </tr>\n",
       "    <tr>\n",
       "      <th>1</th>\n",
       "      <td>พอดีพี่ซื้อเบอร์ซิม Inter ไปแล้ว แต่ยังไม่ได้ล...</td>\n",
       "      <td>billing and payment</td>\n",
       "    </tr>\n",
       "    <tr>\n",
       "      <th>2</th>\n",
       "      <td>ค่ะ พี่ค่ะ คืออยู่ๆ เน็ตเล่นไม่ได้อ่ะค่ะ</td>\n",
       "      <td>internet</td>\n",
       "    </tr>\n",
       "    <tr>\n",
       "      <th>3</th>\n",
       "      <td>การเปลี่ยน ระบบจาก ทรู เป็น ทรูเอช มีค่าบริการ...</td>\n",
       "      <td>promotions</td>\n",
       "    </tr>\n",
       "    <tr>\n",
       "      <th>4</th>\n",
       "      <td>เช็คให้หน่อยได้ไหมครับ ว่าเบอร์ของผม เปลี่ยนเป...</td>\n",
       "      <td>promotions</td>\n",
       "    </tr>\n",
       "  </tbody>\n",
       "</table>\n",
       "</div>"
      ],
      "text/plain": [
       "                                               texts               labels\n",
       "0        สอบถาม package internet ว่ามีแบบไหนบ้างครับ           promotions\n",
       "1  พอดีพี่ซื้อเบอร์ซิม Inter ไปแล้ว แต่ยังไม่ได้ล...  billing and payment\n",
       "2           ค่ะ พี่ค่ะ คืออยู่ๆ เน็ตเล่นไม่ได้อ่ะค่ะ             internet\n",
       "3  การเปลี่ยน ระบบจาก ทรู เป็น ทรูเอช มีค่าบริการ...           promotions\n",
       "4  เช็คให้หน่อยได้ไหมครับ ว่าเบอร์ของผม เปลี่ยนเป...           promotions"
      ]
     },
     "execution_count": 5,
     "metadata": {},
     "output_type": "execute_result"
    }
   ],
   "source": [
    "df.head()"
   ]
  },
  {
   "cell_type": "code",
   "execution_count": 6,
   "metadata": {},
   "outputs": [
    {
     "name": "stderr",
     "output_type": "stream",
     "text": [
      "Warning : `load_model` does not return WordVectorModel or SupervisedModel any more, but a `FastText` object which is very similar.\n"
     ]
    },
    {
     "name": "stdout",
     "output_type": "stream",
     "text": [
      "billing and payment      3916\n",
      "promotions               2280\n",
      "other queries            1823\n",
      "internet                 1588\n",
      "international dialing     336\n",
      "true money                188\n",
      "lost and stolen           172\n",
      "Name: labels, dtype: int64\n"
     ]
    },
    {
     "name": "stderr",
     "output_type": "stream",
     "text": [
      "C:\\Users\\Admin\\Anaconda3\\envs\\text_bay\\lib\\site-packages\\sklearn\\utils\\validation.py:71: FutureWarning: Pass classes=[0 1 2 3 4 5 6], y=[1 0 3 ... 0 0 2] as keyword args. From version 0.25 passing these as positional arguments will result in an error\n",
      "  FutureWarning)\n"
     ]
    },
    {
     "name": "stdout",
     "output_type": "stream",
     "text": [
      "CW2: {0: 0.3758572887786371, 1: 0.6455513784461153, 2: 0.8073818666248727, 3: 0.9268621806405182, 4: 4.380527210884353, 5: 7.829027355623101, 6: 8.557308970099667}\n"
     ]
    }
   ],
   "source": [
    "tmp_data = prepare_data_for_text_classification(df,df2,64,1)"
   ]
  },
  {
   "cell_type": "code",
   "execution_count": 7,
   "metadata": {},
   "outputs": [
    {
     "name": "stdout",
     "output_type": "stream",
     "text": [
      "Created the path: trained_models\\text_classification\n",
      "Model: \"model\"\n",
      "__________________________________________________________________________________________________\n",
      "Layer (type)                    Output Shape         Param #     Connected to                     \n",
      "==================================================================================================\n",
      "word_vectors (InputLayer)       [(None, 64, 300)]    0                                            \n",
      "__________________________________________________________________________________________________\n",
      "masks (InputLayer)              [(None, 64)]         0                                            \n",
      "__________________________________________________________________________________________________\n",
      "bidirectional (Bidirectional)   (None, 64, 256)      330240      word_vectors[0][0]               \n",
      "__________________________________________________________________________________________________\n",
      "bidirectional_1 (Bidirectional) (None, 64, 256)      296448      bidirectional[0][0]              \n",
      "__________________________________________________________________________________________________\n",
      "dropout (Dropout)               (None, 64, 256)      0           bidirectional_1[0][0]            \n",
      "__________________________________________________________________________________________________\n",
      "flatten (Flatten)               (None, 16384)        0           dropout[0][0]                    \n",
      "__________________________________________________________________________________________________\n",
      "dense (Dense)                   (None, 128)          2097280     flatten[0][0]                    \n",
      "__________________________________________________________________________________________________\n",
      "batch_normalization (BatchNorma (None, 128)          512         dense[0][0]                      \n",
      "__________________________________________________________________________________________________\n",
      "leaky_re_lu (LeakyReLU)         (None, 128)          0           batch_normalization[0][0]        \n",
      "__________________________________________________________________________________________________\n",
      "dense_1 (Dense)                 (None, 64)           8256        leaky_re_lu[0][0]                \n",
      "__________________________________________________________________________________________________\n",
      "batch_normalization_1 (BatchNor (None, 64)           256         dense_1[0][0]                    \n",
      "__________________________________________________________________________________________________\n",
      "leaky_re_lu_1 (LeakyReLU)       (None, 64)           0           batch_normalization_1[0][0]      \n",
      "__________________________________________________________________________________________________\n",
      "dense_2 (Dense)                 (None, 32)           2080        leaky_re_lu_1[0][0]              \n",
      "__________________________________________________________________________________________________\n",
      "batch_normalization_2 (BatchNor (None, 32)           128         dense_2[0][0]                    \n",
      "__________________________________________________________________________________________________\n",
      "leaky_re_lu_2 (LeakyReLU)       (None, 32)           0           batch_normalization_2[0][0]      \n",
      "__________________________________________________________________________________________________\n",
      "seq_out (Dense)                 (None, 7)            231         leaky_re_lu_2[0][0]              \n",
      "==================================================================================================\n",
      "Total params: 2,735,431\n",
      "Trainable params: 2,734,983\n",
      "Non-trainable params: 448\n",
      "__________________________________________________________________________________________________\n"
     ]
    }
   ],
   "source": [
    "tc =Text_classification(tmp_data, True, True, False)"
   ]
  },
  {
   "cell_type": "code",
   "execution_count": 8,
   "metadata": {},
   "outputs": [
    {
     "name": "stdout",
     "output_type": "stream",
     "text": [
      "Linear classifier part\n",
      "running 5-fold cv\n",
      "Best C: 5, Best f1-scores: [0.88116243 0.90909091 0.77590361 0.88172043 0.80133185 0.85617597\n",
      " 0.95238095]\n",
      "Unweighted f1-score: 0.8653951658723057, Weighted f1-score: 0.8477599212454612\n"
     ]
    },
    {
     "data": {
      "image/png": "[encoded data removed]",
      "text/plain": [
       "<Figure size 432x288 with 2 Axes>"
      ]
     },
     "metadata": {
      "needs_background": "light"
     },
     "output_type": "display_data"
    }
   ],
   "source": [
    "tc.fit_linear_classifier()"
   ]
  },
  {
   "cell_type": "code",
   "execution_count": null,
   "metadata": {
    "scrolled": true
   },
   "outputs": [
    {
     "name": "stdout",
     "output_type": "stream",
     "text": [
      "Epoch 1/500\n",
      "161/161 [==============================] - 20s 123ms/step - loss: 2.3218 - precision: 0.6018 - recall: 0.1678 - val_loss: 2.1210 - val_precision: 0.8277 - val_recall: 0.2616 - lr: 0.0020\n",
      "Epoch 2/500\n",
      "161/161 [==============================] - 16s 97ms/step - loss: 1.5987 - precision: 0.7250 - recall: 0.4283 - val_loss: 1.5567 - val_precision: 0.8192 - val_recall: 0.5355 - lr: 0.0020\n",
      "Epoch 3/500\n",
      "161/161 [==============================] - 16s 98ms/step - loss: 1.3733 - precision: 0.7320 - recall: 0.4844 - val_loss: 1.5071 - val_precision: 0.7810 - val_recall: 0.5581 - lr: 0.0020\n",
      "Epoch 4/500\n",
      "161/161 [==============================] - 16s 99ms/step - loss: 1.2961 - precision: 0.7353 - recall: 0.5025 - val_loss: 1.6417 - val_precision: 0.7341 - val_recall: 0.4703 - lr: 0.0020\n",
      "Epoch 5/500\n",
      "161/161 [==============================] - 17s 105ms/step - loss: 1.1876 - precision: 0.7474 - recall: 0.5259 - val_loss: 1.1644 - val_precision: 0.8043 - val_recall: 0.6387 - lr: 0.0020\n",
      "Epoch 6/500\n",
      "161/161 [==============================] - 16s 101ms/step - loss: 1.0862 - precision: 0.7659 - recall: 0.5615 - val_loss: 1.1480 - val_precision: 0.8248 - val_recall: 0.6663 - lr: 0.0020\n",
      "Epoch 7/500\n",
      "161/161 [==============================] - 16s 100ms/step - loss: 1.0822 - precision: 0.7586 - recall: 0.5651 - val_loss: 1.0509 - val_precision: 0.8276 - val_recall: 0.6720 - lr: 0.0020\n",
      "Epoch 8/500\n",
      "161/161 [==============================] - 15s 95ms/step - loss: 0.9845 - precision: 0.7726 - recall: 0.5961 - val_loss: 1.1232 - val_precision: 0.8309 - val_recall: 0.6559 - lr: 0.0020\n",
      "Epoch 9/500\n",
      "161/161 [==============================] - 15s 94ms/step - loss: 1.0118 - precision: 0.7698 - recall: 0.5907 - val_loss: 1.1573 - val_precision: 0.7923 - val_recall: 0.6437 - lr: 0.0020\n",
      "Epoch 10/500\n",
      "161/161 [==============================] - 15s 94ms/step - loss: 0.9964 - precision: 0.7727 - recall: 0.6122 - val_loss: 1.2427 - val_precision: 0.8044 - val_recall: 0.6356 - lr: 0.0020\n",
      "Epoch 11/500\n",
      "161/161 [==============================] - 16s 99ms/step - loss: 0.9841 - precision: 0.7825 - recall: 0.6223 - val_loss: 1.0330 - val_precision: 0.8525 - val_recall: 0.6697 - lr: 0.0020\n",
      "Epoch 12/500\n",
      "161/161 [==============================] - 16s 96ms/step - loss: 0.9184 - precision: 0.7930 - recall: 0.6437 - val_loss: 1.0960 - val_precision: 0.8265 - val_recall: 0.6448 - lr: 0.0020\n",
      "Epoch 13/500\n",
      "161/161 [==============================] - 16s 100ms/step - loss: 0.8713 - precision: 0.7910 - recall: 0.6520 - val_loss: 0.9439 - val_precision: 0.8436 - val_recall: 0.7200 - lr: 0.0020\n",
      "Epoch 14/500\n",
      "161/161 [==============================] - 16s 98ms/step - loss: 0.8570 - precision: 0.7964 - recall: 0.6548 - val_loss: 1.0304 - val_precision: 0.8227 - val_recall: 0.7012 - lr: 0.0020\n",
      "Epoch 15/500\n",
      "161/161 [==============================] - 16s 97ms/step - loss: 0.8490 - precision: 0.7929 - recall: 0.6612 - val_loss: 0.9334 - val_precision: 0.8498 - val_recall: 0.7227 - lr: 0.0020\n",
      "Epoch 16/500\n",
      "161/161 [==============================] - 15s 94ms/step - loss: 0.8229 - precision: 0.8058 - recall: 0.6799 - val_loss: 1.1968 - val_precision: 0.8001 - val_recall: 0.6479 - lr: 0.0020\n",
      "Epoch 17/500\n",
      "161/161 [==============================] - 15s 94ms/step - loss: 0.7978 - precision: 0.8035 - recall: 0.6813 - val_loss: 0.9771 - val_precision: 0.8287 - val_recall: 0.6736 - lr: 0.0020\n",
      "Epoch 18/500\n",
      "161/161 [==============================] - 15s 96ms/step - loss: 0.8180 - precision: 0.7944 - recall: 0.6672 - val_loss: 1.0768 - val_precision: 0.7972 - val_recall: 0.6832 - lr: 0.0020\n",
      "Epoch 19/500\n",
      "161/161 [==============================] - 16s 101ms/step - loss: 0.8351 - precision: 0.7980 - recall: 0.6739 - val_loss: 0.9660 - val_precision: 0.8248 - val_recall: 0.7242 - lr: 0.0020\n",
      "Epoch 20/500\n",
      "161/161 [==============================] - 16s 101ms/step - loss: 0.8946 - precision: 0.8021 - recall: 0.6725 - val_loss: 0.9604 - val_precision: 0.8554 - val_recall: 0.7307 - lr: 0.0020\n",
      "Epoch 21/500\n",
      "161/161 [==============================] - 16s 98ms/step - loss: 0.8405 - precision: 0.8079 - recall: 0.6749 - val_loss: 0.9392 - val_precision: 0.8506 - val_recall: 0.7296 - lr: 0.0020\n",
      "Epoch 22/500\n",
      "161/161 [==============================] - 16s 100ms/step - loss: 0.7165 - precision: 0.8321 - recall: 0.7149 - val_loss: 0.8686 - val_precision: 0.8496 - val_recall: 0.7626 - lr: 2.0000e-04\n",
      "Epoch 23/500\n",
      "161/161 [==============================] - 16s 97ms/step - loss: 0.6624 - precision: 0.8342 - recall: 0.7385 - val_loss: 0.8411 - val_precision: 0.8472 - val_recall: 0.7675 - lr: 2.0000e-04\n",
      "Epoch 24/500\n",
      "161/161 [==============================] - 15s 96ms/step - loss: 0.6459 - precision: 0.8381 - recall: 0.7429 - val_loss: 0.8268 - val_precision: 0.8453 - val_recall: 0.7714 - lr: 2.0000e-04\n",
      "Epoch 25/500\n",
      "161/161 [==============================] - 16s 97ms/step - loss: 0.6188 - precision: 0.8406 - recall: 0.7483 - val_loss: 0.8147 - val_precision: 0.8413 - val_recall: 0.7645 - lr: 2.0000e-04\n",
      "Epoch 26/500\n",
      "161/161 [==============================] - 17s 105ms/step - loss: 0.6050 - precision: 0.8423 - recall: 0.7525 - val_loss: 0.7922 - val_precision: 0.8459 - val_recall: 0.7771 - lr: 2.0000e-04\n",
      "Epoch 27/500\n",
      "161/161 [==============================] - 17s 104ms/step - loss: 0.5927 - precision: 0.8406 - recall: 0.7560 - val_loss: 0.7753 - val_precision: 0.8466 - val_recall: 0.7814 - lr: 2.0000e-04\n",
      "Epoch 28/500\n",
      "161/161 [==============================] - 16s 102ms/step - loss: 0.5795 - precision: 0.8418 - recall: 0.7623 - val_loss: 0.7786 - val_precision: 0.8402 - val_recall: 0.7706 - lr: 2.0000e-04\n",
      "Epoch 29/500\n",
      "161/161 [==============================] - 18s 112ms/step - loss: 0.5746 - precision: 0.8418 - recall: 0.7620 - val_loss: 0.7625 - val_precision: 0.8438 - val_recall: 0.7810 - lr: 2.0000e-04\n",
      "Epoch 30/500\n",
      "161/161 [==============================] - 16s 97ms/step - loss: 0.5589 - precision: 0.8416 - recall: 0.7595 - val_loss: 0.7509 - val_precision: 0.8499 - val_recall: 0.7798 - lr: 2.0000e-04\n",
      "Epoch 31/500\n",
      "161/161 [==============================] - 15s 94ms/step - loss: 0.5501 - precision: 0.8465 - recall: 0.7688 - val_loss: 0.7543 - val_precision: 0.8458 - val_recall: 0.7825 - lr: 2.0000e-04\n",
      "Epoch 32/500\n",
      "161/161 [==============================] - 16s 98ms/step - loss: 0.5441 - precision: 0.8467 - recall: 0.7685 - val_loss: 0.7373 - val_precision: 0.8501 - val_recall: 0.7829 - lr: 2.0000e-04\n",
      "Epoch 33/500\n",
      "161/161 [==============================] - 17s 109ms/step - loss: 0.5349 - precision: 0.8443 - recall: 0.7666 - val_loss: 0.7325 - val_precision: 0.8480 - val_recall: 0.7894 - lr: 2.0000e-04\n",
      "Epoch 34/500\n",
      "161/161 [==============================] - 17s 105ms/step - loss: 0.5246 - precision: 0.8505 - recall: 0.7814 - val_loss: 0.7346 - val_precision: 0.8488 - val_recall: 0.7817 - lr: 2.0000e-04\n",
      "Epoch 35/500\n",
      "161/161 [==============================] - 17s 103ms/step - loss: 0.5170 - precision: 0.8488 - recall: 0.7739 - val_loss: 0.7234 - val_precision: 0.8501 - val_recall: 0.7898 - lr: 2.0000e-04\n",
      "Epoch 36/500\n",
      "161/161 [==============================] - 16s 102ms/step - loss: 0.5157 - precision: 0.8502 - recall: 0.7756 - val_loss: 0.7178 - val_precision: 0.8554 - val_recall: 0.7875 - lr: 2.0000e-04\n",
      "Epoch 37/500\n",
      "161/161 [==============================] - 15s 94ms/step - loss: 0.5171 - precision: 0.8454 - recall: 0.7738 - val_loss: 0.7187 - val_precision: 0.8440 - val_recall: 0.7925 - lr: 2.0000e-04\n",
      "Epoch 38/500\n",
      "161/161 [==============================] - 16s 99ms/step - loss: 0.4989 - precision: 0.8535 - recall: 0.7801 - val_loss: 0.7167 - val_precision: 0.8504 - val_recall: 0.7913 - lr: 2.0000e-04\n",
      "Epoch 39/500\n",
      "161/161 [==============================] - 16s 98ms/step - loss: 0.5014 - precision: 0.8498 - recall: 0.7799 - val_loss: 0.7143 - val_precision: 0.8445 - val_recall: 0.7894 - lr: 2.0000e-04\n",
      "Epoch 40/500\n",
      "161/161 [==============================] - 17s 108ms/step - loss: 0.5018 - precision: 0.8494 - recall: 0.7793 - val_loss: 0.7082 - val_precision: 0.8528 - val_recall: 0.7932 - lr: 2.0000e-04\n",
      "Epoch 41/500\n"
     ]
    },
    {
     "name": "stdout",
     "output_type": "stream",
     "text": [
      "161/161 [==============================] - 18s 114ms/step - loss: 0.4963 - precision: 0.8462 - recall: 0.7772 - val_loss: 0.7049 - val_precision: 0.8504 - val_recall: 0.7913 - lr: 2.0000e-0446 -\n",
      "Epoch 42/500\n",
      "161/161 [==============================] - 17s 108ms/step - loss: 0.4824 - precision: 0.8506 - recall: 0.7869 - val_loss: 0.6982 - val_precision: 0.8506 - val_recall: 0.7925 - lr: 2.0000e-04\n",
      "Epoch 43/500\n",
      "161/161 [==============================] - 16s 102ms/step - loss: 0.4847 - precision: 0.8502 - recall: 0.7843 - val_loss: 0.7086 - val_precision: 0.8452 - val_recall: 0.7917 - lr: 2.0000e-04\n",
      "Epoch 44/500\n",
      "161/161 [==============================] - 17s 103ms/step - loss: 0.4830 - precision: 0.8456 - recall: 0.7828 - val_loss: 0.6860 - val_precision: 0.8579 - val_recall: 0.7940 - lr: 2.0000e-04\n",
      "Epoch 45/500\n",
      "161/161 [==============================] - 17s 105ms/step - loss: 0.4738 - precision: 0.8498 - recall: 0.7848 - val_loss: 0.6926 - val_precision: 0.8557 - val_recall: 0.7867 - lr: 2.0000e-04\n",
      "Epoch 46/500\n",
      "161/161 [==============================] - 15s 95ms/step - loss: 0.4709 - precision: 0.8555 - recall: 0.7911 - val_loss: 0.6980 - val_precision: 0.8500 - val_recall: 0.7871 - lr: 2.0000e-04\n",
      "Epoch 47/500\n",
      "161/161 [==============================] - 16s 101ms/step - loss: 0.4672 - precision: 0.8498 - recall: 0.7874 - val_loss: 0.6900 - val_precision: 0.8482 - val_recall: 0.7971 - lr: 2.0000e-04\n",
      "Epoch 48/500\n",
      "161/161 [==============================] - 17s 106ms/step - loss: 0.4598 - precision: 0.8529 - recall: 0.7914 - val_loss: 0.6921 - val_precision: 0.8512 - val_recall: 0.7940 - lr: 2.0000e-04\n",
      "Epoch 49/500\n",
      "161/161 [==============================] - 17s 105ms/step - loss: 0.4550 - precision: 0.8555 - recall: 0.7962 - val_loss: 0.6842 - val_precision: 0.8533 - val_recall: 0.8032 - lr: 2.0000e-04\n",
      "Epoch 50/500\n",
      "161/161 [==============================] - 16s 100ms/step - loss: 0.4525 - precision: 0.8527 - recall: 0.7925 - val_loss: 0.7002 - val_precision: 0.8476 - val_recall: 0.7917 - lr: 2.0000e-04\n",
      "Epoch 51/500\n",
      "161/161 [==============================] - 15s 93ms/step - loss: 0.4523 - precision: 0.8564 - recall: 0.7928 - val_loss: 0.6918 - val_precision: 0.8474 - val_recall: 0.7860 - lr: 2.0000e-04\n",
      "Epoch 52/500\n",
      "161/161 [==============================] - 15s 93ms/step - loss: 0.4618 - precision: 0.8535 - recall: 0.7907 - val_loss: 0.6954 - val_precision: 0.8462 - val_recall: 0.7936 - lr: 2.0000e-04\n",
      "Epoch 53/500\n",
      "161/161 [==============================] - 15s 94ms/step - loss: 0.4535 - precision: 0.8551 - recall: 0.7936 - val_loss: 0.7376 - val_precision: 0.8360 - val_recall: 0.7783 - lr: 2.0000e-04\n",
      "Epoch 54/500\n",
      "161/161 [==============================] - 16s 97ms/step - loss: 0.4534 - precision: 0.8531 - recall: 0.7902 - val_loss: 0.6986 - val_precision: 0.8464 - val_recall: 0.7925 - lr: 2.0000e-04\n",
      "Epoch 55/500\n",
      "161/161 [==============================] - 16s 99ms/step - loss: 0.4499 - precision: 0.8543 - recall: 0.7942 - val_loss: 0.7086 - val_precision: 0.8418 - val_recall: 0.7798 - lr: 2.0000e-04\n",
      "Epoch 56/500\n",
      "161/161 [==============================] - 17s 105ms/step - loss: 0.4430 - precision: 0.8583 - recall: 0.7999 - val_loss: 0.6836 - val_precision: 0.8488 - val_recall: 0.7925 - lr: 2.0000e-04\n",
      "Epoch 57/500\n",
      "161/161 [==============================] - 16s 102ms/step - loss: 0.4533 - precision: 0.8547 - recall: 0.7941 - val_loss: 0.7148 - val_precision: 0.8436 - val_recall: 0.7902 - lr: 2.0000e-04\n",
      "Epoch 58/500\n",
      "161/161 [==============================] - 15s 96ms/step - loss: 0.4478 - precision: 0.8550 - recall: 0.7974 - val_loss: 0.6880 - val_precision: 0.8521 - val_recall: 0.7890 - lr: 2.0000e-04\n",
      "Epoch 59/500\n",
      "161/161 [==============================] - 15s 94ms/step - loss: 0.4369 - precision: 0.8573 - recall: 0.7967 - val_loss: 0.6965 - val_precision: 0.8503 - val_recall: 0.7909 - lr: 2.0000e-04\n",
      "Epoch 60/500\n",
      "161/161 [==============================] - 15s 93ms/step - loss: 0.4377 - precision: 0.8604 - recall: 0.8036 - val_loss: 0.7020 - val_precision: 0.8420 - val_recall: 0.7871 - lr: 2.0000e-04\n",
      "Epoch 61/500\n",
      "161/161 [==============================] - 15s 95ms/step - loss: 0.4428 - precision: 0.8577 - recall: 0.7997 - val_loss: 0.6885 - val_precision: 0.8477 - val_recall: 0.7898 - lr: 2.0000e-04\n",
      "Epoch 62/500\n",
      "161/161 [==============================] - 17s 106ms/step - loss: 0.4408 - precision: 0.8588 - recall: 0.7997 - val_loss: 0.6904 - val_precision: 0.8485 - val_recall: 0.7925 - lr: 2.0000e-04\n",
      "Epoch 63/500\n",
      "161/161 [==============================] - 17s 107ms/step - loss: 0.4299 - precision: 0.8611 - recall: 0.8018 - val_loss: 0.6799 - val_precision: 0.8547 - val_recall: 0.7898 - lr: 2.0000e-04\n",
      "Epoch 64/500\n",
      "161/161 [==============================] - 18s 110ms/step - loss: 0.4294 - precision: 0.8596 - recall: 0.8027 - val_loss: 0.6837 - val_precision: 0.8468 - val_recall: 0.7975 - lr: 2.0000e-04\n",
      "Epoch 65/500\n",
      "161/161 [==============================] - 17s 104ms/step - loss: 0.4329 - precision: 0.8591 - recall: 0.7983 - val_loss: 0.6878 - val_precision: 0.8437 - val_recall: 0.7890 - lr: 2.0000e-04\n",
      "Epoch 66/500\n",
      "161/161 [==============================] - 15s 93ms/step - loss: 0.4248 - precision: 0.8632 - recall: 0.8073 - val_loss: 0.6986 - val_precision: 0.8431 - val_recall: 0.7913 - lr: 2.0000e-04\n",
      "Epoch 67/500\n",
      "161/161 [==============================] - 15s 95ms/step - loss: 0.4293 - precision: 0.8618 - recall: 0.8074 - val_loss: 0.6885 - val_precision: 0.8495 - val_recall: 0.7948 - lr: 2.0000e-04\n",
      "Epoch 68/500\n",
      "161/161 [==============================] - 15s 94ms/step - loss: 0.4343 - precision: 0.8585 - recall: 0.8023 - val_loss: 0.6902 - val_precision: 0.8448 - val_recall: 0.7833 - lr: 2.0000e-04\n",
      "Epoch 69/500\n",
      "161/161 [==============================] - 17s 105ms/step - loss: 0.4293 - precision: 0.8594 - recall: 0.8022 - val_loss: 0.6729 - val_precision: 0.8492 - val_recall: 0.7952 - lr: 2.0000e-04\n",
      "Epoch 70/500\n",
      "161/161 [==============================] - 17s 104ms/step - loss: 0.4209 - precision: 0.8635 - recall: 0.8102 - val_loss: 0.6732 - val_precision: 0.8471 - val_recall: 0.7948 - lr: 2.0000e-04\n",
      "Epoch 71/500\n",
      "161/161 [==============================] - 17s 105ms/step - loss: 0.4107 - precision: 0.8669 - recall: 0.8127 - val_loss: 0.6719 - val_precision: 0.8486 - val_recall: 0.7975 - lr: 2.0000e-04\n",
      "Epoch 72/500\n",
      " 38/161 [======>.......................] - ETA: 10s - loss: 0.4323 - precision: 0.8637 - recall: 0.8100"
     ]
    }
   ],
   "source": [
    "tc.fit_deep_learning()"
   ]
  },
  {
   "cell_type": "markdown",
   "metadata": {},
   "source": [
    "# Prediction test"
   ]
  },
  {
   "cell_type": "code",
   "execution_count": 3,
   "metadata": {},
   "outputs": [
    {
     "name": "stdout",
     "output_type": "stream",
     "text": [
      "loading deeplearning model\n",
      "loading logistic regression model\n",
      "loading the embedder and tokenizer\n"
     ]
    },
    {
     "name": "stderr",
     "output_type": "stream",
     "text": [
      "Warning : `load_model` does not return WordVectorModel or SupervisedModel any more, but a `FastText` object which is very similar.\n"
     ]
    }
   ],
   "source": [
    "TC = Text_classification_for_prediction( 'E:\\\\Coding_projects\\\\Thai_NLP\\\\models for real deployment\\\\tf-idf_encoder.joblib','E:\\\\Coding_projects\\\\Thai_NLP\\\\trained_models\\\\text_classification')"
   ]
  },
  {
   "cell_type": "code",
   "execution_count": 4,
   "metadata": {},
   "outputs": [
    {
     "name": "stdout",
     "output_type": "stream",
     "text": [
      "logistic y_pred: [[0.04239599 0.00254946 0.92088109 0.00128004 0.02331561 0.00768454\n",
      "  0.00189327]]\n",
      "tokenized sentence: ['ทำไม', 'อินเตอร์เนต', 'ผม', 'ช้า', 'มาก', 'ๆ', 'เลย', 'ครับ', '-PAD-', '-PAD-', '-PAD-', '-PAD-', '-PAD-', '-PAD-', '-PAD-', '-PAD-', '-PAD-', '-PAD-', '-PAD-', '-PAD-', '-PAD-', '-PAD-', '-PAD-', '-PAD-', '-PAD-', '-PAD-', '-PAD-', '-PAD-', '-PAD-', '-PAD-', '-PAD-', '-PAD-', '-PAD-', '-PAD-', '-PAD-', '-PAD-', '-PAD-', '-PAD-', '-PAD-', '-PAD-', '-PAD-', '-PAD-', '-PAD-', '-PAD-', '-PAD-', '-PAD-', '-PAD-', '-PAD-', '-PAD-', '-PAD-', '-PAD-', '-PAD-', '-PAD-', '-PAD-', '-PAD-', '-PAD-', '-PAD-', '-PAD-', '-PAD-', '-PAD-', '-PAD-', '-PAD-', '-PAD-', '-PAD-']\n",
      "dl y_pred: [[0.06387239 0.07396127 0.04926529 0.7544949  0.01934882 0.01340965\n",
      "  0.02564764]]\n"
     ]
    },
    {
     "data": {
      "text/plain": [
       "{'logistic_regression': {'billing and payment': 0.04239599199883396,\n",
       "  'international dialing': 0.002549459155609322,\n",
       "  'internet': 0.9208810924214039,\n",
       "  'lost and stolen': 0.0012800403966359952,\n",
       "  'other queries': 0.023315610086824624,\n",
       "  'promotions': 0.007684539984556279,\n",
       "  'true money': 0.0018932659561359188},\n",
       " 'deeplearning': {'billing and payment': 0.06387239,\n",
       "  'promotions': 0.07396127,\n",
       "  'other queries': 0.049265288,\n",
       "  'internet': 0.7544949,\n",
       "  'international dialing': 0.019348824,\n",
       "  'true money': 0.013409654,\n",
       "  'lost and stolen': 0.02564764}}"
      ]
     },
     "execution_count": 4,
     "metadata": {},
     "output_type": "execute_result"
    }
   ],
   "source": [
    "TC.predict('ทำไมอินเตอร์เนตผมช้ามากๆเลยครับ')"
   ]
  },
  {
   "cell_type": "code",
   "execution_count": 6,
   "metadata": {},
   "outputs": [
    {
     "name": "stdout",
     "output_type": "stream",
     "text": [
      "logistic y_pred: [[0.04957993 0.01410676 0.06836632 0.80197894 0.03284068 0.03211143\n",
      "  0.00101593]]\n",
      "tokenized sentence: ['โทรศัพท์', 'ผม', 'หาย', 'ผม', 'ต้อง', 'ทำ', 'ยังไง', 'บ้าง', 'ครับ', '-PAD-', '-PAD-', '-PAD-', '-PAD-', '-PAD-', '-PAD-', '-PAD-', '-PAD-', '-PAD-', '-PAD-', '-PAD-', '-PAD-', '-PAD-', '-PAD-', '-PAD-', '-PAD-', '-PAD-', '-PAD-', '-PAD-', '-PAD-', '-PAD-', '-PAD-', '-PAD-', '-PAD-', '-PAD-', '-PAD-', '-PAD-', '-PAD-', '-PAD-', '-PAD-', '-PAD-', '-PAD-', '-PAD-', '-PAD-', '-PAD-', '-PAD-', '-PAD-', '-PAD-', '-PAD-', '-PAD-', '-PAD-', '-PAD-', '-PAD-', '-PAD-', '-PAD-', '-PAD-', '-PAD-', '-PAD-', '-PAD-', '-PAD-', '-PAD-', '-PAD-', '-PAD-', '-PAD-', '-PAD-']\n",
      "dl y_pred: [[0.03878132 0.00094468 0.00903613 0.02276504 0.00447244 0.00381085\n",
      "  0.92018956]]\n"
     ]
    },
    {
     "data": {
      "text/plain": [
       "{'logistic_regression': {'billing and payment': 0.04957993119467105,\n",
       "  'international dialing': 0.01410676326467718,\n",
       "  'internet': 0.06836631971022208,\n",
       "  'lost and stolen': 0.8019789371395918,\n",
       "  'other queries': 0.03284068079988682,\n",
       "  'promotions': 0.03211143365895513,\n",
       "  'true money': 0.0010159342319958995},\n",
       " 'deeplearning': {'billing and payment': 0.038781323,\n",
       "  'promotions': 0.0009446794,\n",
       "  'other queries': 0.009036126,\n",
       "  'internet': 0.022765039,\n",
       "  'international dialing': 0.0044724382,\n",
       "  'true money': 0.0038108453,\n",
       "  'lost and stolen': 0.92018956}}"
      ]
     },
     "execution_count": 6,
     "metadata": {},
     "output_type": "execute_result"
    }
   ],
   "source": [
    "TC.predict('โทรศัพท์ผมหาย ผมต้องทำยังไงบ้างครับ')"
   ]
  },
  {
   "cell_type": "code",
   "execution_count": 7,
   "metadata": {},
   "outputs": [
    {
     "name": "stdout",
     "output_type": "stream",
     "text": [
      "logistic y_pred: [[0.00900054 0.91364896 0.0049197  0.00230582 0.05368573 0.01421865\n",
      "  0.0022206 ]]\n",
      "tokenized sentence: ['สอบถาม', 'บริการ', 'โทร', 'ต่างประเทศ', 'น่ะ', 'ครับ', '-PAD-', '-PAD-', '-PAD-', '-PAD-', '-PAD-', '-PAD-', '-PAD-', '-PAD-', '-PAD-', '-PAD-', '-PAD-', '-PAD-', '-PAD-', '-PAD-', '-PAD-', '-PAD-', '-PAD-', '-PAD-', '-PAD-', '-PAD-', '-PAD-', '-PAD-', '-PAD-', '-PAD-', '-PAD-', '-PAD-', '-PAD-', '-PAD-', '-PAD-', '-PAD-', '-PAD-', '-PAD-', '-PAD-', '-PAD-', '-PAD-', '-PAD-', '-PAD-', '-PAD-', '-PAD-', '-PAD-', '-PAD-', '-PAD-', '-PAD-', '-PAD-', '-PAD-', '-PAD-', '-PAD-', '-PAD-', '-PAD-', '-PAD-', '-PAD-', '-PAD-', '-PAD-', '-PAD-', '-PAD-', '-PAD-', '-PAD-', '-PAD-']\n",
      "dl y_pred: [[0.270969   0.14852852 0.05182751 0.08309252 0.40128914 0.01483409\n",
      "  0.02945922]]\n"
     ]
    },
    {
     "data": {
      "text/plain": [
       "{'logistic_regression': {'billing and payment': 0.009000535616081102,\n",
       "  'international dialing': 0.9136489626289862,\n",
       "  'internet': 0.004919699100065405,\n",
       "  'lost and stolen': 0.0023058219177843234,\n",
       "  'other queries': 0.053685728274877664,\n",
       "  'promotions': 0.014218651980250626,\n",
       "  'true money': 0.0022206004819546364},\n",
       " 'deeplearning': {'billing and payment': 0.270969,\n",
       "  'promotions': 0.14852852,\n",
       "  'other queries': 0.051827513,\n",
       "  'internet': 0.08309252,\n",
       "  'international dialing': 0.40128914,\n",
       "  'true money': 0.014834092,\n",
       "  'lost and stolen': 0.02945922}}"
      ]
     },
     "execution_count": 7,
     "metadata": {},
     "output_type": "execute_result"
    }
   ],
   "source": [
    "TC.predict('สอบถามบริการโทรต่างประเทศน่ะครับ')"
   ]
  },
  {
   "cell_type": "code",
   "execution_count": 7,
   "metadata": {},
   "outputs": [
    {
     "data": {
      "text/plain": [
       "LogisticRegression(C=5, class_weight='balanced', multi_class='ovr',\n",
       "                   solver='liblinear')"
      ]
     },
     "execution_count": 7,
     "metadata": {},
     "output_type": "execute_result"
    }
   ],
   "source": [
    "TC.logistic_regression_model"
   ]
  },
  {
   "cell_type": "code",
   "execution_count": 7,
   "metadata": {},
   "outputs": [
    {
     "ename": "TypeError",
     "evalue": "'NoneType' object is not iterable",
     "output_type": "error",
     "traceback": [
      "\u001b[1;31m---------------------------------------------------------------------------\u001b[0m",
      "\u001b[1;31mTypeError\u001b[0m                                 Traceback (most recent call last)",
      "\u001b[1;32m<ipython-input-7-f23beda2b661>\u001b[0m in \u001b[0;36m<module>\u001b[1;34m\u001b[0m\n\u001b[1;32m----> 1\u001b[1;33m \u001b[0mlist\u001b[0m\u001b[1;33m(\u001b[0m\u001b[1;32mNone\u001b[0m\u001b[1;33m)\u001b[0m\u001b[1;33m\u001b[0m\u001b[1;33m\u001b[0m\u001b[0m\n\u001b[0m",
      "\u001b[1;31mTypeError\u001b[0m: 'NoneType' object is not iterable"
     ]
    }
   ],
   "source": [
    "list(None)"
   ]
  },
  {
   "cell_type": "code",
   "execution_count": null,
   "metadata": {},
   "outputs": [],
   "source": []
  }
 ],
 "metadata": {
  "kernelspec": {
   "display_name": "text_bay",
   "language": "python",
   "name": "text_bay"
  }
 },
 "nbformat": 4,
 "nbformat_minor": 2
}
