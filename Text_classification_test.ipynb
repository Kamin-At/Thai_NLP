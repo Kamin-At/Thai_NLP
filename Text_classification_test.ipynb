{
 "cells": [
  {
   "cell_type": "code",
   "execution_count": 1,
   "metadata": {},
   "outputs": [],
   "source": [
    "import os\n",
    "import pandas as pd\n",
    "import numpy as np\n",
    "import regex as re\n",
    "import pythainlp\n",
    "\n",
    "from sklearn.linear_model import LogisticRegression\n",
    "from sklearn.model_selection import GridSearchCV\n",
    "from sklearn.metrics import f1_score, confusion_matrix\n",
    "from sklearn.utils.class_weight import compute_class_weight\n",
    "from sklearn.preprocessing import StandardScaler\n",
    "from sklearn.svm import SVC\n",
    "from time import time"
   ]
  },
  {
   "cell_type": "code",
   "execution_count": 2,
   "metadata": {},
   "outputs": [],
   "source": [
    "from preprocessing import Word_Embedder\n",
    "from preprocessing import Text_processing\n",
    "from text_classification import Text_classification, Text_classification_for_prediction, count_based_model\n",
    "from text_classification import prepare_data_for_text_classification"
   ]
  },
  {
   "cell_type": "code",
   "execution_count": 3,
   "metadata": {},
   "outputs": [
    {
     "data": {
      "text/plain": [
       "'/home/kamin/Thai_NLP'"
      ]
     },
     "execution_count": 3,
     "metadata": {},
     "output_type": "execute_result"
    }
   ],
   "source": [
    "# os.chdir('Thai_NLP')\n",
    "os.getcwd()\n",
    "# os.listdir()"
   ]
  },
  {
   "cell_type": "code",
   "execution_count": 6,
   "metadata": {},
   "outputs": [
    {
     "ename": "FileNotFoundError",
     "evalue": "[Errno 2] No such file or directory: 'word_configs\\\\pos.txt'",
     "output_type": "error",
     "traceback": [
      "\u001b[0;31m---------------------------------------------------------------------------\u001b[0m",
      "\u001b[0;31mFileNotFoundError\u001b[0m                         Traceback (most recent call last)",
      "\u001b[0;32m<ipython-input-6-c74953403636>\u001b[0m in \u001b[0;36m<module>\u001b[0;34m\u001b[0m\n\u001b[1;32m      3\u001b[0m                       \u001b[0mis_sentiment_analysis\u001b[0m\u001b[0;34m=\u001b[0m\u001b[0;32mTrue\u001b[0m\u001b[0;34m,\u001b[0m\u001b[0;34m\u001b[0m\u001b[0;34m\u001b[0m\u001b[0m\n\u001b[1;32m      4\u001b[0m                       \u001b[0mdo_load_models\u001b[0m\u001b[0;34m=\u001b[0m\u001b[0;32mTrue\u001b[0m\u001b[0;34m,\u001b[0m\u001b[0;34m\u001b[0m\u001b[0;34m\u001b[0m\u001b[0m\n\u001b[0;32m----> 5\u001b[0;31m                       model_path= 'trained_models')\n\u001b[0m",
      "\u001b[0;32m~/Thai_NLP/text_classification.py\u001b[0m in \u001b[0;36m__init__\u001b[0;34m(self, filename_dict, is_sentiment_analysis, do_load_models, model_path)\u001b[0m\n\u001b[1;32m     48\u001b[0m       \u001b[0mself\u001b[0m\u001b[0;34m.\u001b[0m\u001b[0mclass_dictionary\u001b[0m\u001b[0;34m[\u001b[0m\u001b[0mtmp_class\u001b[0m\u001b[0;34m]\u001b[0m \u001b[0;34m=\u001b[0m \u001b[0mset\u001b[0m\u001b[0;34m(\u001b[0m\u001b[0;34m)\u001b[0m\u001b[0;34m\u001b[0m\u001b[0;34m\u001b[0m\u001b[0m\n\u001b[1;32m     49\u001b[0m       \u001b[0;32mfor\u001b[0m \u001b[0mtmp_file\u001b[0m \u001b[0;32min\u001b[0m \u001b[0mfilename_dict\u001b[0m\u001b[0;34m[\u001b[0m\u001b[0mtmp_class\u001b[0m\u001b[0;34m]\u001b[0m\u001b[0;34m:\u001b[0m\u001b[0;34m\u001b[0m\u001b[0;34m\u001b[0m\u001b[0m\n\u001b[0;32m---> 50\u001b[0;31m         \u001b[0;32mwith\u001b[0m \u001b[0mopen\u001b[0m\u001b[0;34m(\u001b[0m\u001b[0mtmp_file\u001b[0m\u001b[0;34m,\u001b[0m \u001b[0;34m'r'\u001b[0m\u001b[0;34m,\u001b[0m \u001b[0mencoding\u001b[0m\u001b[0;34m=\u001b[0m\u001b[0;34m'utf8'\u001b[0m\u001b[0;34m)\u001b[0m \u001b[0;32mas\u001b[0m \u001b[0mf\u001b[0m\u001b[0;34m:\u001b[0m\u001b[0;34m\u001b[0m\u001b[0;34m\u001b[0m\u001b[0m\n\u001b[0m\u001b[1;32m     51\u001b[0m           \u001b[0;32mfor\u001b[0m \u001b[0mword\u001b[0m \u001b[0;32min\u001b[0m \u001b[0mf\u001b[0m\u001b[0;34m:\u001b[0m\u001b[0;34m\u001b[0m\u001b[0;34m\u001b[0m\u001b[0m\n\u001b[1;32m     52\u001b[0m             \u001b[0mword\u001b[0m \u001b[0;34m=\u001b[0m \u001b[0mword\u001b[0m\u001b[0;34m.\u001b[0m\u001b[0mstrip\u001b[0m\u001b[0;34m(\u001b[0m\u001b[0;34m)\u001b[0m\u001b[0;34m\u001b[0m\u001b[0;34m\u001b[0m\u001b[0m\n",
      "\u001b[0;31mFileNotFoundError\u001b[0m: [Errno 2] No such file or directory: 'word_configs\\\\pos.txt'"
     ]
    }
   ],
   "source": [
    "x = count_based_model({'pos': ['word_configs\\\\pos.txt', 'word_configs\\\\pos_manual.txt'], 'neg': ['word_configs\\\\neg.txt', 'word_configs\\\\neg_manual.txt'], 'neu': ['word_configs\\\\neu.txt'],\n",
    "                      'q': ['word_configs\\\\q.txt', 'word_configs\\\\q_manual.txt']},\n",
    "                      is_sentiment_analysis=True, \n",
    "                      do_load_models=True, \n",
    "                      model_path= 'trained_models')"
   ]
  },
  {
   "cell_type": "code",
   "execution_count": 12,
   "metadata": {},
   "outputs": [
    {
     "name": "stdout",
     "output_type": "stream",
     "text": [
      "running grid search and 5-folds cross validation\n",
      "best_C: 1, f1-score: [0.55146125 0.27612761 0.3853211  0.14197531], f1-macro: 0.3387213168889381\n"
     ]
    }
   ],
   "source": [
    "x.fit(Tr,Te)"
   ]
  },
  {
   "cell_type": "code",
   "execution_count": 13,
   "metadata": {},
   "outputs": [
    {
     "data": {
      "text/plain": [
       "'neg'"
      ]
     },
     "execution_count": 13,
     "metadata": {},
     "output_type": "execute_result"
    }
   ],
   "source": [
    "x.predict('ไม่อร่อยเลย ไม่ดีอะ')"
   ]
  },
  {
   "cell_type": "code",
   "execution_count": 15,
   "metadata": {},
   "outputs": [
    {
     "data": {
      "text/plain": [
       "'pos'"
      ]
     },
     "execution_count": 15,
     "metadata": {},
     "output_type": "execute_result"
    }
   ],
   "source": [
    "x.predict('อร่อยดีนะ ชอบมากอะ')"
   ]
  },
  {
   "cell_type": "markdown",
   "metadata": {},
   "source": [
    "# wisesight sentiment analysis"
   ]
  },
  {
   "cell_type": "code",
   "execution_count": 10,
   "metadata": {},
   "outputs": [],
   "source": [
    "os.chdir('Sentiment Analysis')"
   ]
  },
  {
   "cell_type": "code",
   "execution_count": 11,
   "metadata": {},
   "outputs": [],
   "source": [
    "tr = []\n",
    "with open('train.txt', 'r', encoding='utf8') as f:\n",
    "    for line in f:\n",
    "        line = line.strip()\n",
    "        if line != '':\n",
    "            tr.append(line)\n",
    "            \n",
    "tr_label = []\n",
    "with open('train_label.txt', 'r', encoding='utf8') as f:\n",
    "    for line in f:\n",
    "        line = line.strip()\n",
    "        if line != '':\n",
    "            tr_label.append(line)\n",
    "            \n",
    "te = []\n",
    "with open('test.txt', 'r', encoding='utf8') as f:\n",
    "    for line in f:\n",
    "        line = line.strip()\n",
    "        if line != '':\n",
    "            te.append(line)\n",
    "            \n",
    "te_label = []\n",
    "with open('test_label.txt', 'r', encoding='utf8') as f:\n",
    "    for line in f:\n",
    "        line = line.strip()\n",
    "        if line != '':\n",
    "            te_label.append(line)"
   ]
  },
  {
   "cell_type": "code",
   "execution_count": 12,
   "metadata": {},
   "outputs": [],
   "source": [
    "Tr = pd.DataFrame({'texts': tr, 'labels': tr_label})\n",
    "Te = pd.DataFrame({'texts': te, 'labels': te_label})"
   ]
  },
  {
   "cell_type": "markdown",
   "metadata": {},
   "source": [
    "# TRUE-intent data"
   ]
  },
  {
   "cell_type": "code",
   "execution_count": 4,
   "metadata": {},
   "outputs": [
    {
     "data": {
      "text/plain": [
       "'/home/kamin/Thai_NLP'"
      ]
     },
     "execution_count": 4,
     "metadata": {},
     "output_type": "execute_result"
    }
   ],
   "source": [
    "# os.chdir('Thai_NLP')\n",
    "os.getcwd()\n",
    "# os.listdir()'/home/kamin/Thai_NLP'"
   ]
  },
  {
   "cell_type": "code",
   "execution_count": 16,
   "metadata": {},
   "outputs": [],
   "source": [
    "os.chdir('kamin/Thai_NLP')"
   ]
  },
  {
   "cell_type": "code",
   "execution_count": 5,
   "metadata": {},
   "outputs": [
    {
     "data": {
      "text/html": [
       "<div>\n",
       "<style scoped>\n",
       "    .dataframe tbody tr th:only-of-type {\n",
       "        vertical-align: middle;\n",
       "    }\n",
       "\n",
       "    .dataframe tbody tr th {\n",
       "        vertical-align: top;\n",
       "    }\n",
       "\n",
       "    .dataframe thead th {\n",
       "        text-align: right;\n",
       "    }\n",
       "</style>\n",
       "<table border=\"1\" class=\"dataframe\">\n",
       "  <thead>\n",
       "    <tr style=\"text-align: right;\">\n",
       "      <th></th>\n",
       "      <th>texts</th>\n",
       "      <th>texts_deepcut</th>\n",
       "      <th>action</th>\n",
       "      <th>object</th>\n",
       "      <th>destination</th>\n",
       "    </tr>\n",
       "  </thead>\n",
       "  <tbody>\n",
       "    <tr>\n",
       "      <th>0</th>\n",
       "      <td>สอบถาม package internet ว่ามีแบบไหนบ้างครับ</td>\n",
       "      <td>สอบถาม package internet ว่า มี แบบ ไหน บ้าง ครับ</td>\n",
       "      <td>enquire</td>\n",
       "      <td>promotion</td>\n",
       "      <td>promotions</td>\n",
       "    </tr>\n",
       "    <tr>\n",
       "      <th>1</th>\n",
       "      <td>พอดีพี่ซื้อเบอร์ซิม Inter ไปแล้ว แต่ยังไม่ได้ล...</td>\n",
       "      <td>พอดี พี่ ซื้อ เบอร์ซิม Inter ไป แล้ว แต่ ยัง ไ...</td>\n",
       "      <td>enquire</td>\n",
       "      <td>detail</td>\n",
       "      <td>billing and payment</td>\n",
       "    </tr>\n",
       "    <tr>\n",
       "      <th>2</th>\n",
       "      <td>ค่ะ พี่ค่ะ คืออยู่ๆ เน็ตเล่นไม่ได้อ่ะค่ะ</td>\n",
       "      <td>ค่ะ พี่ ค่ะ คือ อยู่ ๆ เน็ต เล่น ไม่ ได้ อ่ะ ค่ะ</td>\n",
       "      <td>enquire</td>\n",
       "      <td>internet</td>\n",
       "      <td>internet</td>\n",
       "    </tr>\n",
       "    <tr>\n",
       "      <th>3</th>\n",
       "      <td>การเปลี่ยน ระบบจาก ทรู เป็น ทรูเอช มีค่าบริการ...</td>\n",
       "      <td>การ เปลี่ยน ระบบ จาก ทรู เป็น ทรูเอช มี ค่า บร...</td>\n",
       "      <td>enquire</td>\n",
       "      <td>rate</td>\n",
       "      <td>promotions</td>\n",
       "    </tr>\n",
       "    <tr>\n",
       "      <th>4</th>\n",
       "      <td>เช็คให้หน่อยได้ไหมครับ ว่าเบอร์ของผม เปลี่ยนเป...</td>\n",
       "      <td>เช็ค ให้ หน่อย ได้ ไหม ครับ ว่า เบอร์ ของ ผม เ...</td>\n",
       "      <td>enquire</td>\n",
       "      <td>package</td>\n",
       "      <td>promotions</td>\n",
       "    </tr>\n",
       "  </tbody>\n",
       "</table>\n",
       "</div>"
      ],
      "text/plain": [
       "                                               texts  \\\n",
       "0        สอบถาม package internet ว่ามีแบบไหนบ้างครับ   \n",
       "1  พอดีพี่ซื้อเบอร์ซิม Inter ไปแล้ว แต่ยังไม่ได้ล...   \n",
       "2           ค่ะ พี่ค่ะ คืออยู่ๆ เน็ตเล่นไม่ได้อ่ะค่ะ   \n",
       "3  การเปลี่ยน ระบบจาก ทรู เป็น ทรูเอช มีค่าบริการ...   \n",
       "4  เช็คให้หน่อยได้ไหมครับ ว่าเบอร์ของผม เปลี่ยนเป...   \n",
       "\n",
       "                                       texts_deepcut   action     object  \\\n",
       "0   สอบถาม package internet ว่า มี แบบ ไหน บ้าง ครับ  enquire  promotion   \n",
       "1  พอดี พี่ ซื้อ เบอร์ซิม Inter ไป แล้ว แต่ ยัง ไ...  enquire     detail   \n",
       "2   ค่ะ พี่ ค่ะ คือ อยู่ ๆ เน็ต เล่น ไม่ ได้ อ่ะ ค่ะ  enquire   internet   \n",
       "3  การ เปลี่ยน ระบบ จาก ทรู เป็น ทรูเอช มี ค่า บร...  enquire       rate   \n",
       "4  เช็ค ให้ หน่อย ได้ ไหม ครับ ว่า เบอร์ ของ ผม เ...  enquire    package   \n",
       "\n",
       "           destination  \n",
       "0           promotions  \n",
       "1  billing and payment  \n",
       "2             internet  \n",
       "3           promotions  \n",
       "4           promotions  "
      ]
     },
     "execution_count": 5,
     "metadata": {},
     "output_type": "execute_result"
    }
   ],
   "source": [
    "df = pd.read_csv('mari-train-balanced.csv')\n",
    "df2 = pd.read_csv('mari-test-balanced.csv')\n",
    "df.head()"
   ]
  },
  {
   "cell_type": "code",
   "execution_count": 6,
   "metadata": {},
   "outputs": [],
   "source": [
    "df = df.rename(columns={'destination': 'labels'})[['texts', 'labels']]\n",
    "df2 = df2.rename(columns={'destination': 'labels'})[['texts', 'labels']]"
   ]
  },
  {
   "cell_type": "code",
   "execution_count": 7,
   "metadata": {},
   "outputs": [
    {
     "data": {
      "text/html": [
       "<div>\n",
       "<style scoped>\n",
       "    .dataframe tbody tr th:only-of-type {\n",
       "        vertical-align: middle;\n",
       "    }\n",
       "\n",
       "    .dataframe tbody tr th {\n",
       "        vertical-align: top;\n",
       "    }\n",
       "\n",
       "    .dataframe thead th {\n",
       "        text-align: right;\n",
       "    }\n",
       "</style>\n",
       "<table border=\"1\" class=\"dataframe\">\n",
       "  <thead>\n",
       "    <tr style=\"text-align: right;\">\n",
       "      <th></th>\n",
       "      <th>texts</th>\n",
       "      <th>labels</th>\n",
       "    </tr>\n",
       "  </thead>\n",
       "  <tbody>\n",
       "    <tr>\n",
       "      <th>0</th>\n",
       "      <td>สอบถาม package internet ว่ามีแบบไหนบ้างครับ</td>\n",
       "      <td>promotions</td>\n",
       "    </tr>\n",
       "    <tr>\n",
       "      <th>1</th>\n",
       "      <td>พอดีพี่ซื้อเบอร์ซิม Inter ไปแล้ว แต่ยังไม่ได้ล...</td>\n",
       "      <td>billing and payment</td>\n",
       "    </tr>\n",
       "    <tr>\n",
       "      <th>2</th>\n",
       "      <td>ค่ะ พี่ค่ะ คืออยู่ๆ เน็ตเล่นไม่ได้อ่ะค่ะ</td>\n",
       "      <td>internet</td>\n",
       "    </tr>\n",
       "    <tr>\n",
       "      <th>3</th>\n",
       "      <td>การเปลี่ยน ระบบจาก ทรู เป็น ทรูเอช มีค่าบริการ...</td>\n",
       "      <td>promotions</td>\n",
       "    </tr>\n",
       "    <tr>\n",
       "      <th>4</th>\n",
       "      <td>เช็คให้หน่อยได้ไหมครับ ว่าเบอร์ของผม เปลี่ยนเป...</td>\n",
       "      <td>promotions</td>\n",
       "    </tr>\n",
       "  </tbody>\n",
       "</table>\n",
       "</div>"
      ],
      "text/plain": [
       "                                               texts               labels\n",
       "0        สอบถาม package internet ว่ามีแบบไหนบ้างครับ           promotions\n",
       "1  พอดีพี่ซื้อเบอร์ซิม Inter ไปแล้ว แต่ยังไม่ได้ล...  billing and payment\n",
       "2           ค่ะ พี่ค่ะ คืออยู่ๆ เน็ตเล่นไม่ได้อ่ะค่ะ             internet\n",
       "3  การเปลี่ยน ระบบจาก ทรู เป็น ทรูเอช มีค่าบริการ...           promotions\n",
       "4  เช็คให้หน่อยได้ไหมครับ ว่าเบอร์ของผม เปลี่ยนเป...           promotions"
      ]
     },
     "execution_count": 7,
     "metadata": {},
     "output_type": "execute_result"
    }
   ],
   "source": [
    "df.head()"
   ]
  },
  {
   "cell_type": "code",
   "execution_count": 8,
   "metadata": {},
   "outputs": [
    {
     "name": "stderr",
     "output_type": "stream",
     "text": [
      "Warning : `load_model` does not return WordVectorModel or SupervisedModel any more, but a `FastText` object which is very similar.\n"
     ]
    },
    {
     "name": "stdout",
     "output_type": "stream",
     "text": [
      "billing and payment      3916\n",
      "promotions               2280\n",
      "other queries            1823\n",
      "internet                 1588\n",
      "international dialing     336\n",
      "true money                188\n",
      "lost and stolen           172\n",
      "Name: labels, dtype: int64\n"
     ]
    },
    {
     "name": "stderr",
     "output_type": "stream",
     "text": [
      "/home/kamin/.virtualenv/dev36/lib/python3.6/site-packages/sklearn/utils/validation.py:71: FutureWarning: Pass classes=[0 1 2 3 4 5 6], y=[1 0 3 ... 0 0 2] as keyword args. From version 0.25 passing these as positional arguments will result in an error\n",
      "  FutureWarning)\n"
     ]
    },
    {
     "name": "stdout",
     "output_type": "stream",
     "text": [
      "CW2: {0: 0.3758572887786371, 1: 0.6455513784461153, 2: 0.8073818666248727, 3: 0.9268621806405182, 4: 4.380527210884353, 5: 7.829027355623101, 6: 8.557308970099667}\n"
     ]
    }
   ],
   "source": [
    "tmp_data = prepare_data_for_text_classification(train_dataframe=df,\n",
    "                                                test_dataframe=df2,\n",
    "                                                max_len=64,\n",
    "                                                min_len=1,\n",
    "                                                threshold_tfxidf=0.005\n",
    "                                               )"
   ]
  },
  {
   "cell_type": "code",
   "execution_count": 9,
   "metadata": {},
   "outputs": [
    {
     "name": "stdout",
     "output_type": "stream",
     "text": [
      "Created the path: trained_models/text_classification\n",
      "Model: \"model\"\n",
      "__________________________________________________________________________________________________\n",
      "Layer (type)                    Output Shape         Param #     Connected to                     \n",
      "==================================================================================================\n",
      "word_vectors (InputLayer)       [(None, 64, 300)]    0                                            \n",
      "__________________________________________________________________________________________________\n",
      "masks (InputLayer)              [(None, 64)]         0                                            \n",
      "__________________________________________________________________________________________________\n",
      "bidirectional (Bidirectional)   (None, 64, 256)      330240      word_vectors[0][0]               \n",
      "__________________________________________________________________________________________________\n",
      "bidirectional_1 (Bidirectional) (None, 64, 256)      296448      bidirectional[0][0]              \n",
      "__________________________________________________________________________________________________\n",
      "dropout (Dropout)               (None, 64, 256)      0           bidirectional_1[0][0]            \n",
      "__________________________________________________________________________________________________\n",
      "flatten (Flatten)               (None, 16384)        0           dropout[0][0]                    \n",
      "__________________________________________________________________________________________________\n",
      "dense (Dense)                   (None, 128)          2097280     flatten[0][0]                    \n",
      "__________________________________________________________________________________________________\n",
      "batch_normalization (BatchNorma (None, 128)          512         dense[0][0]                      \n",
      "__________________________________________________________________________________________________\n",
      "leaky_re_lu (LeakyReLU)         (None, 128)          0           batch_normalization[0][0]        \n",
      "__________________________________________________________________________________________________\n",
      "dense_1 (Dense)                 (None, 64)           8256        leaky_re_lu[0][0]                \n",
      "__________________________________________________________________________________________________\n",
      "batch_normalization_1 (BatchNor (None, 64)           256         dense_1[0][0]                    \n",
      "__________________________________________________________________________________________________\n",
      "leaky_re_lu_1 (LeakyReLU)       (None, 64)           0           batch_normalization_1[0][0]      \n",
      "__________________________________________________________________________________________________\n",
      "dense_2 (Dense)                 (None, 32)           2080        leaky_re_lu_1[0][0]              \n",
      "__________________________________________________________________________________________________\n",
      "batch_normalization_2 (BatchNor (None, 32)           128         dense_2[0][0]                    \n",
      "__________________________________________________________________________________________________\n",
      "leaky_re_lu_2 (LeakyReLU)       (None, 32)           0           batch_normalization_2[0][0]      \n",
      "__________________________________________________________________________________________________\n",
      "seq_out (Dense)                 (None, 7)            231         leaky_re_lu_2[0][0]              \n",
      "==================================================================================================\n",
      "Total params: 2,735,431\n",
      "Trainable params: 2,734,983\n",
      "Non-trainable params: 448\n",
      "__________________________________________________________________________________________________\n"
     ]
    }
   ],
   "source": [
    "tc =Text_classification(prepared_data_dict=tmp_data, \n",
    "                        do_deep_learning=True, \n",
    "                        do_linear_classifier=True, \n",
    "                        is_sequence_prediciton=False)"
   ]
  },
  {
   "cell_type": "code",
   "execution_count": 10,
   "metadata": {},
   "outputs": [
    {
     "name": "stdout",
     "output_type": "stream",
     "text": [
      "Linear classifier part\n",
      "running 5-fold cv\n",
      "Best C: 5, Best f1-scores: [0.88116243 0.90909091 0.77590361 0.88172043 0.80133185 0.85617597\n",
      " 0.95238095]\n",
      "Unweighted f1-score: 0.8653951658723057, Weighted f1-score: 0.8477599212454612\n"
     ]
    },
    {
     "data": {
      "image/png": "[encoded data removed]",
      "text/plain": [
       "<Figure size 432x288 with 2 Axes>"
      ]
     },
     "metadata": {
      "needs_background": "light"
     },
     "output_type": "display_data"
    }
   ],
   "source": [
    "tc.fit_linear_classifier()"
   ]
  },
  {
   "cell_type": "code",
   "execution_count": null,
   "metadata": {},
   "outputs": [
    {
     "name": "stdout",
     "output_type": "stream",
     "text": [
      "SVM classifier part\n",
      "running 5-fold cv\n"
     ]
    }
   ],
   "source": [
    "t1 =time()\n",
    "tc.fit_SVM_classifier()\n",
    "print(f'time used: {time() - t1}')"
   ]
  },
  {
   "cell_type": "code",
   "execution_count": 11,
   "metadata": {
    "scrolled": true
   },
   "outputs": [
    {
     "name": "stdout",
     "output_type": "stream",
     "text": [
      "Epoch 1/500\n",
      "161/161 [==============================] - 43s 267ms/step - loss: 5.2349 - precision: 0.5570 - recall: 0.1550 - val_loss: 3.9366 - val_precision: 1.0000 - val_recall: 0.0027 - lr: 0.0010\n",
      "Epoch 2/500\n",
      "161/161 [==============================] - 39s 242ms/step - loss: 2.7948 - precision: 0.7257 - recall: 0.4203 - val_loss: 2.7909 - val_precision: 0.9621 - val_recall: 0.1266 - lr: 0.0010\n",
      "Epoch 3/500\n",
      "161/161 [==============================] - 40s 250ms/step - loss: 2.1212 - precision: 0.7195 - recall: 0.4373 - val_loss: 2.0219 - val_precision: 0.8672 - val_recall: 0.4308 - lr: 0.0010\n",
      "Epoch 4/500\n",
      "161/161 [==============================] - 40s 246ms/step - loss: 1.7012 - precision: 0.7331 - recall: 0.4687 - val_loss: 1.7346 - val_precision: 0.7878 - val_recall: 0.4756 - lr: 0.0010\n",
      "Epoch 5/500\n",
      "161/161 [==============================] - 38s 239ms/step - loss: 1.5439 - precision: 0.7210 - recall: 0.4641 - val_loss: 2.0209 - val_precision: 0.5560 - val_recall: 0.3636 - lr: 0.0010\n",
      "Epoch 6/500\n",
      "161/161 [==============================] - 39s 240ms/step - loss: 1.3800 - precision: 0.7335 - recall: 0.4820 - val_loss: 1.4050 - val_precision: 0.8469 - val_recall: 0.5516 - lr: 0.0010\n",
      "Epoch 7/500\n",
      "161/161 [==============================] - 38s 238ms/step - loss: 1.3129 - precision: 0.7373 - recall: 0.4901 - val_loss: 1.5467 - val_precision: 0.7443 - val_recall: 0.4891 - lr: 0.0010\n",
      "Epoch 8/500\n",
      "161/161 [==============================] - 39s 239ms/step - loss: 1.3393 - precision: 0.7191 - recall: 0.4705 - val_loss: 1.4952 - val_precision: 0.7881 - val_recall: 0.5420 - lr: 0.0010\n",
      "Epoch 9/500\n",
      "161/161 [==============================] - 39s 241ms/step - loss: 1.2401 - precision: 0.7369 - recall: 0.4948 - val_loss: 1.3586 - val_precision: 0.7714 - val_recall: 0.5190 - lr: 0.0010\n",
      "Epoch 10/500\n",
      "161/161 [==============================] - 38s 238ms/step - loss: 1.2774 - precision: 0.7272 - recall: 0.4790 - val_loss: 1.4045 - val_precision: 0.8468 - val_recall: 0.4960 - lr: 0.0010\n",
      "Epoch 11/500\n",
      "161/161 [==============================] - 39s 241ms/step - loss: 1.1691 - precision: 0.7382 - recall: 0.4882 - val_loss: 1.2494 - val_precision: 0.8066 - val_recall: 0.5535 - lr: 0.0010\n",
      "Epoch 12/500\n",
      "161/161 [==============================] - 39s 244ms/step - loss: 1.1485 - precision: 0.7259 - recall: 0.4898 - val_loss: 1.4468 - val_precision: 0.7014 - val_recall: 0.4929 - lr: 0.0010\n",
      "Epoch 13/500\n",
      "161/161 [==============================] - 38s 237ms/step - loss: 1.1703 - precision: 0.7475 - recall: 0.5087 - val_loss: 1.3589 - val_precision: 0.8199 - val_recall: 0.4768 - lr: 0.0010\n",
      "Epoch 14/500\n",
      "161/161 [==============================] - 38s 238ms/step - loss: 1.1429 - precision: 0.7368 - recall: 0.4965 - val_loss: 1.3600 - val_precision: 0.7683 - val_recall: 0.4680 - lr: 0.0010\n",
      "Epoch 15/500\n",
      "161/161 [==============================] - 38s 238ms/step - loss: 1.0765 - precision: 0.7449 - recall: 0.5172 - val_loss: 1.3299 - val_precision: 0.8043 - val_recall: 0.5267 - lr: 0.0010\n",
      "Epoch 16/500\n",
      "161/161 [==============================] - 39s 239ms/step - loss: 1.0806 - precision: 0.7487 - recall: 0.5280 - val_loss: 1.2139 - val_precision: 0.8239 - val_recall: 0.5401 - lr: 0.0010\n",
      "Epoch 17/500\n",
      "161/161 [==============================] - 40s 248ms/step - loss: 1.0351 - precision: 0.7462 - recall: 0.5206 - val_loss: 1.1503 - val_precision: 0.8143 - val_recall: 0.5819 - lr: 0.0010\n",
      "Epoch 18/500\n",
      " 47/161 [=======>......................] - ETA: 25s - loss: 1.0637 - precision: 0.7295 - recall: 0.5163"
     ]
    },
    {
     "ename": "KeyboardInterrupt",
     "evalue": "",
     "output_type": "error",
     "traceback": [
      "\u001b[0;31m---------------------------------------------------------------------------\u001b[0m",
      "\u001b[0;31mKeyboardInterrupt\u001b[0m                         Traceback (most recent call last)",
      "\u001b[0;32m<ipython-input-11-859222e2018f>\u001b[0m in \u001b[0;36m<module>\u001b[0;34m\u001b[0m\n\u001b[0;32m----> 1\u001b[0;31m \u001b[0mtc\u001b[0m\u001b[0;34m.\u001b[0m\u001b[0mfit_deep_learning\u001b[0m\u001b[0;34m(\u001b[0m\u001b[0;34m)\u001b[0m\u001b[0;34m\u001b[0m\u001b[0;34m\u001b[0m\u001b[0m\n\u001b[0m",
      "\u001b[0;32m~/Thai_NLP/text_classification.py\u001b[0m in \u001b[0;36mfit_deep_learning\u001b[0;34m(self)\u001b[0m\n\u001b[1;32m    445\u001b[0m           \u001b[0mcallbacks\u001b[0m\u001b[0;34m=\u001b[0m\u001b[0;34m[\u001b[0m\u001b[0mMC\u001b[0m\u001b[0;34m,\u001b[0m\u001b[0mRP\u001b[0m\u001b[0;34m,\u001b[0m\u001b[0mES\u001b[0m\u001b[0;34m]\u001b[0m\u001b[0;34m,\u001b[0m\u001b[0;34m\u001b[0m\u001b[0;34m\u001b[0m\u001b[0m\n\u001b[1;32m    446\u001b[0m           \u001b[0muse_multiprocessing\u001b[0m\u001b[0;34m=\u001b[0m\u001b[0;32mTrue\u001b[0m\u001b[0;34m,\u001b[0m\u001b[0;34m\u001b[0m\u001b[0;34m\u001b[0m\u001b[0m\n\u001b[0;32m--> 447\u001b[0;31m           class_weight=self.class_weight)\n\u001b[0m\u001b[1;32m    448\u001b[0m     \u001b[0mprint\u001b[0m\u001b[0;34m(\u001b[0m\u001b[0;34m'f1-scores'\u001b[0m\u001b[0;34m)\u001b[0m\u001b[0;34m\u001b[0m\u001b[0;34m\u001b[0m\u001b[0m\n\u001b[1;32m    449\u001b[0m     \u001b[0mself\u001b[0m\u001b[0;34m.\u001b[0m\u001b[0meval_dl_text_classification\u001b[0m\u001b[0;34m(\u001b[0m\u001b[0;34m)\u001b[0m\u001b[0;34m\u001b[0m\u001b[0;34m\u001b[0m\u001b[0m\n",
      "\u001b[0;32m~/.virtualenv/dev36/lib/python3.6/site-packages/tensorflow/python/keras/engine/training.py\u001b[0m in \u001b[0;36m_method_wrapper\u001b[0;34m(self, *args, **kwargs)\u001b[0m\n\u001b[1;32m     64\u001b[0m   \u001b[0;32mdef\u001b[0m \u001b[0m_method_wrapper\u001b[0m\u001b[0;34m(\u001b[0m\u001b[0mself\u001b[0m\u001b[0;34m,\u001b[0m \u001b[0;34m*\u001b[0m\u001b[0margs\u001b[0m\u001b[0;34m,\u001b[0m \u001b[0;34m**\u001b[0m\u001b[0mkwargs\u001b[0m\u001b[0;34m)\u001b[0m\u001b[0;34m:\u001b[0m\u001b[0;34m\u001b[0m\u001b[0;34m\u001b[0m\u001b[0m\n\u001b[1;32m     65\u001b[0m     \u001b[0;32mif\u001b[0m \u001b[0;32mnot\u001b[0m \u001b[0mself\u001b[0m\u001b[0;34m.\u001b[0m\u001b[0m_in_multi_worker_mode\u001b[0m\u001b[0;34m(\u001b[0m\u001b[0;34m)\u001b[0m\u001b[0;34m:\u001b[0m  \u001b[0;31m# pylint: disable=protected-access\u001b[0m\u001b[0;34m\u001b[0m\u001b[0;34m\u001b[0m\u001b[0m\n\u001b[0;32m---> 66\u001b[0;31m       \u001b[0;32mreturn\u001b[0m \u001b[0mmethod\u001b[0m\u001b[0;34m(\u001b[0m\u001b[0mself\u001b[0m\u001b[0;34m,\u001b[0m \u001b[0;34m*\u001b[0m\u001b[0margs\u001b[0m\u001b[0;34m,\u001b[0m \u001b[0;34m**\u001b[0m\u001b[0mkwargs\u001b[0m\u001b[0;34m)\u001b[0m\u001b[0;34m\u001b[0m\u001b[0;34m\u001b[0m\u001b[0m\n\u001b[0m\u001b[1;32m     67\u001b[0m \u001b[0;34m\u001b[0m\u001b[0m\n\u001b[1;32m     68\u001b[0m     \u001b[0;31m# Running inside `run_distribute_coordinator` already.\u001b[0m\u001b[0;34m\u001b[0m\u001b[0;34m\u001b[0m\u001b[0;34m\u001b[0m\u001b[0m\n",
      "\u001b[0;32m~/.virtualenv/dev36/lib/python3.6/site-packages/tensorflow/python/keras/engine/training.py\u001b[0m in \u001b[0;36mfit\u001b[0;34m(self, x, y, batch_size, epochs, verbose, callbacks, validation_split, validation_data, shuffle, class_weight, sample_weight, initial_epoch, steps_per_epoch, validation_steps, validation_batch_size, validation_freq, max_queue_size, workers, use_multiprocessing)\u001b[0m\n\u001b[1;32m    846\u001b[0m                 batch_size=batch_size):\n\u001b[1;32m    847\u001b[0m               \u001b[0mcallbacks\u001b[0m\u001b[0;34m.\u001b[0m\u001b[0mon_train_batch_begin\u001b[0m\u001b[0;34m(\u001b[0m\u001b[0mstep\u001b[0m\u001b[0;34m)\u001b[0m\u001b[0;34m\u001b[0m\u001b[0;34m\u001b[0m\u001b[0m\n\u001b[0;32m--> 848\u001b[0;31m               \u001b[0mtmp_logs\u001b[0m \u001b[0;34m=\u001b[0m \u001b[0mtrain_function\u001b[0m\u001b[0;34m(\u001b[0m\u001b[0miterator\u001b[0m\u001b[0;34m)\u001b[0m\u001b[0;34m\u001b[0m\u001b[0;34m\u001b[0m\u001b[0m\n\u001b[0m\u001b[1;32m    849\u001b[0m               \u001b[0;31m# Catch OutOfRangeError for Datasets of unknown size.\u001b[0m\u001b[0;34m\u001b[0m\u001b[0;34m\u001b[0m\u001b[0;34m\u001b[0m\u001b[0m\n\u001b[1;32m    850\u001b[0m               \u001b[0;31m# This blocks until the batch has finished executing.\u001b[0m\u001b[0;34m\u001b[0m\u001b[0;34m\u001b[0m\u001b[0;34m\u001b[0m\u001b[0m\n",
      "\u001b[0;32m~/.virtualenv/dev36/lib/python3.6/site-packages/tensorflow/python/eager/def_function.py\u001b[0m in \u001b[0;36m__call__\u001b[0;34m(self, *args, **kwds)\u001b[0m\n\u001b[1;32m    578\u001b[0m         \u001b[0mxla_context\u001b[0m\u001b[0;34m.\u001b[0m\u001b[0mExit\u001b[0m\u001b[0;34m(\u001b[0m\u001b[0;34m)\u001b[0m\u001b[0;34m\u001b[0m\u001b[0;34m\u001b[0m\u001b[0m\n\u001b[1;32m    579\u001b[0m     \u001b[0;32melse\u001b[0m\u001b[0;34m:\u001b[0m\u001b[0;34m\u001b[0m\u001b[0;34m\u001b[0m\u001b[0m\n\u001b[0;32m--> 580\u001b[0;31m       \u001b[0mresult\u001b[0m \u001b[0;34m=\u001b[0m \u001b[0mself\u001b[0m\u001b[0;34m.\u001b[0m\u001b[0m_call\u001b[0m\u001b[0;34m(\u001b[0m\u001b[0;34m*\u001b[0m\u001b[0margs\u001b[0m\u001b[0;34m,\u001b[0m \u001b[0;34m**\u001b[0m\u001b[0mkwds\u001b[0m\u001b[0;34m)\u001b[0m\u001b[0;34m\u001b[0m\u001b[0;34m\u001b[0m\u001b[0m\n\u001b[0m\u001b[1;32m    581\u001b[0m \u001b[0;34m\u001b[0m\u001b[0m\n\u001b[1;32m    582\u001b[0m     \u001b[0;32mif\u001b[0m \u001b[0mtracing_count\u001b[0m \u001b[0;34m==\u001b[0m \u001b[0mself\u001b[0m\u001b[0;34m.\u001b[0m\u001b[0m_get_tracing_count\u001b[0m\u001b[0;34m(\u001b[0m\u001b[0;34m)\u001b[0m\u001b[0;34m:\u001b[0m\u001b[0;34m\u001b[0m\u001b[0;34m\u001b[0m\u001b[0m\n",
      "\u001b[0;32m~/.virtualenv/dev36/lib/python3.6/site-packages/tensorflow/python/eager/def_function.py\u001b[0m in \u001b[0;36m_call\u001b[0;34m(self, *args, **kwds)\u001b[0m\n\u001b[1;32m    609\u001b[0m       \u001b[0;31m# In this case we have created variables on the first call, so we run the\u001b[0m\u001b[0;34m\u001b[0m\u001b[0;34m\u001b[0m\u001b[0;34m\u001b[0m\u001b[0m\n\u001b[1;32m    610\u001b[0m       \u001b[0;31m# defunned version which is guaranteed to never create variables.\u001b[0m\u001b[0;34m\u001b[0m\u001b[0;34m\u001b[0m\u001b[0;34m\u001b[0m\u001b[0m\n\u001b[0;32m--> 611\u001b[0;31m       \u001b[0;32mreturn\u001b[0m \u001b[0mself\u001b[0m\u001b[0;34m.\u001b[0m\u001b[0m_stateless_fn\u001b[0m\u001b[0;34m(\u001b[0m\u001b[0;34m*\u001b[0m\u001b[0margs\u001b[0m\u001b[0;34m,\u001b[0m \u001b[0;34m**\u001b[0m\u001b[0mkwds\u001b[0m\u001b[0;34m)\u001b[0m  \u001b[0;31m# pylint: disable=not-callable\u001b[0m\u001b[0;34m\u001b[0m\u001b[0;34m\u001b[0m\u001b[0m\n\u001b[0m\u001b[1;32m    612\u001b[0m     \u001b[0;32melif\u001b[0m \u001b[0mself\u001b[0m\u001b[0;34m.\u001b[0m\u001b[0m_stateful_fn\u001b[0m \u001b[0;32mis\u001b[0m \u001b[0;32mnot\u001b[0m \u001b[0;32mNone\u001b[0m\u001b[0;34m:\u001b[0m\u001b[0;34m\u001b[0m\u001b[0;34m\u001b[0m\u001b[0m\n\u001b[1;32m    613\u001b[0m       \u001b[0;31m# Release the lock early so that multiple threads can perform the call\u001b[0m\u001b[0;34m\u001b[0m\u001b[0;34m\u001b[0m\u001b[0;34m\u001b[0m\u001b[0m\n",
      "\u001b[0;32m~/.virtualenv/dev36/lib/python3.6/site-packages/tensorflow/python/eager/function.py\u001b[0m in \u001b[0;36m__call__\u001b[0;34m(self, *args, **kwargs)\u001b[0m\n\u001b[1;32m   2418\u001b[0m     \u001b[0;32mwith\u001b[0m \u001b[0mself\u001b[0m\u001b[0;34m.\u001b[0m\u001b[0m_lock\u001b[0m\u001b[0;34m:\u001b[0m\u001b[0;34m\u001b[0m\u001b[0;34m\u001b[0m\u001b[0m\n\u001b[1;32m   2419\u001b[0m       \u001b[0mgraph_function\u001b[0m\u001b[0;34m,\u001b[0m \u001b[0margs\u001b[0m\u001b[0;34m,\u001b[0m \u001b[0mkwargs\u001b[0m \u001b[0;34m=\u001b[0m \u001b[0mself\u001b[0m\u001b[0;34m.\u001b[0m\u001b[0m_maybe_define_function\u001b[0m\u001b[0;34m(\u001b[0m\u001b[0margs\u001b[0m\u001b[0;34m,\u001b[0m \u001b[0mkwargs\u001b[0m\u001b[0;34m)\u001b[0m\u001b[0;34m\u001b[0m\u001b[0;34m\u001b[0m\u001b[0m\n\u001b[0;32m-> 2420\u001b[0;31m     \u001b[0;32mreturn\u001b[0m \u001b[0mgraph_function\u001b[0m\u001b[0;34m.\u001b[0m\u001b[0m_filtered_call\u001b[0m\u001b[0;34m(\u001b[0m\u001b[0margs\u001b[0m\u001b[0;34m,\u001b[0m \u001b[0mkwargs\u001b[0m\u001b[0;34m)\u001b[0m  \u001b[0;31m# pylint: disable=protected-access\u001b[0m\u001b[0;34m\u001b[0m\u001b[0;34m\u001b[0m\u001b[0m\n\u001b[0m\u001b[1;32m   2421\u001b[0m \u001b[0;34m\u001b[0m\u001b[0m\n\u001b[1;32m   2422\u001b[0m   \u001b[0;34m@\u001b[0m\u001b[0mproperty\u001b[0m\u001b[0;34m\u001b[0m\u001b[0;34m\u001b[0m\u001b[0m\n",
      "\u001b[0;32m~/.virtualenv/dev36/lib/python3.6/site-packages/tensorflow/python/eager/function.py\u001b[0m in \u001b[0;36m_filtered_call\u001b[0;34m(self, args, kwargs)\u001b[0m\n\u001b[1;32m   1663\u001b[0m          if isinstance(t, (ops.Tensor,\n\u001b[1;32m   1664\u001b[0m                            resource_variable_ops.BaseResourceVariable))),\n\u001b[0;32m-> 1665\u001b[0;31m         self.captured_inputs)\n\u001b[0m\u001b[1;32m   1666\u001b[0m \u001b[0;34m\u001b[0m\u001b[0m\n\u001b[1;32m   1667\u001b[0m   \u001b[0;32mdef\u001b[0m \u001b[0m_call_flat\u001b[0m\u001b[0;34m(\u001b[0m\u001b[0mself\u001b[0m\u001b[0;34m,\u001b[0m \u001b[0margs\u001b[0m\u001b[0;34m,\u001b[0m \u001b[0mcaptured_inputs\u001b[0m\u001b[0;34m,\u001b[0m \u001b[0mcancellation_manager\u001b[0m\u001b[0;34m=\u001b[0m\u001b[0;32mNone\u001b[0m\u001b[0;34m)\u001b[0m\u001b[0;34m:\u001b[0m\u001b[0;34m\u001b[0m\u001b[0;34m\u001b[0m\u001b[0m\n",
      "\u001b[0;32m~/.virtualenv/dev36/lib/python3.6/site-packages/tensorflow/python/eager/function.py\u001b[0m in \u001b[0;36m_call_flat\u001b[0;34m(self, args, captured_inputs, cancellation_manager)\u001b[0m\n\u001b[1;32m   1744\u001b[0m       \u001b[0;31m# No tape is watching; skip to running the function.\u001b[0m\u001b[0;34m\u001b[0m\u001b[0;34m\u001b[0m\u001b[0;34m\u001b[0m\u001b[0m\n\u001b[1;32m   1745\u001b[0m       return self._build_call_outputs(self._inference_function.call(\n\u001b[0;32m-> 1746\u001b[0;31m           ctx, args, cancellation_manager=cancellation_manager))\n\u001b[0m\u001b[1;32m   1747\u001b[0m     forward_backward = self._select_forward_and_backward_functions(\n\u001b[1;32m   1748\u001b[0m         \u001b[0margs\u001b[0m\u001b[0;34m,\u001b[0m\u001b[0;34m\u001b[0m\u001b[0;34m\u001b[0m\u001b[0m\n",
      "\u001b[0;32m~/.virtualenv/dev36/lib/python3.6/site-packages/tensorflow/python/eager/function.py\u001b[0m in \u001b[0;36mcall\u001b[0;34m(self, ctx, args, cancellation_manager)\u001b[0m\n\u001b[1;32m    596\u001b[0m               \u001b[0minputs\u001b[0m\u001b[0;34m=\u001b[0m\u001b[0margs\u001b[0m\u001b[0;34m,\u001b[0m\u001b[0;34m\u001b[0m\u001b[0;34m\u001b[0m\u001b[0m\n\u001b[1;32m    597\u001b[0m               \u001b[0mattrs\u001b[0m\u001b[0;34m=\u001b[0m\u001b[0mattrs\u001b[0m\u001b[0;34m,\u001b[0m\u001b[0;34m\u001b[0m\u001b[0;34m\u001b[0m\u001b[0m\n\u001b[0;32m--> 598\u001b[0;31m               ctx=ctx)\n\u001b[0m\u001b[1;32m    599\u001b[0m         \u001b[0;32melse\u001b[0m\u001b[0;34m:\u001b[0m\u001b[0;34m\u001b[0m\u001b[0;34m\u001b[0m\u001b[0m\n\u001b[1;32m    600\u001b[0m           outputs = execute.execute_with_cancellation(\n",
      "\u001b[0;32m~/.virtualenv/dev36/lib/python3.6/site-packages/tensorflow/python/eager/execute.py\u001b[0m in \u001b[0;36mquick_execute\u001b[0;34m(op_name, num_outputs, inputs, attrs, ctx, name)\u001b[0m\n\u001b[1;32m     58\u001b[0m     \u001b[0mctx\u001b[0m\u001b[0;34m.\u001b[0m\u001b[0mensure_initialized\u001b[0m\u001b[0;34m(\u001b[0m\u001b[0;34m)\u001b[0m\u001b[0;34m\u001b[0m\u001b[0;34m\u001b[0m\u001b[0m\n\u001b[1;32m     59\u001b[0m     tensors = pywrap_tfe.TFE_Py_Execute(ctx._handle, device_name, op_name,\n\u001b[0;32m---> 60\u001b[0;31m                                         inputs, attrs, num_outputs)\n\u001b[0m\u001b[1;32m     61\u001b[0m   \u001b[0;32mexcept\u001b[0m \u001b[0mcore\u001b[0m\u001b[0;34m.\u001b[0m\u001b[0m_NotOkStatusException\u001b[0m \u001b[0;32mas\u001b[0m \u001b[0me\u001b[0m\u001b[0;34m:\u001b[0m\u001b[0;34m\u001b[0m\u001b[0;34m\u001b[0m\u001b[0m\n\u001b[1;32m     62\u001b[0m     \u001b[0;32mif\u001b[0m \u001b[0mname\u001b[0m \u001b[0;32mis\u001b[0m \u001b[0;32mnot\u001b[0m \u001b[0;32mNone\u001b[0m\u001b[0;34m:\u001b[0m\u001b[0;34m\u001b[0m\u001b[0;34m\u001b[0m\u001b[0m\n",
      "\u001b[0;31mKeyboardInterrupt\u001b[0m: "
     ]
    }
   ],
   "source": [
    "tc.fit_deep_learning()"
   ]
  },
  {
   "cell_type": "code",
   "execution_count": 8,
   "metadata": {},
   "outputs": [
    {
     "name": "stdout",
     "output_type": "stream",
     "text": [
      "linear_prediction: [0.0339347  0.00350534 0.01975266 0.00268576 0.03924427 0.89877451\n",
      " 0.00210276]\n",
      "dl_prediction: [5.7365797e-03 9.1864483e-04 1.1742757e-02 1.7704522e-04 1.6022399e-02\n",
      " 9.6461564e-01 7.8693411e-04]\n",
      "-----\n",
      "linear_prediction: [0.59457259 0.01546059 0.22307242 0.00660594 0.11336827 0.03403696\n",
      " 0.01288323]\n",
      "dl_prediction: [0.6991231  0.00415532 0.05836102 0.00098591 0.2244429  0.01117605\n",
      " 0.00175574]\n",
      "-----\n",
      "linear_prediction: [0.0558655  0.00281539 0.90660512 0.00202166 0.01439435 0.01731933\n",
      " 0.00097867]\n",
      "dl_prediction: [1.8012861e-02 6.9103797e-04 9.5653814e-01 3.2450768e-04 1.2877582e-02\n",
      " 1.1425815e-02 1.3006906e-04]\n",
      "-----\n",
      "linear_prediction: [0.23185722 0.00862956 0.00656977 0.00102346 0.16114261 0.57616548\n",
      " 0.01461189]\n",
      "dl_prediction: [5.2739494e-02 4.3769574e-04 1.4137422e-02 4.6365586e-04 8.4993333e-01\n",
      " 7.8846194e-02 3.4423808e-03]\n",
      "-----\n",
      "linear_prediction: [0.21933552 0.00306056 0.07012364 0.00992462 0.05556976 0.62816136\n",
      " 0.01382454]\n",
      "dl_prediction: [3.0957642e-01 7.2698586e-04 2.4192347e-03 4.9792684e-04 4.9165066e-02\n",
      " 6.3102263e-01 6.5917149e-03]\n",
      "-----\n",
      "linear_prediction: [2.56189122e-02 1.29249561e-02 1.62641454e-02 9.13701156e-01\n",
      " 1.90618527e-02 1.19143857e-02 5.14592389e-04]\n",
      "dl_prediction: [7.8318879e-04 7.6709301e-05 1.5792907e-04 9.9708897e-01 1.8098095e-03\n",
      " 4.8922047e-05 3.4527216e-05]\n",
      "-----\n",
      "linear_prediction: [0.10404294 0.06425434 0.61854761 0.01023475 0.1422615  0.05595999\n",
      " 0.00469888]\n",
      "dl_prediction: [1.1112118e-01 2.9082848e-03 4.6454719e-01 2.7517208e-03 3.9096025e-01\n",
      " 2.7420441e-02 2.9091680e-04]\n",
      "-----\n",
      "linear_prediction: [1.97358712e-02 4.07974628e-03 8.73629035e-01 7.02493475e-04\n",
      " 2.35108212e-02 7.45455272e-02 3.79650528e-03]\n",
      "dl_prediction: [4.2843521e-02 3.4353118e-03 8.4113276e-01 5.0463149e-04 7.7698790e-02\n",
      " 3.3946056e-02 4.3886460e-04]\n",
      "-----\n",
      "linear_prediction: [0.14273474 0.00802081 0.22616726 0.00392733 0.09614812 0.51974854\n",
      " 0.0032532 ]\n",
      "dl_prediction: [1.4823186e-01 2.4466962e-03 1.0949808e-02 5.8267376e-04 3.7034001e-02\n",
      " 7.9826432e-01 2.4906085e-03]\n",
      "-----\n",
      "linear_prediction: [0.98144437 0.0033973  0.00170466 0.00126824 0.00657577 0.0046169\n",
      " 0.00099277]\n",
      "dl_prediction: [9.9425703e-01 7.0966972e-04 2.4589419e-04 7.7460171e-04 1.7728299e-03\n",
      " 1.2692290e-03 9.7077264e-04]\n",
      "-----\n",
      "linear_prediction: [7.96273943e-03 2.85940908e-02 1.07610540e-01 2.23046524e-03\n",
      " 3.98174141e-03 8.49073438e-01 5.46985147e-04]\n",
      "dl_prediction: [2.5079131e-02 8.5703610e-03 1.1873365e-02 1.8065145e-04 9.0701524e-03\n",
      " 9.4493026e-01 2.9597140e-04]\n",
      "-----\n",
      "linear_prediction: [0.45549046 0.00822083 0.36571715 0.00289666 0.02324792 0.13416576\n",
      " 0.01026122]\n",
      "dl_prediction: [0.4177141  0.00087204 0.24851364 0.00146091 0.30718037 0.02258547\n",
      " 0.00167352]\n",
      "-----\n",
      "linear_prediction: [0.04384729 0.00789049 0.60372259 0.0026439  0.24422968 0.09433458\n",
      " 0.00333148]\n",
      "dl_prediction: [8.5508004e-03 4.3059379e-04 8.9517921e-01 3.1836313e-04 6.9437511e-02\n",
      " 2.5327224e-02 7.5619138e-04]\n",
      "-----\n",
      "linear_prediction: [0.21071743 0.0096965  0.25857259 0.00753121 0.3438839  0.14189492\n",
      " 0.02770345]\n",
      "dl_prediction: [0.4242746  0.00337598 0.4727537  0.00144612 0.08623768 0.01038723\n",
      " 0.0015247 ]\n",
      "-----\n",
      "linear_prediction: [0.02543676 0.00216771 0.0035267  0.00153248 0.04556641 0.9207572\n",
      " 0.00101273]\n",
      "dl_prediction: [5.1819224e-02 6.6838285e-04 9.3583623e-03 1.8350106e-04 4.1993383e-02\n",
      " 8.9489728e-01 1.0799189e-03]\n",
      "-----\n",
      "linear_prediction: [6.37210745e-03 2.81332295e-03 1.56026981e-02 6.99463049e-04\n",
      " 1.01160154e-02 9.63896737e-01 4.99656439e-04]\n",
      "dl_prediction: [1.4219227e-02 1.7559717e-03 4.3305207e-02 8.4616325e-04 5.2411135e-02\n",
      " 8.8686669e-01 5.9561938e-04]\n",
      "-----\n",
      "linear_prediction: [0.04698074 0.00301938 0.00274227 0.00124528 0.07900774 0.86168369\n",
      " 0.0053209 ]\n",
      "dl_prediction: [0.3070049  0.00168111 0.00611421 0.00098716 0.03954341 0.6075125\n",
      " 0.03715672]\n",
      "-----\n",
      "linear_prediction: [0.03013303 0.00393642 0.74181763 0.00285071 0.01530603 0.20335456\n",
      " 0.00260163]\n",
      "dl_prediction: [1.2561694e-01 5.4099415e-03 7.3222589e-01 8.9730439e-04 7.3199861e-02\n",
      " 6.2105309e-02 5.4476730e-04]\n",
      "-----\n",
      "linear_prediction: [0.0144758  0.00597145 0.81125814 0.00091053 0.1595945  0.00299794\n",
      " 0.00479163]\n",
      "dl_prediction: [2.4901240e-03 2.0967446e-04 9.3372804e-01 9.3576533e-04 5.9314106e-02\n",
      " 3.0165939e-03 3.0568495e-04]\n",
      "-----\n",
      "linear_prediction: [0.68472702 0.00372624 0.15376031 0.00152274 0.07913434 0.02077305\n",
      " 0.0563563 ]\n",
      "dl_prediction: [0.42470765 0.00153522 0.01426595 0.00223997 0.17765713 0.01673974\n",
      " 0.3628543 ]\n",
      "-----\n",
      "Model: \"model\"\n",
      "__________________________________________________________________________________________________\n",
      "Layer (type)                    Output Shape         Param #     Connected to                     \n",
      "==================================================================================================\n",
      "input_1 (InputLayer)            [(None, 7)]          0                                            \n",
      "__________________________________________________________________________________________________\n",
      "input_2 (InputLayer)            [(None, 7)]          0                                            \n",
      "__________________________________________________________________________________________________\n",
      "dense (Dense)                   (None, 21)           168         input_1[0][0]                    \n",
      "__________________________________________________________________________________________________\n",
      "dense_1 (Dense)                 (None, 21)           168         input_2[0][0]                    \n",
      "__________________________________________________________________________________________________\n",
      "batch_normalization (BatchNorma (None, 21)           84          dense[0][0]                      \n",
      "__________________________________________________________________________________________________\n",
      "batch_normalization_1 (BatchNor (None, 21)           84          dense_1[0][0]                    \n",
      "__________________________________________________________________________________________________\n",
      "leaky_re_lu (LeakyReLU)         (None, 21)           0           batch_normalization[0][0]        \n",
      "__________________________________________________________________________________________________\n",
      "leaky_re_lu_1 (LeakyReLU)       (None, 21)           0           batch_normalization_1[0][0]      \n",
      "__________________________________________________________________________________________________\n",
      "add (Add)                       (None, 21)           0           leaky_re_lu[0][0]                \n",
      "                                                                 leaky_re_lu_1[0][0]              \n",
      "__________________________________________________________________________________________________\n",
      "dropout (Dropout)               (None, 21)           0           add[0][0]                        \n",
      "__________________________________________________________________________________________________\n",
      "dense_2 (Dense)                 (None, 14)           308         dropout[0][0]                    \n",
      "__________________________________________________________________________________________________\n",
      "batch_normalization_2 (BatchNor (None, 14)           56          dense_2[0][0]                    \n",
      "__________________________________________________________________________________________________\n",
      "leaky_re_lu_2 (LeakyReLU)       (None, 14)           0           batch_normalization_2[0][0]      \n",
      "__________________________________________________________________________________________________\n",
      "dropout_1 (Dropout)             (None, 14)           0           leaky_re_lu_2[0][0]              \n",
      "__________________________________________________________________________________________________\n",
      "dense_3 (Dense)                 (None, 7)            105         dropout_1[0][0]                  \n",
      "==================================================================================================\n",
      "Total params: 973\n",
      "Trainable params: 861\n",
      "Non-trainable params: 112\n",
      "__________________________________________________________________________________________________\n",
      "(10303, 7)\n",
      "(10303, 7)\n",
      "(10303, 7)\n",
      "(2607, 7)\n",
      "(2607, 7)\n",
      "(2607, 7)\n",
      "{0: 0.3758572887786371, 1: 4.380527210884353, 2: 0.9268621806405182, 3: 8.557308970099667, 4: 0.8073818666248727, 5: 0.6455513784461153, 6: 7.829027355623101}\n",
      "Epoch 1/500\n"
     ]
    },
    {
     "name": "stdout",
     "output_type": "stream",
     "text": [
      "11/11 [==============================] - 1s 75ms/step - loss: 2.2747 - precision: 0.0704 - recall: 0.0037 - val_loss: 2.1464 - val_precision: 0.0000e+00 - val_recall: 0.0000e+00 - lr: 0.0010\n",
      "Epoch 2/500\n",
      "11/11 [==============================] - 0s 21ms/step - loss: 1.8477 - precision: 0.5604 - recall: 0.0239 - val_loss: 2.0835 - val_precision: 0.0000e+00 - val_recall: 0.0000e+00 - lr: 0.0010\n",
      "Epoch 3/500\n",
      "11/11 [==============================] - 0s 16ms/step - loss: 1.5258 - precision: 0.8487 - recall: 0.0741 - val_loss: 2.0269 - val_precision: 0.0000e+00 - val_recall: 0.0000e+00 - lr: 0.0010\n",
      "Epoch 4/500\n",
      "11/11 [==============================] - 0s 26ms/step - loss: 1.2860 - precision: 0.8939 - recall: 0.1382 - val_loss: 1.9780 - val_precision: 0.0000e+00 - val_recall: 0.0000e+00 - lr: 0.0010\n",
      "Epoch 5/500\n",
      "11/11 [==============================] - 0s 27ms/step - loss: 1.1147 - precision: 0.9111 - recall: 0.2049 - val_loss: 1.9382 - val_precision: 0.0000e+00 - val_recall: 0.0000e+00 - lr: 0.0010\n",
      "Epoch 6/500\n",
      "11/11 [==============================] - 0s 24ms/step - loss: 0.9702 - precision: 0.9238 - recall: 0.2882 - val_loss: 1.8970 - val_precision: 0.0000e+00 - val_recall: 0.0000e+00 - lr: 0.0010\n",
      "Epoch 7/500\n",
      "11/11 [==============================] - 0s 21ms/step - loss: 0.8755 - precision: 0.9441 - recall: 0.4064 - val_loss: 1.8584 - val_precision: 0.0000e+00 - val_recall: 0.0000e+00 - lr: 0.0010\n",
      "Epoch 8/500\n",
      "11/11 [==============================] - 0s 26ms/step - loss: 0.8109 - precision: 0.9441 - recall: 0.4968 - val_loss: 1.8190 - val_precision: 0.0000e+00 - val_recall: 0.0000e+00 - lr: 0.0010\n",
      "Epoch 9/500\n",
      "11/11 [==============================] - 0s 24ms/step - loss: 0.7668 - precision: 0.9464 - recall: 0.5609 - val_loss: 1.7806 - val_precision: 0.0000e+00 - val_recall: 0.0000e+00 - lr: 0.0010\n",
      "Epoch 10/500\n",
      "11/11 [==============================] - 0s 21ms/step - loss: 0.7177 - precision: 0.9488 - recall: 0.6150 - val_loss: 1.7427 - val_precision: 0.0000e+00 - val_recall: 0.0000e+00 - lr: 0.0010\n",
      "Epoch 11/500\n",
      "11/11 [==============================] - 0s 23ms/step - loss: 0.6894 - precision: 0.9469 - recall: 0.6473 - val_loss: 1.7068 - val_precision: 0.0000e+00 - val_recall: 0.0000e+00 - lr: 0.0010\n",
      "Epoch 12/500\n",
      "11/11 [==============================] - 0s 27ms/step - loss: 0.6551 - precision: 0.9495 - recall: 0.6842 - val_loss: 1.6721 - val_precision: 0.0000e+00 - val_recall: 0.0000e+00 - lr: 0.0010\n",
      "Epoch 13/500\n",
      "11/11 [==============================] - 0s 24ms/step - loss: 0.6349 - precision: 0.9479 - recall: 0.7043 - val_loss: 1.6365 - val_precision: 0.0000e+00 - val_recall: 0.0000e+00 - lr: 0.0010\n",
      "Epoch 14/500\n",
      "11/11 [==============================] - 0s 24ms/step - loss: 0.6175 - precision: 0.9488 - recall: 0.7273 - val_loss: 1.6002 - val_precision: 0.0000e+00 - val_recall: 0.0000e+00 - lr: 0.0010\n",
      "Epoch 15/500\n",
      "11/11 [==============================] - 0s 33ms/step - loss: 0.5894 - precision: 0.9473 - recall: 0.7490 - val_loss: 1.5612 - val_precision: 0.0000e+00 - val_recall: 0.0000e+00 - lr: 0.0010\n",
      "Epoch 16/500\n",
      "11/11 [==============================] - 0s 20ms/step - loss: 0.5780 - precision: 0.9520 - recall: 0.7635 - val_loss: 1.5234 - val_precision: 0.0000e+00 - val_recall: 0.0000e+00 - lr: 0.0010\n",
      "Epoch 17/500\n",
      "11/11 [==============================] - 0s 25ms/step - loss: 0.5695 - precision: 0.9491 - recall: 0.7805 - val_loss: 1.4888 - val_precision: 0.0000e+00 - val_recall: 0.0000e+00 - lr: 0.0010\n",
      "Epoch 18/500\n",
      "11/11 [==============================] - 0s 21ms/step - loss: 0.5548 - precision: 0.9487 - recall: 0.7865 - val_loss: 1.4513 - val_precision: 0.0000e+00 - val_recall: 0.0000e+00 - lr: 0.0010\n",
      "Epoch 19/500\n",
      "11/11 [==============================] - 0s 21ms/step - loss: 0.5305 - precision: 0.9504 - recall: 0.8000 - val_loss: 1.4132 - val_precision: 1.0000 - val_recall: 0.0690 - lr: 0.0010\n",
      "Epoch 20/500\n",
      "11/11 [==============================] - 0s 24ms/step - loss: 0.5247 - precision: 0.9497 - recall: 0.8108 - val_loss: 1.3749 - val_precision: 1.0000 - val_recall: 0.1343 - lr: 0.0010\n",
      "Epoch 21/500\n",
      "11/11 [==============================] - 0s 27ms/step - loss: 0.5176 - precision: 0.9521 - recall: 0.8183 - val_loss: 1.3404 - val_precision: 0.9920 - val_recall: 0.1899 - lr: 0.0010\n",
      "Epoch 22/500\n",
      "11/11 [==============================] - 0s 22ms/step - loss: 0.5056 - precision: 0.9484 - recall: 0.8257 - val_loss: 1.3053 - val_precision: 0.9771 - val_recall: 0.2455 - lr: 0.0010\n",
      "Epoch 23/500\n",
      "11/11 [==============================] - 0s 21ms/step - loss: 0.4938 - precision: 0.9474 - recall: 0.8313 - val_loss: 1.2736 - val_precision: 0.9720 - val_recall: 0.2800 - lr: 0.0010\n",
      "Epoch 24/500\n",
      "11/11 [==============================] - 0s 24ms/step - loss: 0.4863 - precision: 0.9496 - recall: 0.8351 - val_loss: 1.2404 - val_precision: 0.9684 - val_recall: 0.3525 - lr: 0.0010\n",
      "Epoch 25/500\n",
      "11/11 [==============================] - 0s 23ms/step - loss: 0.4799 - precision: 0.9476 - recall: 0.8412 - val_loss: 1.2121 - val_precision: 0.9597 - val_recall: 0.4200 - lr: 0.0010\n",
      "Epoch 26/500\n",
      "11/11 [==============================] - 0s 27ms/step - loss: 0.4652 - precision: 0.9486 - recall: 0.8476 - val_loss: 1.1832 - val_precision: 0.9481 - val_recall: 0.4691 - lr: 0.0010\n",
      "Epoch 27/500\n",
      "11/11 [==============================] - 0s 21ms/step - loss: 0.4609 - precision: 0.9476 - recall: 0.8488 - val_loss: 1.1556 - val_precision: 0.9392 - val_recall: 0.5094 - lr: 0.0010\n",
      "Epoch 28/500\n",
      "11/11 [==============================] - 0s 23ms/step - loss: 0.4544 - precision: 0.9481 - recall: 0.8522 - val_loss: 1.1277 - val_precision: 0.9359 - val_recall: 0.5432 - lr: 0.0010\n",
      "Epoch 29/500\n",
      "11/11 [==============================] - 0s 22ms/step - loss: 0.4507 - precision: 0.9476 - recall: 0.8584 - val_loss: 1.1014 - val_precision: 0.9327 - val_recall: 0.5689 - lr: 0.0010\n",
      "Epoch 30/500\n",
      "11/11 [==============================] - 0s 19ms/step - loss: 0.4427 - precision: 0.9479 - recall: 0.8618 - val_loss: 1.0819 - val_precision: 0.9286 - val_recall: 0.5884 - lr: 0.0010\n",
      "Epoch 31/500\n",
      "11/11 [==============================] - 0s 26ms/step - loss: 0.4342 - precision: 0.9474 - recall: 0.8668 - val_loss: 1.0618 - val_precision: 0.9269 - val_recall: 0.6030 - lr: 0.0010\n",
      "Epoch 32/500\n",
      "11/11 [==============================] - 0s 18ms/step - loss: 0.4319 - precision: 0.9491 - recall: 0.8664 - val_loss: 1.0417 - val_precision: 0.9213 - val_recall: 0.6195 - lr: 0.0010\n",
      "Epoch 33/500\n",
      "11/11 [==============================] - 0s 23ms/step - loss: 0.4212 - precision: 0.9467 - recall: 0.8736 - val_loss: 1.0252 - val_precision: 0.9182 - val_recall: 0.6283 - lr: 0.0010\n",
      "Epoch 34/500\n",
      "11/11 [==============================] - 0s 19ms/step - loss: 0.4168 - precision: 0.9497 - recall: 0.8756 - val_loss: 1.0102 - val_precision: 0.9154 - val_recall: 0.6390 - lr: 0.0010\n",
      "Epoch 35/500\n",
      "11/11 [==============================] - 0s 25ms/step - loss: 0.4139 - precision: 0.9484 - recall: 0.8796 - val_loss: 0.9952 - val_precision: 0.9123 - val_recall: 0.6548 - lr: 0.0010\n",
      "Epoch 36/500\n",
      "11/11 [==============================] - 0s 24ms/step - loss: 0.4078 - precision: 0.9496 - recall: 0.8801 - val_loss: 0.9838 - val_precision: 0.9071 - val_recall: 0.6632 - lr: 0.0010\n",
      "Epoch 37/500\n",
      "11/11 [==============================] - 0s 21ms/step - loss: 0.4022 - precision: 0.9483 - recall: 0.8842 - val_loss: 0.9717 - val_precision: 0.9035 - val_recall: 0.6717 - lr: 0.0010\n",
      "Epoch 38/500\n",
      "11/11 [==============================] - 0s 22ms/step - loss: 0.3961 - precision: 0.9492 - recall: 0.8859 - val_loss: 0.9646 - val_precision: 0.8981 - val_recall: 0.6759 - lr: 0.0010\n",
      "Epoch 39/500\n",
      "11/11 [==============================] - 0s 23ms/step - loss: 0.3933 - precision: 0.9464 - recall: 0.8865 - val_loss: 0.9590 - val_precision: 0.8953 - val_recall: 0.6793 - lr: 0.0010\n",
      "Epoch 40/500\n",
      "11/11 [==============================] - 0s 25ms/step - loss: 0.3926 - precision: 0.9493 - recall: 0.8861 - val_loss: 0.9487 - val_precision: 0.8900 - val_recall: 0.6858 - lr: 0.0010\n",
      "Epoch 41/500\n",
      "11/11 [==============================] - 0s 21ms/step - loss: 0.3852 - precision: 0.9490 - recall: 0.8907 - val_loss: 0.9411 - val_precision: 0.8855 - val_recall: 0.6885 - lr: 0.0010\n",
      "Epoch 42/500\n",
      "11/11 [==============================] - 0s 27ms/step - loss: 0.3852 - precision: 0.9476 - recall: 0.8939 - val_loss: 0.9373 - val_precision: 0.8830 - val_recall: 0.6916 - lr: 0.0010\n",
      "Epoch 43/500\n",
      "11/11 [==============================] - 0s 18ms/step - loss: 0.3750 - precision: 0.9474 - recall: 0.8940 - val_loss: 0.9349 - val_precision: 0.8766 - val_recall: 0.6920 - lr: 0.0010\n",
      "Epoch 44/500\n",
      "11/11 [==============================] - 0s 21ms/step - loss: 0.3751 - precision: 0.9482 - recall: 0.8955 - val_loss: 0.9318 - val_precision: 0.8739 - val_recall: 0.6935 - lr: 0.0010\n",
      "Epoch 45/500\n",
      "11/11 [==============================] - 0s 26ms/step - loss: 0.3691 - precision: 0.9485 - recall: 0.8966 - val_loss: 0.9273 - val_precision: 0.8694 - val_recall: 0.6943 - lr: 0.0010\n",
      "Epoch 46/500\n",
      "11/11 [==============================] - 0s 25ms/step - loss: 0.3629 - precision: 0.9492 - recall: 0.8990 - val_loss: 0.9240 - val_precision: 0.8642 - val_recall: 0.6931 - lr: 0.0010\n",
      "Epoch 47/500\n",
      "11/11 [==============================] - 0s 12ms/step - loss: 0.3613 - precision: 0.9486 - recall: 0.8990 - val_loss: 0.9249 - val_precision: 0.8572 - val_recall: 0.6885 - lr: 0.0010\n",
      "Epoch 48/500\n",
      "11/11 [==============================] - 0s 22ms/step - loss: 0.3590 - precision: 0.9471 - recall: 0.8996 - val_loss: 0.9221 - val_precision: 0.8530 - val_recall: 0.6920 - lr: 0.0010\n",
      "Epoch 49/500\n",
      "11/11 [==============================] - 0s 23ms/step - loss: 0.3534 - precision: 0.9481 - recall: 0.9019 - val_loss: 0.9178 - val_precision: 0.8474 - val_recall: 0.6924 - lr: 0.0010\n",
      "Epoch 50/500\n",
      "11/11 [==============================] - 0s 21ms/step - loss: 0.3561 - precision: 0.9471 - recall: 0.9011 - val_loss: 0.9141 - val_precision: 0.8448 - val_recall: 0.6951 - lr: 0.0010\n",
      "Epoch 51/500\n",
      "11/11 [==============================] - 0s 22ms/step - loss: 0.3498 - precision: 0.9493 - recall: 0.9031 - val_loss: 0.9095 - val_precision: 0.8457 - val_recall: 0.7020 - lr: 0.0010\n",
      "Epoch 52/500\n",
      "11/11 [==============================] - 0s 20ms/step - loss: 0.3475 - precision: 0.9488 - recall: 0.9048 - val_loss: 0.9089 - val_precision: 0.8421 - val_recall: 0.7035 - lr: 0.0010\n",
      "Epoch 53/500\n",
      "11/11 [==============================] - 0s 16ms/step - loss: 0.3443 - precision: 0.9495 - recall: 0.9062 - val_loss: 0.9089 - val_precision: 0.8390 - val_recall: 0.7039 - lr: 0.0010\n",
      "Epoch 54/500\n",
      "11/11 [==============================] - 0s 10ms/step - loss: 0.3440 - precision: 0.9474 - recall: 0.9045 - val_loss: 0.9105 - val_precision: 0.8286 - val_recall: 0.6974 - lr: 0.0010\n",
      "Epoch 55/500\n",
      "11/11 [==============================] - 0s 11ms/step - loss: 0.3423 - precision: 0.9476 - recall: 0.9043 - val_loss: 0.9102 - val_precision: 0.8225 - val_recall: 0.6931 - lr: 0.0010\n",
      "Epoch 56/500\n",
      "11/11 [==============================] - 0s 23ms/step - loss: 0.3353 - precision: 0.9488 - recall: 0.9087 - val_loss: 0.9060 - val_precision: 0.8240 - val_recall: 0.6985 - lr: 0.0010\n",
      "Epoch 57/500\n",
      "11/11 [==============================] - 0s 24ms/step - loss: 0.3341 - precision: 0.9479 - recall: 0.9078 - val_loss: 0.9023 - val_precision: 0.8252 - val_recall: 0.7008 - lr: 0.0010\n",
      "Epoch 58/500\n",
      "11/11 [==============================] - 0s 17ms/step - loss: 0.3308 - precision: 0.9484 - recall: 0.9099 - val_loss: 0.9019 - val_precision: 0.8197 - val_recall: 0.6977 - lr: 0.0010\n",
      "Epoch 59/500\n",
      "11/11 [==============================] - 0s 25ms/step - loss: 0.3228 - precision: 0.9503 - recall: 0.9116 - val_loss: 0.8952 - val_precision: 0.8256 - val_recall: 0.7066 - lr: 0.0010\n",
      "Epoch 60/500\n",
      "11/11 [==============================] - 0s 19ms/step - loss: 0.3266 - precision: 0.9486 - recall: 0.9065 - val_loss: 0.8922 - val_precision: 0.8245 - val_recall: 0.7062 - lr: 0.0010\n",
      "Epoch 61/500\n",
      "11/11 [==============================] - 0s 26ms/step - loss: 0.3209 - precision: 0.9489 - recall: 0.9111 - val_loss: 0.8870 - val_precision: 0.8244 - val_recall: 0.7096 - lr: 0.0010\n",
      "Epoch 62/500\n",
      "11/11 [==============================] - 0s 22ms/step - loss: 0.3179 - precision: 0.9508 - recall: 0.9107 - val_loss: 0.8863 - val_precision: 0.8193 - val_recall: 0.7062 - lr: 0.0010\n",
      "Epoch 63/500\n",
      "11/11 [==============================] - 0s 25ms/step - loss: 0.3152 - precision: 0.9481 - recall: 0.9111 - val_loss: 0.8841 - val_precision: 0.8166 - val_recall: 0.7035 - lr: 0.0010\n",
      "Epoch 64/500\n",
      "11/11 [==============================] - 0s 12ms/step - loss: 0.3149 - precision: 0.9500 - recall: 0.9107 - val_loss: 0.8860 - val_precision: 0.8115 - val_recall: 0.6985 - lr: 0.0010\n",
      "Epoch 65/500\n",
      "11/11 [==============================] - 0s 22ms/step - loss: 0.3127 - precision: 0.9503 - recall: 0.9116 - val_loss: 0.8807 - val_precision: 0.8207 - val_recall: 0.7077 - lr: 0.0010\n",
      "Epoch 66/500\n",
      "11/11 [==============================] - 0s 24ms/step - loss: 0.3087 - precision: 0.9479 - recall: 0.9102 - val_loss: 0.8735 - val_precision: 0.8264 - val_recall: 0.7158 - lr: 0.0010\n",
      "Epoch 67/500\n",
      "11/11 [==============================] - 0s 23ms/step - loss: 0.3064 - precision: 0.9491 - recall: 0.9129 - val_loss: 0.8696 - val_precision: 0.8275 - val_recall: 0.7177 - lr: 0.0010\n",
      "Epoch 68/500\n",
      "11/11 [==============================] - 0s 11ms/step - loss: 0.3059 - precision: 0.9471 - recall: 0.9130 - val_loss: 0.8697 - val_precision: 0.8238 - val_recall: 0.7158 - lr: 0.0010\n",
      "Epoch 69/500\n",
      "11/11 [==============================] - 0s 25ms/step - loss: 0.3030 - precision: 0.9484 - recall: 0.9138 - val_loss: 0.8616 - val_precision: 0.8311 - val_recall: 0.7211 - lr: 0.0010\n",
      "Epoch 70/500\n",
      "11/11 [==============================] - 0s 25ms/step - loss: 0.3013 - precision: 0.9483 - recall: 0.9129 - val_loss: 0.8580 - val_precision: 0.8320 - val_recall: 0.7257 - lr: 0.0010\n",
      "Epoch 71/500\n",
      "11/11 [==============================] - 0s 23ms/step - loss: 0.3014 - precision: 0.9477 - recall: 0.9126 - val_loss: 0.8524 - val_precision: 0.8374 - val_recall: 0.7307 - lr: 0.0010\n",
      "Epoch 72/500\n",
      "11/11 [==============================] - 0s 25ms/step - loss: 0.3005 - precision: 0.9466 - recall: 0.9138 - val_loss: 0.8435 - val_precision: 0.8398 - val_recall: 0.7361 - lr: 0.0010\n",
      "Epoch 73/500\n",
      "11/11 [==============================] - 0s 17ms/step - loss: 0.2937 - precision: 0.9474 - recall: 0.9142 - val_loss: 0.8364 - val_precision: 0.8430 - val_recall: 0.7395 - lr: 0.0010\n",
      "Epoch 74/500\n",
      "11/11 [==============================] - 0s 22ms/step - loss: 0.2988 - precision: 0.9474 - recall: 0.9128 - val_loss: 0.8328 - val_precision: 0.8447 - val_recall: 0.7407 - lr: 0.0010\n",
      "Epoch 75/500\n",
      "11/11 [==============================] - 0s 11ms/step - loss: 0.2954 - precision: 0.9478 - recall: 0.9180 - val_loss: 0.8368 - val_precision: 0.8406 - val_recall: 0.7346 - lr: 0.0010\n",
      "Epoch 76/500\n",
      "11/11 [==============================] - 0s 10ms/step - loss: 0.2918 - precision: 0.9464 - recall: 0.9155 - val_loss: 0.8356 - val_precision: 0.8393 - val_recall: 0.7334 - lr: 0.0010\n",
      "Epoch 77/500\n",
      "11/11 [==============================] - 0s 24ms/step - loss: 0.2873 - precision: 0.9483 - recall: 0.9159 - val_loss: 0.8304 - val_precision: 0.8398 - val_recall: 0.7380 - lr: 0.0010\n",
      "Epoch 78/500\n",
      "11/11 [==============================] - 0s 22ms/step - loss: 0.2853 - precision: 0.9457 - recall: 0.9164 - val_loss: 0.8229 - val_precision: 0.8448 - val_recall: 0.7415 - lr: 0.0010\n",
      "Epoch 79/500\n",
      "11/11 [==============================] - 0s 22ms/step - loss: 0.2876 - precision: 0.9465 - recall: 0.9160 - val_loss: 0.8155 - val_precision: 0.8480 - val_recall: 0.7445 - lr: 0.0010\n",
      "Epoch 80/500\n",
      "11/11 [==============================] - 0s 22ms/step - loss: 0.2801 - precision: 0.9472 - recall: 0.9158 - val_loss: 0.8108 - val_precision: 0.8510 - val_recall: 0.7472 - lr: 0.0010\n",
      "Epoch 81/500\n",
      "11/11 [==============================] - 0s 11ms/step - loss: 0.2843 - precision: 0.9468 - recall: 0.9182 - val_loss: 0.8121 - val_precision: 0.8484 - val_recall: 0.7430 - lr: 0.0010\n",
      "Epoch 82/500\n",
      "11/11 [==============================] - 0s 21ms/step - loss: 0.2823 - precision: 0.9483 - recall: 0.9172 - val_loss: 0.8079 - val_precision: 0.8490 - val_recall: 0.7442 - lr: 0.0010\n",
      "Epoch 83/500\n",
      "11/11 [==============================] - 0s 19ms/step - loss: 0.2803 - precision: 0.9472 - recall: 0.9165 - val_loss: 0.8001 - val_precision: 0.8527 - val_recall: 0.7484 - lr: 0.0010\n"
     ]
    },
    {
     "name": "stdout",
     "output_type": "stream",
     "text": [
      "Epoch 84/500\n",
      "11/11 [==============================] - 0s 24ms/step - loss: 0.2768 - precision: 0.9469 - recall: 0.9188 - val_loss: 0.7979 - val_precision: 0.8535 - val_recall: 0.7488 - lr: 0.0010\n",
      "Epoch 85/500\n",
      "11/11 [==============================] - 0s 10ms/step - loss: 0.2796 - precision: 0.9472 - recall: 0.9190 - val_loss: 0.7988 - val_precision: 0.8535 - val_recall: 0.7488 - lr: 0.0010\n",
      "Epoch 86/500\n",
      "11/11 [==============================] - 0s 23ms/step - loss: 0.2757 - precision: 0.9499 - recall: 0.9193 - val_loss: 0.7910 - val_precision: 0.8521 - val_recall: 0.7491 - lr: 0.0010\n",
      "Epoch 87/500\n",
      "11/11 [==============================] - 0s 25ms/step - loss: 0.2718 - precision: 0.9463 - recall: 0.9164 - val_loss: 0.7828 - val_precision: 0.8549 - val_recall: 0.7526 - lr: 0.0010\n",
      "Epoch 88/500\n",
      "11/11 [==============================] - 0s 21ms/step - loss: 0.2717 - precision: 0.9469 - recall: 0.9163 - val_loss: 0.7713 - val_precision: 0.8576 - val_recall: 0.7599 - lr: 0.0010\n",
      "Epoch 89/500\n",
      "11/11 [==============================] - 0s 22ms/step - loss: 0.2716 - precision: 0.9485 - recall: 0.9183 - val_loss: 0.7630 - val_precision: 0.8581 - val_recall: 0.7629 - lr: 0.0010\n",
      "Epoch 90/500\n",
      "11/11 [==============================] - 0s 26ms/step - loss: 0.2682 - precision: 0.9479 - recall: 0.9182 - val_loss: 0.7570 - val_precision: 0.8582 - val_recall: 0.7660 - lr: 0.0010\n",
      "Epoch 91/500\n",
      "11/11 [==============================] - 0s 19ms/step - loss: 0.2653 - precision: 0.9479 - recall: 0.9176 - val_loss: 0.7489 - val_precision: 0.8618 - val_recall: 0.7702 - lr: 0.0010\n",
      "Epoch 92/500\n",
      "11/11 [==============================] - 0s 24ms/step - loss: 0.2653 - precision: 0.9472 - recall: 0.9173 - val_loss: 0.7443 - val_precision: 0.8611 - val_recall: 0.7752 - lr: 0.0010\n",
      "Epoch 93/500\n",
      "11/11 [==============================] - 0s 23ms/step - loss: 0.2620 - precision: 0.9473 - recall: 0.9166 - val_loss: 0.7386 - val_precision: 0.8628 - val_recall: 0.7768 - lr: 0.0010\n",
      "Epoch 94/500\n",
      "11/11 [==============================] - 0s 24ms/step - loss: 0.2641 - precision: 0.9469 - recall: 0.9164 - val_loss: 0.7345 - val_precision: 0.8626 - val_recall: 0.7802 - lr: 0.0010\n",
      "Epoch 95/500\n",
      "11/11 [==============================] - 0s 21ms/step - loss: 0.2617 - precision: 0.9451 - recall: 0.9171 - val_loss: 0.7301 - val_precision: 0.8631 - val_recall: 0.7833 - lr: 0.0010\n",
      "Epoch 96/500\n",
      "11/11 [==============================] - 0s 17ms/step - loss: 0.2594 - precision: 0.9489 - recall: 0.9227 - val_loss: 0.7231 - val_precision: 0.8624 - val_recall: 0.7860 - lr: 0.0010\n",
      "Epoch 97/500\n",
      "11/11 [==============================] - 0s 10ms/step - loss: 0.2582 - precision: 0.9484 - recall: 0.9207 - val_loss: 0.7320 - val_precision: 0.8609 - val_recall: 0.7810 - lr: 0.0010\n",
      "Epoch 98/500\n",
      "11/11 [==============================] - 0s 11ms/step - loss: 0.2562 - precision: 0.9474 - recall: 0.9194 - val_loss: 0.7270 - val_precision: 0.8619 - val_recall: 0.7806 - lr: 0.0010\n",
      "Epoch 99/500\n",
      "11/11 [==============================] - 0s 28ms/step - loss: 0.2535 - precision: 0.9469 - recall: 0.9204 - val_loss: 0.7215 - val_precision: 0.8618 - val_recall: 0.7844 - lr: 0.0010\n",
      "Epoch 100/500\n",
      "11/11 [==============================] - 0s 25ms/step - loss: 0.2531 - precision: 0.9486 - recall: 0.9198 - val_loss: 0.7186 - val_precision: 0.8625 - val_recall: 0.7871 - lr: 0.0010\n",
      "Epoch 101/500\n",
      "11/11 [==============================] - 0s 21ms/step - loss: 0.2551 - precision: 0.9482 - recall: 0.9223 - val_loss: 0.7132 - val_precision: 0.8635 - val_recall: 0.7886 - lr: 0.0010\n",
      "Epoch 102/500\n",
      "11/11 [==============================] - 0s 21ms/step - loss: 0.2513 - precision: 0.9496 - recall: 0.9237 - val_loss: 0.7085 - val_precision: 0.8637 - val_recall: 0.7902 - lr: 0.0010\n",
      "Epoch 103/500\n",
      "11/11 [==============================] - 0s 21ms/step - loss: 0.2520 - precision: 0.9468 - recall: 0.9206 - val_loss: 0.7032 - val_precision: 0.8620 - val_recall: 0.7906 - lr: 0.0010\n",
      "Epoch 104/500\n",
      "11/11 [==============================] - 0s 21ms/step - loss: 0.2463 - precision: 0.9466 - recall: 0.9213 - val_loss: 0.6970 - val_precision: 0.8630 - val_recall: 0.7929 - lr: 0.0010\n",
      "Epoch 105/500\n",
      "11/11 [==============================] - 0s 24ms/step - loss: 0.2483 - precision: 0.9460 - recall: 0.9220 - val_loss: 0.6941 - val_precision: 0.8633 - val_recall: 0.7971 - lr: 0.0010\n",
      "Epoch 106/500\n",
      "11/11 [==============================] - 0s 26ms/step - loss: 0.2483 - precision: 0.9462 - recall: 0.9212 - val_loss: 0.6874 - val_precision: 0.8669 - val_recall: 0.8017 - lr: 0.0010\n",
      "Epoch 107/500\n",
      "11/11 [==============================] - 0s 22ms/step - loss: 0.2466 - precision: 0.9481 - recall: 0.9220 - val_loss: 0.6874 - val_precision: 0.8658 - val_recall: 0.7994 - lr: 0.0010\n",
      "Epoch 108/500\n",
      "11/11 [==============================] - 0s 27ms/step - loss: 0.2512 - precision: 0.9447 - recall: 0.9200 - val_loss: 0.6868 - val_precision: 0.8658 - val_recall: 0.7971 - lr: 0.0010\n",
      "Epoch 109/500\n",
      "11/11 [==============================] - 0s 12ms/step - loss: 0.2456 - precision: 0.9465 - recall: 0.9220 - val_loss: 0.6873 - val_precision: 0.8657 - val_recall: 0.7963 - lr: 0.0010\n",
      "Epoch 110/500\n",
      "11/11 [==============================] - 0s 20ms/step - loss: 0.2403 - precision: 0.9478 - recall: 0.9231 - val_loss: 0.6840 - val_precision: 0.8657 - val_recall: 0.7963 - lr: 0.0010\n",
      "Epoch 111/500\n",
      "11/11 [==============================] - 0s 26ms/step - loss: 0.2427 - precision: 0.9484 - recall: 0.9221 - val_loss: 0.6786 - val_precision: 0.8659 - val_recall: 0.7979 - lr: 0.0010\n",
      "Epoch 112/500\n",
      "11/11 [==============================] - 0s 21ms/step - loss: 0.2404 - precision: 0.9476 - recall: 0.9216 - val_loss: 0.6777 - val_precision: 0.8672 - val_recall: 0.7994 - lr: 0.0010\n",
      "Epoch 113/500\n",
      "11/11 [==============================] - 0s 24ms/step - loss: 0.2390 - precision: 0.9475 - recall: 0.9213 - val_loss: 0.6770 - val_precision: 0.8656 - val_recall: 0.8002 - lr: 0.0010\n",
      "Epoch 114/500\n",
      "11/11 [==============================] - 0s 23ms/step - loss: 0.2381 - precision: 0.9483 - recall: 0.9256 - val_loss: 0.6705 - val_precision: 0.8649 - val_recall: 0.8028 - lr: 0.0010\n",
      "Epoch 115/500\n",
      "11/11 [==============================] - 0s 24ms/step - loss: 0.2365 - precision: 0.9476 - recall: 0.9202 - val_loss: 0.6657 - val_precision: 0.8673 - val_recall: 0.8048 - lr: 0.0010\n",
      "Epoch 116/500\n",
      "11/11 [==============================] - 0s 21ms/step - loss: 0.2384 - precision: 0.9485 - recall: 0.9211 - val_loss: 0.6639 - val_precision: 0.8680 - val_recall: 0.8044 - lr: 0.0010\n",
      "Epoch 117/500\n",
      "11/11 [==============================] - 0s 21ms/step - loss: 0.2332 - precision: 0.9492 - recall: 0.9238 - val_loss: 0.6631 - val_precision: 0.8682 - val_recall: 0.8036 - lr: 0.0010\n",
      "Epoch 118/500\n",
      "11/11 [==============================] - 0s 27ms/step - loss: 0.2376 - precision: 0.9476 - recall: 0.9215 - val_loss: 0.6612 - val_precision: 0.8682 - val_recall: 0.8032 - lr: 0.0010\n",
      "Epoch 119/500\n",
      "11/11 [==============================] - 0s 24ms/step - loss: 0.2349 - precision: 0.9467 - recall: 0.9218 - val_loss: 0.6583 - val_precision: 0.8672 - val_recall: 0.8063 - lr: 0.0010\n",
      "Epoch 120/500\n",
      "11/11 [==============================] - 0s 10ms/step - loss: 0.2340 - precision: 0.9460 - recall: 0.9222 - val_loss: 0.6600 - val_precision: 0.8680 - val_recall: 0.8074 - lr: 0.0010\n",
      "Epoch 121/500\n",
      "11/11 [==============================] - 0s 10ms/step - loss: 0.2347 - precision: 0.9479 - recall: 0.9238 - val_loss: 0.6585 - val_precision: 0.8661 - val_recall: 0.8067 - lr: 0.0010\n",
      "Epoch 122/500\n",
      "11/11 [==============================] - 0s 21ms/step - loss: 0.2323 - precision: 0.9462 - recall: 0.9238 - val_loss: 0.6574 - val_precision: 0.8643 - val_recall: 0.8059 - lr: 0.0010\n",
      "Epoch 123/500\n",
      "11/11 [==============================] - 0s 23ms/step - loss: 0.2331 - precision: 0.9468 - recall: 0.9216 - val_loss: 0.6549 - val_precision: 0.8639 - val_recall: 0.8059 - lr: 0.0010\n",
      "Epoch 124/500\n",
      "11/11 [==============================] - 0s 25ms/step - loss: 0.2293 - precision: 0.9474 - recall: 0.9222 - val_loss: 0.6487 - val_precision: 0.8647 - val_recall: 0.8067 - lr: 0.0010\n",
      "Epoch 125/500\n",
      "11/11 [==============================] - 0s 20ms/step - loss: 0.2303 - precision: 0.9487 - recall: 0.9228 - val_loss: 0.6466 - val_precision: 0.8647 - val_recall: 0.8063 - lr: 0.0010\n"
     ]
    },
    {
     "name": "stdout",
     "output_type": "stream",
     "text": [
      "Epoch 126/500\n",
      "11/11 [==============================] - 0s 11ms/step - loss: 0.2284 - precision: 0.9467 - recall: 0.9224 - val_loss: 0.6473 - val_precision: 0.8643 - val_recall: 0.8063 - lr: 0.0010\n",
      "Epoch 127/500\n",
      "11/11 [==============================] - 0s 10ms/step - loss: 0.2279 - precision: 0.9460 - recall: 0.9232 - val_loss: 0.6575 - val_precision: 0.8606 - val_recall: 0.7982 - lr: 0.0010\n",
      "Epoch 128/500\n",
      "11/11 [==============================] - 0s 10ms/step - loss: 0.2284 - precision: 0.9475 - recall: 0.9225 - val_loss: 0.6511 - val_precision: 0.8622 - val_recall: 0.7994 - lr: 0.0010\n",
      "Epoch 129/500\n",
      "11/11 [==============================] - 0s 10ms/step - loss: 0.2273 - precision: 0.9483 - recall: 0.9226 - val_loss: 0.6477 - val_precision: 0.8646 - val_recall: 0.8036 - lr: 0.0010\n",
      "Epoch 130/500\n",
      "11/11 [==============================] - 0s 24ms/step - loss: 0.2259 - precision: 0.9482 - recall: 0.9237 - val_loss: 0.6457 - val_precision: 0.8639 - val_recall: 0.8059 - lr: 0.0010\n",
      "Epoch 131/500\n",
      "11/11 [==============================] - 0s 22ms/step - loss: 0.2241 - precision: 0.9468 - recall: 0.9232 - val_loss: 0.6416 - val_precision: 0.8643 - val_recall: 0.8063 - lr: 0.0010\n",
      "Epoch 132/500\n",
      "11/11 [==============================] - 0s 26ms/step - loss: 0.2237 - precision: 0.9475 - recall: 0.9248 - val_loss: 0.6371 - val_precision: 0.8640 - val_recall: 0.8090 - lr: 0.0010\n",
      "Epoch 133/500\n",
      "11/11 [==============================] - 0s 24ms/step - loss: 0.2213 - precision: 0.9477 - recall: 0.9228 - val_loss: 0.6364 - val_precision: 0.8643 - val_recall: 0.8109 - lr: 0.0010\n",
      "Epoch 134/500\n",
      "11/11 [==============================] - 0s 21ms/step - loss: 0.2203 - precision: 0.9476 - recall: 0.9251 - val_loss: 0.6343 - val_precision: 0.8640 - val_recall: 0.8094 - lr: 0.0010\n",
      "Epoch 135/500\n",
      "11/11 [==============================] - 0s 24ms/step - loss: 0.2165 - precision: 0.9477 - recall: 0.9271 - val_loss: 0.6309 - val_precision: 0.8650 - val_recall: 0.8113 - lr: 0.0010\n",
      "Epoch 136/500\n",
      "11/11 [==============================] - 0s 11ms/step - loss: 0.2212 - precision: 0.9462 - recall: 0.9247 - val_loss: 0.6331 - val_precision: 0.8627 - val_recall: 0.8097 - lr: 0.0010\n",
      "Epoch 137/500\n",
      "11/11 [==============================] - 0s 20ms/step - loss: 0.2213 - precision: 0.9470 - recall: 0.9248 - val_loss: 0.6305 - val_precision: 0.8636 - val_recall: 0.8109 - lr: 0.0010\n",
      "Epoch 138/500\n",
      "11/11 [==============================] - 0s 24ms/step - loss: 0.2174 - precision: 0.9485 - recall: 0.9265 - val_loss: 0.6280 - val_precision: 0.8627 - val_recall: 0.8120 - lr: 0.0010\n",
      "Epoch 139/500\n",
      "11/11 [==============================] - 0s 11ms/step - loss: 0.2161 - precision: 0.9480 - recall: 0.9279 - val_loss: 0.6334 - val_precision: 0.8605 - val_recall: 0.8090 - lr: 0.0010\n",
      "Epoch 140/500\n",
      "11/11 [==============================] - 0s 11ms/step - loss: 0.2202 - precision: 0.9477 - recall: 0.9270 - val_loss: 0.6338 - val_precision: 0.8595 - val_recall: 0.8097 - lr: 0.0010\n",
      "Epoch 141/500\n",
      "11/11 [==============================] - 0s 11ms/step - loss: 0.2169 - precision: 0.9456 - recall: 0.9237 - val_loss: 0.6307 - val_precision: 0.8617 - val_recall: 0.8101 - lr: 0.0010\n",
      "Epoch 142/500\n",
      "11/11 [==============================] - 0s 22ms/step - loss: 0.2175 - precision: 0.9474 - recall: 0.9263 - val_loss: 0.6259 - val_precision: 0.8615 - val_recall: 0.8113 - lr: 0.0010\n",
      "Epoch 143/500\n",
      "11/11 [==============================] - 0s 11ms/step - loss: 0.2146 - precision: 0.9463 - recall: 0.9240 - val_loss: 0.6260 - val_precision: 0.8588 - val_recall: 0.8117 - lr: 0.0010\n",
      "Epoch 144/500\n",
      "11/11 [==============================] - 0s 24ms/step - loss: 0.2143 - precision: 0.9470 - recall: 0.9255 - val_loss: 0.6256 - val_precision: 0.8596 - val_recall: 0.8101 - lr: 0.0010\n",
      "Epoch 145/500\n",
      "11/11 [==============================] - 0s 11ms/step - loss: 0.2161 - precision: 0.9472 - recall: 0.9253 - val_loss: 0.6258 - val_precision: 0.8591 - val_recall: 0.8113 - lr: 0.0010\n",
      "Epoch 146/500\n",
      "11/11 [==============================] - 0s 22ms/step - loss: 0.2107 - precision: 0.9497 - recall: 0.9283 - val_loss: 0.6241 - val_precision: 0.8606 - val_recall: 0.8124 - lr: 0.0010\n",
      "Epoch 147/500\n",
      "11/11 [==============================] - 0s 26ms/step - loss: 0.2112 - precision: 0.9481 - recall: 0.9264 - val_loss: 0.6232 - val_precision: 0.8603 - val_recall: 0.8105 - lr: 0.0010\n",
      "Epoch 148/500\n",
      "11/11 [==============================] - 0s 18ms/step - loss: 0.2133 - precision: 0.9465 - recall: 0.9252 - val_loss: 0.6228 - val_precision: 0.8595 - val_recall: 0.8117 - lr: 0.0010\n",
      "Epoch 149/500\n",
      "11/11 [==============================] - 0s 11ms/step - loss: 0.2111 - precision: 0.9464 - recall: 0.9257 - val_loss: 0.6229 - val_precision: 0.8600 - val_recall: 0.8128 - lr: 0.0010\n",
      "Epoch 150/500\n",
      "11/11 [==============================] - 0s 23ms/step - loss: 0.2111 - precision: 0.9498 - recall: 0.9241 - val_loss: 0.6224 - val_precision: 0.8589 - val_recall: 0.8124 - lr: 0.0010\n",
      "Epoch 151/500\n",
      "11/11 [==============================] - 0s 24ms/step - loss: 0.2092 - precision: 0.9472 - recall: 0.9250 - val_loss: 0.6185 - val_precision: 0.8600 - val_recall: 0.8128 - lr: 0.0010\n",
      "Epoch 152/500\n",
      "11/11 [==============================] - 0s 25ms/step - loss: 0.2104 - precision: 0.9460 - recall: 0.9240 - val_loss: 0.6178 - val_precision: 0.8635 - val_recall: 0.8128 - lr: 0.0010\n",
      "Epoch 153/500\n",
      "11/11 [==============================] - 0s 11ms/step - loss: 0.2111 - precision: 0.9473 - recall: 0.9267 - val_loss: 0.6198 - val_precision: 0.8610 - val_recall: 0.8124 - lr: 0.0010\n",
      "Epoch 154/500\n",
      "11/11 [==============================] - 0s 10ms/step - loss: 0.2092 - precision: 0.9468 - recall: 0.9253 - val_loss: 0.6188 - val_precision: 0.8599 - val_recall: 0.8124 - lr: 0.0010\n",
      "Epoch 155/500\n",
      "11/11 [==============================] - 0s 26ms/step - loss: 0.2067 - precision: 0.9452 - recall: 0.9257 - val_loss: 0.6161 - val_precision: 0.8610 - val_recall: 0.8128 - lr: 0.0010\n",
      "Epoch 156/500\n",
      "11/11 [==============================] - 0s 11ms/step - loss: 0.2075 - precision: 0.9469 - recall: 0.9285 - val_loss: 0.6330 - val_precision: 0.8573 - val_recall: 0.8040 - lr: 0.0010\n",
      "Epoch 157/500\n",
      "11/11 [==============================] - 0s 11ms/step - loss: 0.2098 - precision: 0.9455 - recall: 0.9233 - val_loss: 0.6270 - val_precision: 0.8591 - val_recall: 0.8090 - lr: 0.0010\n",
      "Epoch 158/500\n",
      "11/11 [==============================] - 0s 12ms/step - loss: 0.2047 - precision: 0.9462 - recall: 0.9252 - val_loss: 0.6204 - val_precision: 0.8600 - val_recall: 0.8105 - lr: 0.0010\n",
      "Epoch 159/500\n",
      "11/11 [==============================] - 0s 11ms/step - loss: 0.2057 - precision: 0.9471 - recall: 0.9266 - val_loss: 0.6219 - val_precision: 0.8585 - val_recall: 0.8097 - lr: 0.0010\n",
      "Epoch 160/500\n",
      "11/11 [==============================] - 0s 11ms/step - loss: 0.2081 - precision: 0.9471 - recall: 0.9235 - val_loss: 0.6195 - val_precision: 0.8580 - val_recall: 0.8136 - lr: 0.0010\n",
      "Epoch 161/500\n",
      "11/11 [==============================] - 0s 26ms/step - loss: 0.2050 - precision: 0.9483 - recall: 0.9273 - val_loss: 0.6157 - val_precision: 0.8588 - val_recall: 0.8143 - lr: 0.0010\n",
      "Epoch 162/500\n",
      "11/11 [==============================] - 0s 11ms/step - loss: 0.2041 - precision: 0.9480 - recall: 0.9277 - val_loss: 0.6188 - val_precision: 0.8571 - val_recall: 0.8124 - lr: 0.0010\n",
      "Epoch 163/500\n",
      "11/11 [==============================] - 0s 10ms/step - loss: 0.2003 - precision: 0.9496 - recall: 0.9313 - val_loss: 0.6158 - val_precision: 0.8566 - val_recall: 0.8132 - lr: 0.0010\n",
      "Epoch 164/500\n",
      "11/11 [==============================] - 0s 22ms/step - loss: 0.2033 - precision: 0.9491 - recall: 0.9289 - val_loss: 0.6141 - val_precision: 0.8564 - val_recall: 0.8124 - lr: 0.0010\n",
      "Epoch 165/500\n",
      "11/11 [==============================] - 0s 24ms/step - loss: 0.2043 - precision: 0.9479 - recall: 0.9280 - val_loss: 0.6132 - val_precision: 0.8560 - val_recall: 0.8120 - lr: 0.0010\n",
      "Epoch 166/500\n",
      "11/11 [==============================] - 0s 24ms/step - loss: 0.2002 - precision: 0.9473 - recall: 0.9253 - val_loss: 0.6125 - val_precision: 0.8566 - val_recall: 0.8132 - lr: 0.0010\n",
      "Epoch 167/500\n",
      "11/11 [==============================] - 0s 11ms/step - loss: 0.2011 - precision: 0.9479 - recall: 0.9267 - val_loss: 0.6134 - val_precision: 0.8554 - val_recall: 0.8120 - lr: 0.0010\n"
     ]
    },
    {
     "name": "stdout",
     "output_type": "stream",
     "text": [
      "Epoch 168/500\n",
      "11/11 [==============================] - 0s 11ms/step - loss: 0.2003 - precision: 0.9482 - recall: 0.9290 - val_loss: 0.6130 - val_precision: 0.8569 - val_recall: 0.8105 - lr: 0.0010\n",
      "Epoch 169/500\n",
      "11/11 [==============================] - 0s 21ms/step - loss: 0.1984 - precision: 0.9462 - recall: 0.9264 - val_loss: 0.6080 - val_precision: 0.8571 - val_recall: 0.8147 - lr: 0.0010\n",
      "Epoch 170/500\n",
      "11/11 [==============================] - 0s 10ms/step - loss: 0.2005 - precision: 0.9474 - recall: 0.9269 - val_loss: 0.6132 - val_precision: 0.8557 - val_recall: 0.8120 - lr: 0.0010\n",
      "Epoch 171/500\n",
      "11/11 [==============================] - 0s 10ms/step - loss: 0.2003 - precision: 0.9478 - recall: 0.9285 - val_loss: 0.6155 - val_precision: 0.8562 - val_recall: 0.8109 - lr: 0.0010\n",
      "Epoch 172/500\n",
      "11/11 [==============================] - 0s 10ms/step - loss: 0.1985 - precision: 0.9480 - recall: 0.9292 - val_loss: 0.6105 - val_precision: 0.8591 - val_recall: 0.8140 - lr: 0.0010\n",
      "Epoch 173/500\n",
      "11/11 [==============================] - 0s 23ms/step - loss: 0.1999 - precision: 0.9483 - recall: 0.9285 - val_loss: 0.6059 - val_precision: 0.8596 - val_recall: 0.8128 - lr: 0.0010\n",
      "Epoch 174/500\n",
      "11/11 [==============================] - 0s 11ms/step - loss: 0.2003 - precision: 0.9466 - recall: 0.9271 - val_loss: 0.6069 - val_precision: 0.8573 - val_recall: 0.8136 - lr: 0.0010\n",
      "Epoch 175/500\n",
      "11/11 [==============================] - 0s 12ms/step - loss: 0.2005 - precision: 0.9470 - recall: 0.9247 - val_loss: 0.6079 - val_precision: 0.8569 - val_recall: 0.8105 - lr: 0.0010\n",
      "Epoch 176/500\n",
      "11/11 [==============================] - 0s 21ms/step - loss: 0.1954 - precision: 0.9473 - recall: 0.9288 - val_loss: 0.6047 - val_precision: 0.8559 - val_recall: 0.8113 - lr: 0.0010\n",
      "Epoch 177/500\n",
      "11/11 [==============================] - 0s 10ms/step - loss: 0.1968 - precision: 0.9480 - recall: 0.9261 - val_loss: 0.6074 - val_precision: 0.8551 - val_recall: 0.8101 - lr: 0.0010\n",
      "Epoch 178/500\n",
      "11/11 [==============================] - 0s 10ms/step - loss: 0.1964 - precision: 0.9486 - recall: 0.9274 - val_loss: 0.6057 - val_precision: 0.8569 - val_recall: 0.8109 - lr: 0.0010\n",
      "Epoch 179/500\n",
      "11/11 [==============================] - 0s 10ms/step - loss: 0.1972 - precision: 0.9482 - recall: 0.9289 - val_loss: 0.6066 - val_precision: 0.8560 - val_recall: 0.8097 - lr: 0.0010\n",
      "Epoch 180/500\n",
      "11/11 [==============================] - 0s 23ms/step - loss: 0.1975 - precision: 0.9468 - recall: 0.9261 - val_loss: 0.6039 - val_precision: 0.8566 - val_recall: 0.8136 - lr: 0.0010\n",
      "Epoch 181/500\n",
      "11/11 [==============================] - 0s 23ms/step - loss: 0.1989 - precision: 0.9476 - recall: 0.9276 - val_loss: 0.6031 - val_precision: 0.8565 - val_recall: 0.8128 - lr: 0.0010\n",
      "Epoch 182/500\n",
      "11/11 [==============================] - 0s 11ms/step - loss: 0.1973 - precision: 0.9489 - recall: 0.9293 - val_loss: 0.6034 - val_precision: 0.8555 - val_recall: 0.8128 - lr: 0.0010\n",
      "Epoch 183/500\n",
      "11/11 [==============================] - 0s 11ms/step - loss: 0.1931 - precision: 0.9463 - recall: 0.9256 - val_loss: 0.6040 - val_precision: 0.8563 - val_recall: 0.8117 - lr: 0.0010\n",
      "Epoch 184/500\n",
      "11/11 [==============================] - 0s 24ms/step - loss: 0.1937 - precision: 0.9476 - recall: 0.9275 - val_loss: 0.6007 - val_precision: 0.8568 - val_recall: 0.8124 - lr: 0.0010\n",
      "Epoch 185/500\n",
      "11/11 [==============================] - 0s 10ms/step - loss: 0.1915 - precision: 0.9502 - recall: 0.9310 - val_loss: 0.6053 - val_precision: 0.8558 - val_recall: 0.8082 - lr: 0.0010\n",
      "Epoch 186/500\n",
      "11/11 [==============================] - 0s 10ms/step - loss: 0.1929 - precision: 0.9489 - recall: 0.9280 - val_loss: 0.6058 - val_precision: 0.8561 - val_recall: 0.8078 - lr: 0.0010\n",
      "Epoch 187/500\n",
      "11/11 [==============================] - 0s 10ms/step - loss: 0.1903 - precision: 0.9474 - recall: 0.9284 - val_loss: 0.6038 - val_precision: 0.8554 - val_recall: 0.8120 - lr: 0.0010\n",
      "Epoch 188/500\n",
      "11/11 [==============================] - 0s 23ms/step - loss: 0.1946 - precision: 0.9468 - recall: 0.9275 - val_loss: 0.5998 - val_precision: 0.8563 - val_recall: 0.8140 - lr: 0.0010\n",
      "Epoch 189/500\n",
      "11/11 [==============================] - 0s 11ms/step - loss: 0.1925 - precision: 0.9465 - recall: 0.9280 - val_loss: 0.5998 - val_precision: 0.8560 - val_recall: 0.8143 - lr: 0.0010\n",
      "Epoch 190/500\n",
      "11/11 [==============================] - 0s 11ms/step - loss: 0.1897 - precision: 0.9481 - recall: 0.9285 - val_loss: 0.6053 - val_precision: 0.8543 - val_recall: 0.8120 - lr: 0.0010\n",
      "Epoch 191/500\n",
      "11/11 [==============================] - 0s 22ms/step - loss: 0.1932 - precision: 0.9477 - recall: 0.9301 - val_loss: 0.5986 - val_precision: 0.8555 - val_recall: 0.8132 - lr: 0.0010\n",
      "Epoch 192/500\n",
      "11/11 [==============================] - 0s 27ms/step - loss: 0.1940 - precision: 0.9467 - recall: 0.9266 - val_loss: 0.5932 - val_precision: 0.8559 - val_recall: 0.8109 - lr: 0.0010\n",
      "Epoch 193/500\n",
      "11/11 [==============================] - 0s 11ms/step - loss: 0.1961 - precision: 0.9456 - recall: 0.9238 - val_loss: 0.5942 - val_precision: 0.8566 - val_recall: 0.8132 - lr: 0.0010\n",
      "Epoch 194/500\n",
      "11/11 [==============================] - 0s 11ms/step - loss: 0.1901 - precision: 0.9461 - recall: 0.9262 - val_loss: 0.5987 - val_precision: 0.8555 - val_recall: 0.8128 - lr: 0.0010\n",
      "Epoch 195/500\n",
      "11/11 [==============================] - 0s 12ms/step - loss: 0.1892 - precision: 0.9474 - recall: 0.9271 - val_loss: 0.6047 - val_precision: 0.8536 - val_recall: 0.8120 - lr: 0.0010\n",
      "Epoch 196/500\n",
      "11/11 [==============================] - 0s 11ms/step - loss: 0.1899 - precision: 0.9467 - recall: 0.9271 - val_loss: 0.6040 - val_precision: 0.8551 - val_recall: 0.8101 - lr: 0.0010\n",
      "Epoch 197/500\n",
      "11/11 [==============================] - 0s 10ms/step - loss: 0.1890 - precision: 0.9474 - recall: 0.9293 - val_loss: 0.6002 - val_precision: 0.8535 - val_recall: 0.8155 - lr: 0.0010\n",
      "Epoch 198/500\n",
      "11/11 [==============================] - 0s 10ms/step - loss: 0.1908 - precision: 0.9462 - recall: 0.9287 - val_loss: 0.5992 - val_precision: 0.8561 - val_recall: 0.8147 - lr: 0.0010\n",
      "Epoch 199/500\n",
      "11/11 [==============================] - 0s 10ms/step - loss: 0.1888 - precision: 0.9484 - recall: 0.9296 - val_loss: 0.6041 - val_precision: 0.8536 - val_recall: 0.8143 - lr: 0.0010\n",
      "Epoch 200/500\n",
      "11/11 [==============================] - 0s 10ms/step - loss: 0.1872 - precision: 0.9473 - recall: 0.9292 - val_loss: 0.6054 - val_precision: 0.8547 - val_recall: 0.8147 - lr: 0.0010\n",
      "Epoch 201/500\n",
      "11/11 [==============================] - 0s 11ms/step - loss: 0.1908 - precision: 0.9497 - recall: 0.9292 - val_loss: 0.6056 - val_precision: 0.8544 - val_recall: 0.8124 - lr: 0.0010\n",
      "Epoch 202/500\n",
      "11/11 [==============================] - 0s 11ms/step - loss: 0.1883 - precision: 0.9462 - recall: 0.9278 - val_loss: 0.6092 - val_precision: 0.8541 - val_recall: 0.8132 - lr: 0.0010\n",
      "Epoch 203/500\n",
      "11/11 [==============================] - 0s 11ms/step - loss: 0.1864 - precision: 0.9462 - recall: 0.9270 - val_loss: 0.6058 - val_precision: 0.8521 - val_recall: 0.8136 - lr: 0.0010\n",
      "Epoch 204/500\n",
      "11/11 [==============================] - 0s 10ms/step - loss: 0.1900 - precision: 0.9463 - recall: 0.9259 - val_loss: 0.6001 - val_precision: 0.8522 - val_recall: 0.8140 - lr: 0.0010\n",
      "Epoch 205/500\n",
      "11/11 [==============================] - 0s 10ms/step - loss: 0.1889 - precision: 0.9458 - recall: 0.9256 - val_loss: 0.5974 - val_precision: 0.8551 - val_recall: 0.8147 - lr: 0.0010\n",
      "Epoch 206/500\n",
      "11/11 [==============================] - 0s 10ms/step - loss: 0.1877 - precision: 0.9459 - recall: 0.9290 - val_loss: 0.5975 - val_precision: 0.8548 - val_recall: 0.8151 - lr: 0.0010\n",
      "Epoch 207/500\n",
      "11/11 [==============================] - 0s 10ms/step - loss: 0.1863 - precision: 0.9489 - recall: 0.9290 - val_loss: 0.5957 - val_precision: 0.8530 - val_recall: 0.8166 - lr: 0.0010\n",
      "Epoch 208/500\n",
      "11/11 [==============================] - 0s 11ms/step - loss: 0.1853 - precision: 0.9468 - recall: 0.9282 - val_loss: 0.5986 - val_precision: 0.8522 - val_recall: 0.8140 - lr: 0.0010\n",
      "Epoch 209/500\n",
      "11/11 [==============================] - 0s 11ms/step - loss: 0.1878 - precision: 0.9483 - recall: 0.9285 - val_loss: 0.5977 - val_precision: 0.8541 - val_recall: 0.8174 - lr: 0.0010\n"
     ]
    },
    {
     "name": "stdout",
     "output_type": "stream",
     "text": [
      "Epoch 210/500\n",
      "11/11 [==============================] - 0s 23ms/step - loss: 0.1865 - precision: 0.9463 - recall: 0.9257 - val_loss: 0.5902 - val_precision: 0.8557 - val_recall: 0.8166 - lr: 0.0010\n",
      "Epoch 211/500\n",
      "11/11 [==============================] - 0s 11ms/step - loss: 0.1857 - precision: 0.9455 - recall: 0.9256 - val_loss: 0.5932 - val_precision: 0.8555 - val_recall: 0.8155 - lr: 0.0010\n",
      "Epoch 212/500\n",
      "11/11 [==============================] - 0s 10ms/step - loss: 0.1855 - precision: 0.9470 - recall: 0.9292 - val_loss: 0.5968 - val_precision: 0.8537 - val_recall: 0.8147 - lr: 0.0010\n",
      "Epoch 213/500\n",
      "11/11 [==============================] - 0s 10ms/step - loss: 0.1864 - precision: 0.9474 - recall: 0.9295 - val_loss: 0.6029 - val_precision: 0.8551 - val_recall: 0.8151 - lr: 0.0010\n",
      "Epoch 214/500\n",
      "11/11 [==============================] - 0s 11ms/step - loss: 0.1852 - precision: 0.9445 - recall: 0.9282 - val_loss: 0.6013 - val_precision: 0.8542 - val_recall: 0.8155 - lr: 0.0010\n",
      "Epoch 215/500\n",
      "11/11 [==============================] - 0s 11ms/step - loss: 0.1852 - precision: 0.9459 - recall: 0.9239 - val_loss: 0.5977 - val_precision: 0.8544 - val_recall: 0.8170 - lr: 0.0010\n",
      "Epoch 216/500\n",
      "11/11 [==============================] - 0s 10ms/step - loss: 0.1826 - precision: 0.9467 - recall: 0.9298 - val_loss: 0.5974 - val_precision: 0.8530 - val_recall: 0.8189 - lr: 0.0010\n",
      "Epoch 217/500\n",
      "11/11 [==============================] - 0s 10ms/step - loss: 0.1839 - precision: 0.9473 - recall: 0.9293 - val_loss: 0.5996 - val_precision: 0.8544 - val_recall: 0.8170 - lr: 0.0010\n",
      "Epoch 218/500\n",
      "11/11 [==============================] - 0s 11ms/step - loss: 0.1838 - precision: 0.9472 - recall: 0.9269 - val_loss: 0.5978 - val_precision: 0.8542 - val_recall: 0.8201 - lr: 0.0010\n",
      "Epoch 219/500\n",
      "11/11 [==============================] - 0s 10ms/step - loss: 0.1829 - precision: 0.9460 - recall: 0.9272 - val_loss: 0.5947 - val_precision: 0.8535 - val_recall: 0.8182 - lr: 0.0010\n",
      "Epoch 220/500\n",
      "11/11 [==============================] - 0s 11ms/step - loss: 0.1847 - precision: 0.9470 - recall: 0.9286 - val_loss: 0.5946 - val_precision: 0.8524 - val_recall: 0.8155 - lr: 0.0010\n",
      "Epoch 221/500\n",
      "11/11 [==============================] - 0s 11ms/step - loss: 0.1844 - precision: 0.9462 - recall: 0.9255 - val_loss: 0.5918 - val_precision: 0.8537 - val_recall: 0.8147 - lr: 0.0010\n",
      "Epoch 222/500\n",
      "11/11 [==============================] - 0s 10ms/step - loss: 0.1806 - precision: 0.9473 - recall: 0.9311 - val_loss: 0.5902 - val_precision: 0.8554 - val_recall: 0.8189 - lr: 0.0010\n",
      "Epoch 223/500\n",
      "11/11 [==============================] - 0s 10ms/step - loss: 0.1792 - precision: 0.9489 - recall: 0.9315 - val_loss: 0.5915 - val_precision: 0.8519 - val_recall: 0.8166 - lr: 0.0010\n",
      "Epoch 224/500\n",
      "11/11 [==============================] - 0s 10ms/step - loss: 0.1839 - precision: 0.9466 - recall: 0.9280 - val_loss: 0.5985 - val_precision: 0.8483 - val_recall: 0.8151 - lr: 0.0010\n",
      "Epoch 225/500\n",
      "11/11 [==============================] - 0s 10ms/step - loss: 0.1825 - precision: 0.9458 - recall: 0.9281 - val_loss: 0.5990 - val_precision: 0.8490 - val_recall: 0.8109 - lr: 0.0010\n",
      "Epoch 226/500\n",
      "11/11 [==============================] - 0s 11ms/step - loss: 0.1794 - precision: 0.9500 - recall: 0.9301 - val_loss: 0.6003 - val_precision: 0.8473 - val_recall: 0.8132 - lr: 0.0010\n",
      "Epoch 227/500\n",
      "11/11 [==============================] - 0s 11ms/step - loss: 0.1822 - precision: 0.9466 - recall: 0.9287 - val_loss: 0.6014 - val_precision: 0.8481 - val_recall: 0.8136 - lr: 0.0010\n",
      "Epoch 228/500\n",
      "11/11 [==============================] - 0s 10ms/step - loss: 0.1787 - precision: 0.9459 - recall: 0.9286 - val_loss: 0.5991 - val_precision: 0.8475 - val_recall: 0.8124 - lr: 0.0010\n",
      "Epoch 229/500\n",
      "11/11 [==============================] - 0s 10ms/step - loss: 0.1798 - precision: 0.9488 - recall: 0.9303 - val_loss: 0.5962 - val_precision: 0.8492 - val_recall: 0.8166 - lr: 0.0010\n",
      "Epoch 230/500\n",
      "11/11 [==============================] - 0s 10ms/step - loss: 0.1803 - precision: 0.9484 - recall: 0.9293 - val_loss: 0.6028 - val_precision: 0.8485 - val_recall: 0.8140 - lr: 0.0010\n",
      "Epoch 231/500\n",
      "11/11 [==============================] - 0s 10ms/step - loss: 0.1818 - precision: 0.9442 - recall: 0.9256 - val_loss: 0.5984 - val_precision: 0.8486 - val_recall: 0.8147 - lr: 0.0010\n",
      "Epoch 232/500\n",
      "11/11 [==============================] - 0s 10ms/step - loss: 0.1777 - precision: 0.9470 - recall: 0.9288 - val_loss: 0.5904 - val_precision: 0.8545 - val_recall: 0.8201 - lr: 0.0010\n",
      "Epoch 233/500\n",
      "11/11 [==============================] - 0s 11ms/step - loss: 0.1796 - precision: 0.9456 - recall: 0.9292 - val_loss: 0.5921 - val_precision: 0.8558 - val_recall: 0.8197 - lr: 0.0010\n",
      "Epoch 234/500\n",
      "11/11 [==============================] - 0s 10ms/step - loss: 0.1808 - precision: 0.9455 - recall: 0.9256 - val_loss: 0.5997 - val_precision: 0.8510 - val_recall: 0.8151 - lr: 0.0010\n",
      "Epoch 235/500\n",
      "11/11 [==============================] - 0s 10ms/step - loss: 0.1811 - precision: 0.9451 - recall: 0.9290 - val_loss: 0.6051 - val_precision: 0.8470 - val_recall: 0.8136 - lr: 0.0010\n",
      "Epoch 236/500\n",
      "11/11 [==============================] - 0s 10ms/step - loss: 0.1787 - precision: 0.9464 - recall: 0.9278 - val_loss: 0.6001 - val_precision: 0.8472 - val_recall: 0.8166 - lr: 0.0010\n",
      "Epoch 237/500\n",
      "11/11 [==============================] - 0s 10ms/step - loss: 0.1756 - precision: 0.9492 - recall: 0.9331 - val_loss: 0.6056 - val_precision: 0.8470 - val_recall: 0.8132 - lr: 0.0010\n",
      "Epoch 238/500\n",
      "11/11 [==============================] - 0s 11ms/step - loss: 0.1794 - precision: 0.9481 - recall: 0.9291 - val_loss: 0.5993 - val_precision: 0.8487 - val_recall: 0.8132 - lr: 0.0010\n",
      "Epoch 239/500\n",
      "11/11 [==============================] - 0s 10ms/step - loss: 0.1748 - precision: 0.9472 - recall: 0.9282 - val_loss: 0.5953 - val_precision: 0.8499 - val_recall: 0.8186 - lr: 0.0010\n",
      "Epoch 240/500\n",
      "11/11 [==============================] - 0s 10ms/step - loss: 0.1771 - precision: 0.9467 - recall: 0.9283 - val_loss: 0.5960 - val_precision: 0.8502 - val_recall: 0.8163 - lr: 0.0010\n",
      "Unweighted f1: 0.8517637397586804, Weighted f1: 0.8374816449844547\n"
     ]
    }
   ],
   "source": [
    "# tc.fit_ensemble(5e-3,0.1)"
   ]
  },
  {
   "cell_type": "markdown",
   "metadata": {},
   "source": [
    "# Prediction test"
   ]
  },
  {
   "cell_type": "code",
   "execution_count": 19,
   "metadata": {},
   "outputs": [
    {
     "data": {
      "text/plain": [
       "'/home/kamin/Thai_NLP'"
      ]
     },
     "execution_count": 19,
     "metadata": {},
     "output_type": "execute_result"
    }
   ],
   "source": [
    "os.chdir('..')\n",
    "os.getcwd()"
   ]
  },
  {
   "cell_type": "code",
   "execution_count": 3,
   "metadata": {
    "scrolled": true
   },
   "outputs": [
    {
     "name": "stdout",
     "output_type": "stream",
     "text": [
      "loading deeplearning model\n",
      "loading logistic regression model\n",
      "loading the embedder and tokenizer\n"
     ]
    },
    {
     "name": "stderr",
     "output_type": "stream",
     "text": [
      "Warning : `load_model` does not return WordVectorModel or SupervisedModel any more, but a `FastText` object which is very similar.\n"
     ]
    }
   ],
   "source": [
    "TC = Text_classification_for_prediction( path_to_tfxidf= 'models_for_real_deployment/tf-idf_encoder.joblib',\n",
    "                                        model_path = 'models_for_real_deployment/text_classification')"
   ]
  },
  {
   "cell_type": "code",
   "execution_count": 4,
   "metadata": {},
   "outputs": [
    {
     "data": {
      "text/plain": [
       "{'logistic_regression': {'billing and payment': 0.04239599199883396,\n",
       "  'international dialing': 0.002549459155609322,\n",
       "  'internet': 0.9208810924214039,\n",
       "  'lost and stolen': 0.0012800403966359952,\n",
       "  'other queries': 0.023315610086824624,\n",
       "  'promotions': 0.007684539984556279,\n",
       "  'true money': 0.0018932659561359188},\n",
       " 'deeplearning': {'billing and payment': 0.028904313,\n",
       "  'promotions': 0.0071565504,\n",
       "  'other queries': 0.007842738,\n",
       "  'internet': 0.9531318,\n",
       "  'international dialing': 0.0022579879,\n",
       "  'true money': 0.0004241576,\n",
       "  'lost and stolen': 0.0002824572}}"
      ]
     },
     "execution_count": 4,
     "metadata": {},
     "output_type": "execute_result"
    }
   ],
   "source": [
    "TC.predict('ทำไมอินเตอร์เนตผมช้ามากๆเลยครับ')"
   ]
  },
  {
   "cell_type": "code",
   "execution_count": 5,
   "metadata": {},
   "outputs": [
    {
     "data": {
      "text/plain": [
       "{'logistic_regression': {'billing and payment': 0.04957993119467105,\n",
       "  'international dialing': 0.01410676326467718,\n",
       "  'internet': 0.06836631971022208,\n",
       "  'lost and stolen': 0.8019789371395918,\n",
       "  'other queries': 0.03284068079988682,\n",
       "  'promotions': 0.03211143365895513,\n",
       "  'true money': 0.0010159342319958995},\n",
       " 'deeplearning': {'billing and payment': 0.0014396305,\n",
       "  'promotions': 4.500933e-05,\n",
       "  'other queries': 0.0007126399,\n",
       "  'internet': 0.00016222849,\n",
       "  'international dialing': 5.7639336e-05,\n",
       "  'true money': 1.607708e-05,\n",
       "  'lost and stolen': 0.9975668}}"
      ]
     },
     "execution_count": 5,
     "metadata": {},
     "output_type": "execute_result"
    }
   ],
   "source": [
    "TC.predict('โทรศัพท์ผมหาย ผมต้องทำยังไงบ้างครับ')"
   ]
  },
  {
   "cell_type": "code",
   "execution_count": 6,
   "metadata": {},
   "outputs": [
    {
     "data": {
      "text/plain": [
       "{'logistic_regression': {'billing and payment': 0.009000535616081102,\n",
       "  'international dialing': 0.9136489626289862,\n",
       "  'internet': 0.004919699100065405,\n",
       "  'lost and stolen': 0.0023058219177843234,\n",
       "  'other queries': 0.053685728274877664,\n",
       "  'promotions': 0.014218651980250626,\n",
       "  'true money': 0.0022206004819546364},\n",
       " 'deeplearning': {'billing and payment': 0.003268424,\n",
       "  'promotions': 0.0007003219,\n",
       "  'other queries': 0.0016304805,\n",
       "  'internet': 0.0005526525,\n",
       "  'international dialing': 0.99374676,\n",
       "  'true money': 3.111233e-05,\n",
       "  'lost and stolen': 7.024724e-05}}"
      ]
     },
     "execution_count": 6,
     "metadata": {},
     "output_type": "execute_result"
    }
   ],
   "source": [
    "TC.predict('สอบถามบริการโทรต่างประเทศน่ะครับ')"
   ]
  },
  {
   "cell_type": "code",
   "execution_count": null,
   "metadata": {},
   "outputs": [],
   "source": []
  }
 ],
 "metadata": {
  "kernelspec": {
   "display_name": "Python 3",
   "language": "python",
   "name": "python3"
  },
  "language_info": {
   "codemirror_mode": {
    "name": "ipython",
    "version": 3
   },
   "file_extension": ".py",
   "mimetype": "text/x-python",
   "name": "python",
   "nbconvert_exporter": "python",
   "pygments_lexer": "ipython3",
   "version": "3.6.9"
  }
 },
 "nbformat": 4,
 "nbformat_minor": 2
}
