{
 "cells": [
  {
   "cell_type": "code",
   "execution_count": 1,
   "metadata": {},
   "outputs": [],
   "source": [
    "import os\n",
    "import pandas as pd\n",
    "import numpy as np"
   ]
  },
  {
   "cell_type": "code",
   "execution_count": 2,
   "metadata": {},
   "outputs": [],
   "source": [
    "from preprocessing import Word_Embedder\n",
    "from preprocessing import Text_processing\n",
    "from text_classification import Text_classification, Text_classification_for_prediction\n",
    "from text_classification import prepare_data_for_text_classification"
   ]
  },
  {
   "cell_type": "code",
   "execution_count": 3,
   "metadata": {},
   "outputs": [],
   "source": [
    "tp = Text_processing(max_len=64,min_len=5,min_len_character=2)"
   ]
  },
  {
   "cell_type": "code",
   "execution_count": 4,
   "metadata": {},
   "outputs": [],
   "source": [
    "os.chdir('E:\\\\Coding_projects\\\\data\\\\NER\\\\BEST10\\\\Current\\\\all_without_sw_clean2')"
   ]
  },
  {
   "cell_type": "code",
   "execution_count": 5,
   "metadata": {},
   "outputs": [],
   "source": [
    "texts = []\n",
    "with open('BEST10_no_sw_te.txt', 'r', encoding='utf8') as f:\n",
    "    for line in f:\n",
    "        line = line.strip()\n",
    "        if line != '':\n",
    "            texts.append(line)"
   ]
  },
  {
   "cell_type": "code",
   "execution_count": 6,
   "metadata": {},
   "outputs": [
    {
     "data": {
      "text/plain": [
       "4020"
      ]
     },
     "execution_count": 6,
     "metadata": {},
     "output_type": "execute_result"
    }
   ],
   "source": [
    "len(texts)"
   ]
  },
  {
   "cell_type": "code",
   "execution_count": 7,
   "metadata": {},
   "outputs": [],
   "source": [
    "out = tp.preprocessing2(texts=texts,do_padding=True)"
   ]
  },
  {
   "cell_type": "code",
   "execution_count": 8,
   "metadata": {},
   "outputs": [
    {
     "data": {
      "text/plain": [
       "{'VV': 0,\n",
       " 'NN': 1,\n",
       " 'CD': 2,\n",
       " 'COMP': 3,\n",
       " 'JJA': 4,\n",
       " 'P': 5,\n",
       " 'CL': 6,\n",
       " 'OD': 7,\n",
       " 'DDEM': 8,\n",
       " 'ADV': 9,\n",
       " 'CNJ': 10,\n",
       " 'FXN': 11,\n",
       " 'NR': 12,\n",
       " 'JJV': 13,\n",
       " 'AUX': 14,\n",
       " 'NEG': 15,\n",
       " 'PDT': 16,\n",
       " 'FWN': 17,\n",
       " 'FWX': 18,\n",
       " 'FWA': 19,\n",
       " 'FXAV': 20,\n",
       " 'PPER': 21,\n",
       " 'PU': 22,\n",
       " 'VA': 23,\n",
       " 'IJ': 24,\n",
       " 'PINT': 25,\n",
       " 'DINT': 26,\n",
       " 'PDEM': 27,\n",
       " 'FXG': 28,\n",
       " 'REFX': 29,\n",
       " 'FXAJ': 30,\n",
       " 'DPER': 31,\n",
       " 'PAR': 32,\n",
       " 'FWV': 33}"
      ]
     },
     "execution_count": 8,
     "metadata": {},
     "output_type": "execute_result"
    }
   ],
   "source": [
    "out[1]"
   ]
  },
  {
   "cell_type": "code",
   "execution_count": 9,
   "metadata": {},
   "outputs": [
    {
     "name": "stdout",
     "output_type": "stream",
     "text": [
      "4020\n",
      "4020\n",
      "4020\n"
     ]
    }
   ],
   "source": [
    "print(len(out[0][0][0]))\n",
    "print(len(out[0][0][1]))\n",
    "print(len(out[0][1]))\n",
    "for i in out[0][0][0]:\n",
    "    if len(i) != 64:\n",
    "        print(i)\n",
    "for i in out[0][0][1]:\n",
    "    if len(i) != 64:\n",
    "        print(i)\n",
    "for i in out[0][1]:\n",
    "    if len(i) != 64:\n",
    "        print(len(i))"
   ]
  },
  {
   "cell_type": "code",
   "execution_count": null,
   "metadata": {},
   "outputs": [],
   "source": []
  }
 ],
 "metadata": {
  "kernelspec": {
   "display_name": "text_bay",
   "language": "python",
   "name": "text_bay"
  },
  "language_info": {
   "codemirror_mode": {
    "name": "ipython",
    "version": 3
   },
   "file_extension": ".py",
   "mimetype": "text/x-python",
   "name": "python",
   "nbconvert_exporter": "python",
   "pygments_lexer": "ipython3",
   "version": "3.6.10"
  }
 },
 "nbformat": 4,
 "nbformat_minor": 2
}
